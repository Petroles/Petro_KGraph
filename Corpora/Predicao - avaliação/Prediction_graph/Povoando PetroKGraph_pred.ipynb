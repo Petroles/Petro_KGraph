{
 "cells": [
  {
   "cell_type": "markdown",
   "id": "c9f8fca6-e871-4dd2-af72-991e932c7967",
   "metadata": {},
   "source": [
    "### Notebook para povoar a PetroKGraph ontology com as entidades e relações extraídas do PetroNER teste"
   ]
  },
  {
   "cell_type": "code",
   "execution_count": 1,
   "id": "3a21df2b-5218-4f29-84d8-6bd012c09851",
   "metadata": {},
   "outputs": [],
   "source": [
    "from owlready2 import *\n",
    "import json"
   ]
  },
  {
   "cell_type": "markdown",
   "id": "1d4c677a-b46a-4f01-b02e-bc7c616762dd",
   "metadata": {},
   "source": [
    "### Carregando listas com entidades e relações"
   ]
  },
  {
   "cell_type": "code",
   "execution_count": 2,
   "id": "0b26f958-8a16-4415-b954-2c607bccd1d2",
   "metadata": {},
   "outputs": [],
   "source": [
    "# Carregando entidades linkadas\n",
    "with open('Linked_entities', 'r') as f:\n",
    "    Linked_entities = json.load(f)\n",
    "\n",
    "# Carregando entidades novas\n",
    "with open('New_entities', 'r') as f:\n",
    "    New_entities = json.load(f)\n",
    "    \n",
    "# Carregando novas relações\n",
    "with open('New_relations', 'r') as f:\n",
    "    New_relations = json.load(f)"
   ]
  },
  {
   "cell_type": "markdown",
   "id": "a0c47b69-caab-48d2-ab76-498aca88e754",
   "metadata": {},
   "source": [
    "### Carregando PetroKGraph (ontologia povoada) e consultando a classe de cada entidade linkada"
   ]
  },
  {
   "cell_type": "code",
   "execution_count": 3,
   "id": "b68061aa-c853-42da-af59-1c0e30f19537",
   "metadata": {},
   "outputs": [
    {
     "data": {
      "text/plain": [
       "get_ontology(\"http://www.semanticweb.org/bg40/ontologies/2022/5/untitled-ontology-2#\")"
      ]
     },
     "execution_count": 3,
     "metadata": {},
     "output_type": "execute_result"
    }
   ],
   "source": [
    "#Carregando PetroKGraph (ontologia povoada)\n",
    "PetroKGraph = get_ontology(\"../../../KnowledgeGraph/OntoGeoLogicaInstanciasRelacoes.owl\")\n",
    "PetroKGraph.load()"
   ]
  },
  {
   "cell_type": "code",
   "execution_count": 4,
   "id": "8e2328f0-efce-475c-babc-a2a3a8e54e3e",
   "metadata": {
    "scrolled": true,
    "tags": []
   },
   "outputs": [],
   "source": [
    "# lista com as Classes das entidades linkadas\n",
    "classes = []\n",
    "\n",
    "for ent in Linked_entities:\n",
    "    \n",
    "    classe = PetroKGraph[ent[1:]].is_a\n",
    "    classe_str = str(classe[0]).split('.')[1]\n",
    "    classes.append(classe_str)"
   ]
  },
  {
   "cell_type": "code",
   "execution_count": 5,
   "id": "f1cfcec1-60ed-4db6-a5d7-4bd9e6a415ca",
   "metadata": {},
   "outputs": [],
   "source": [
    "# Apagando da memória a ontologia povoada\n",
    "PetroKGraph.destroy()"
   ]
  },
  {
   "cell_type": "markdown",
   "id": "6ea79429-e6db-4e6c-8ec7-5a17dedf4806",
   "metadata": {},
   "source": [
    "### Carregando ontologia não povoada"
   ]
  },
  {
   "cell_type": "code",
   "execution_count": 7,
   "id": "81f72a37-12bb-48b8-a808-cb1fc9433034",
   "metadata": {},
   "outputs": [
    {
     "data": {
      "text/plain": [
       "get_ontology(\"http://www.semanticweb.org/bg40/ontologies/2022/5/untitled-ontology-2#\")"
      ]
     },
     "execution_count": 7,
     "metadata": {},
     "output_type": "execute_result"
    }
   ],
   "source": [
    "#Carregando ontologias (não povoada)\n",
    "onto = get_ontology(\"../../../KnowledgeGraph/OntoGeoLogicaEntidadesNomeadas.owl\")\n",
    "onto.load()"
   ]
  },
  {
   "cell_type": "code",
   "execution_count": 8,
   "id": "eb64ee9d-a39d-4e88-94c6-98517962c7ff",
   "metadata": {
    "scrolled": true,
    "tags": []
   },
   "outputs": [
    {
     "name": "stdout",
     "output_type": "stream",
     "text": [
      "BASE_CD_BACIA_020  --  basin\n",
      "formacao_154  --  lithostratigraphic_unit\n",
      "formacao_056  --  lithostratigraphic_unit\n",
      "volcanic_rock  --  rock\n",
      "Quaternary  --  geological_time_interval\n",
      "Maastrichtian  --  geological_time_interval\n",
      "formacao_153  --  lithostratigraphic_unit\n",
      "diabase  --  rock\n",
      "Oligocene  --  geological_time_interval\n",
      "membro_010  --  lithostratigraphic_unit\n",
      "calciarenite  --  rock\n",
      "Asbian_Subage  --  geological_time_interval\n",
      "membro_045  --  lithostratigraphic_unit\n",
      "BASE_CD_BACIA_051  --  basin\n",
      "Middle_Albian_Subage  --  geological_time_interval\n",
      "POCO_CD_POCO_023089  --  well\n",
      "conglomerate  --  rock\n",
      "BASE_CD_BACIA_096  --  basin\n",
      "Silurian  --  geological_time_interval\n",
      "TEFR_CD_TIPO_EST_FISICA_ROCHA_173  --  geological_structure\n",
      "SD_000  --  lithostratigraphic_unit\n",
      "formacao_130  --  lithostratigraphic_unit\n",
      "BASE_CD_BACIA_106  --  basin\n",
      "anhydrite  --  rock\n",
      "BASE_CD_BACIA_220  --  basin\n",
      "Campanian  --  geological_time_interval\n",
      "Mississippian  --  geological_time_interval\n",
      "formacao_335  --  lithostratigraphic_unit\n",
      "migmatite  --  rock\n",
      "quartzite  --  rock\n",
      "Cretaceous  --  geological_time_interval\n",
      "oil  --  o&g_earth_fluid\n",
      "sedimentary_rock  --  rock\n",
      "LowerCretaceous  --  geological_time_interval\n",
      "mudstone  --  rock\n",
      "formacao_145  --  lithostratigraphic_unit\n",
      "CAMP_CD_CAMPO_0536  --  field\n",
      "Paleocene  --  geological_time_interval\n",
      "BASE_CD_BACIA_250  --  basin\n",
      "CAMP_CD_CAMPO_0916  --  field\n",
      "TEFR_CD_TIPO_EST_FISICA_ROCHA_161  --  geological_structure\n",
      "coal  --  rock\n",
      "formacao_253  --  lithostratigraphic_unit\n",
      "formacao_239  --  lithostratigraphic_unit\n",
      "formacao_305  --  lithostratigraphic_unit\n",
      "POCO_CD_POCO_023092  --  well\n",
      "Jiquia_Age  --  geological_time_interval\n",
      "BASE_CD_BACIA_281  --  basin\n",
      "Turonian  --  geological_time_interval\n",
      "Coniacian  --  geological_time_interval\n",
      "sandstone  --  rock\n",
      "TEFR_CD_TIPO_EST_FISICA_ROCHA_142  --  geological_structure\n",
      "CAMP_CD_CAMPO_0519  --  field\n",
      "membro_019  --  lithostratigraphic_unit\n",
      "BASE_CD_BACIA_116  --  basin\n",
      "formacao_158  --  lithostratigraphic_unit\n",
      "Santonian  --  geological_time_interval\n",
      "Upper_Aptian_Subage  --  geological_time_interval\n",
      "BASE_CD_BACIA_240  --  basin\n",
      "siliciclasticos  --  rock\n",
      "Devonian  --  geological_time_interval\n",
      "CAMP_CD_CAMPO_0734  --  field\n",
      "Holocene  --  geological_time_interval\n",
      "Aratu_Age  --  geological_time_interval\n",
      "Permian  --  geological_time_interval\n",
      "granite  --  rock\n",
      "BASE_CD_BACIA_316  --  basin\n",
      "formacao_279  --  lithostratigraphic_unit\n",
      "well  --  object_aggregate\n",
      "CAMP_CD_CAMPO_0750  --  field\n",
      "Dom_Joao_Age  --  geological_time_interval\n",
      "BASE_CD_BACIA_100  --  basin\n",
      "BASE_CD_BACIA_270  --  basin\n",
      "silt  --  unconsolidated_earth_material\n",
      "Eocene  --  geological_time_interval\n",
      "gas  --  o&g_earth_fluid\n",
      "formacao_009  --  lithostratigraphic_unit\n",
      "formacao_254  --  lithostratigraphic_unit\n",
      "hydrocarbon  --  o&g_earth_fluid\n",
      "POCO_CD_POCO_023047  --  well\n",
      "formacao_242  --  lithostratigraphic_unit\n",
      "BASE_CD_BACIA_080  --  basin\n",
      "Buracica_Age  --  geological_time_interval\n",
      "metassedimentar  --  rock\n",
      "Valanginian  --  geological_time_interval\n",
      "BASE_CD_BACIA_236  --  basin\n",
      "source_rock  --  petroleum_system_elements\n",
      "Carboniferous  --  geological_time_interval\n",
      "BASE_CD_BACIA_300  --  basin\n",
      "formacao_117  --  lithostratigraphic_unit\n",
      "Alagoas_Age  --  geological_time_interval\n",
      "tonalite  --  rock\n",
      "Lower_Valanginian_Subage  --  geological_time_interval\n",
      "hydrocarbon_migration  --  petroleum_system_events\n",
      "Upper_Albian_Subage  --  geological_time_interval\n",
      "formacao_216  --  lithostratigraphic_unit\n",
      "Lower_Albian_Subage  --  geological_time_interval\n",
      "marlstone  --  rock\n",
      "TEFR_CD_TIPO_EST_FISICA_ROCHA_139  --  geological_structure\n",
      "TEFR_CD_TIPO_EST_FISICA_ROCHA_036  --  geological_structure\n",
      "Cenozoic  --  geological_time_interval\n",
      "Berriasian  --  geological_time_interval\n",
      "Jurassic  --  geological_time_interval\n",
      "gipsita  --  rock\n",
      "formacao_095  --  lithostratigraphic_unit\n",
      "carbonatos  --  rock\n",
      "Cambrian  --  geological_time_interval\n",
      "basin  --  site\n",
      "TEFR_CD_TIPO_EST_FISICA_ROCHA_147  --  geological_structure\n",
      "Proterozoic  --  geological_time_interval\n",
      "Lower_Aptian_Subage  --  geological_time_interval\n",
      "BASE_CD_BACIA_076  --  basin\n",
      "TEFR_CD_TIPO_EST_FISICA_ROCHA_229  --  geological_structure\n",
      "rock  --  earth_material\n",
      "BASE_CD_BACIA_381  --  basin\n",
      "sand  --  unconsolidated_earth_material\n",
      "siltstone  --  rock\n",
      "Pleistocene  --  geological_time_interval\n",
      "Paleogene  --  geological_time_interval\n",
      "formacao_187  --  lithostratigraphic_unit\n",
      "UpperJurassic  --  geological_time_interval\n",
      "Lower_Cenomanian_Subage  --  geological_time_interval\n",
      "CAMP_CD_CAMPO_0881  --  field\n",
      "formacao_319  --  lithostratigraphic_unit\n",
      "POCO_CD_POCO_012879  --  well\n",
      "burial  --  petroleum_system_events\n",
      "Archean  --  geological_time_interval\n",
      "formacao_016  --  lithostratigraphic_unit\n",
      "Cenomanian  --  geological_time_interval\n",
      "Triassic  --  geological_time_interval\n",
      "CAMP_CD_CAMPO_0004  --  field\n",
      "Paleozoic  --  geological_time_interval\n",
      "TEFR_CD_TIPO_EST_FISICA_ROCHA_055  --  geological_structure\n",
      "textura_046  --  textura\n",
      "formacao_103  --  lithostratigraphic_unit\n",
      "TEFR_CD_TIPO_EST_FISICA_ROCHA_023  --  geological_structure\n",
      "CAMP_CD_CAMPO_0017  --  field\n",
      "igneous_rock  --  rock\n",
      "gravel  --  unconsolidated_earth_material\n",
      "formacao_214  --  lithostratigraphic_unit\n",
      "CAMP_CD_CAMPO_0760  --  field\n",
      "POCO_GENERICO  --  well\n",
      "seal  --  petroleum_system_elements\n",
      "Neoriodaserra_Subage  --  geological_time_interval\n",
      "rhyolite  --  rock\n",
      "BASE_CD_BACIA_275  --  basin\n",
      "lamito  --  rock\n",
      "POCO_CD_POCO_025253  --  well\n",
      "formacao_207  --  lithostratigraphic_unit\n",
      "formacao_102  --  lithostratigraphic_unit\n",
      "CAMP_CD_CAMPO_0575  --  field\n",
      "breccia  --  rock\n",
      "granitic_rock  --  rock\n",
      "BASE_CD_BACIA_030  --  basin\n",
      "schist  --  rock\n",
      "unconsolidated_earth_material  --  earth_material\n",
      "Hauterivian  --  geological_time_interval\n",
      "magma  --  rock\n",
      "textura_073  --  textura\n",
      "Mesozoic  --  geological_time_interval\n",
      "BASE_CD_BACIA_215  --  basin\n",
      "BASE_CD_BACIA_150  --  basin\n",
      "gneiss  --  rock\n",
      "grupo_000  --  lithostratigraphic_unit\n",
      "CAMP_CD_CAMPO_0951  --  field\n",
      "TEFR_CD_TIPO_EST_FISICA_ROCHA_004  --  geological_structure\n",
      "Miocene  --  geological_time_interval\n",
      "POCO_CD_POCO_023021  --  well\n",
      "CAMP_CD_CAMPO_0249  --  field\n",
      "clay  --  unconsolidated_earth_material\n",
      "shale  --  rock\n",
      "BASE_CD_BACIA_266  --  basin\n",
      "trachyte  --  rock\n",
      "formacao_113  --  lithostratigraphic_unit\n",
      "CAMP_CD_CAMPO_0773  --  field\n",
      "CAMP_CD_CAMPO_0082  --  field\n",
      "geological_structure  --  generically_dependent_continuant\n",
      "CAMP_CD_CAMPO_0523  --  field\n",
      "field  --  site\n",
      "formacao_149  --  lithostratigraphic_unit\n",
      "BASE_CD_BACIA_210  --  basin\n",
      "BASE_CD_BACIA_260  --  basin\n",
      "limestone  --  rock\n",
      "CAMP_CD_CAMPO_0383  --  field\n",
      "Upper_Turonian_Subage  --  geological_time_interval\n",
      "CAMP_CD_CAMPO_0179  --  field\n",
      "TEFR_CD_TIPO_EST_FISICA_ROCHA_058  --  geological_structure\n",
      "halite  --  rock\n",
      "TEFR_CD_TIPO_EST_FISICA_ROCHA_046  --  geological_structure\n",
      "TEFR_CD_TIPO_EST_FISICA_ROCHA_014  --  geological_structure\n",
      "Griesbachian_Subage  --  geological_time_interval\n",
      "Lower_Berriasian_Subage  --  geological_time_interval\n",
      "evaporite  --  rock\n",
      "membro_061  --  lithostratigraphic_unit\n",
      "UpperCretaceous  --  geological_time_interval\n",
      "igneous_sediment  --  unconsolidated_earth_material\n",
      "cobbles  --  unconsolidated_earth_material\n",
      "formacao_136  --  lithostratigraphic_unit\n",
      "grupo_038  --  lithostratigraphic_unit\n",
      "Lower_Barremian_Subage  --  geological_time_interval\n",
      "Barremian  --  geological_time_interval\n",
      "Albian  --  geological_time_interval\n",
      "grupo_022  --  lithostratigraphic_unit\n",
      "basalt  --  rock\n",
      "BASE_CD_BACIA_090  --  basin\n",
      "TEFR_CD_TIPO_EST_FISICA_ROCHA_066  --  geological_structure\n",
      "hydrocarbon_generation  --  petroleum_system_events\n",
      "POCO_CD_POCO_006789  --  well\n",
      "CAMP_CD_CAMPO_0682  --  field\n",
      "water  --  o&g_earth_fluid\n",
      "TEFR_CD_TIPO_EST_FISICA_ROCHA_059  --  geological_structure\n",
      "pyroclastic_rock  --  rock\n",
      "Aptian  --  geological_time_interval\n",
      "TEFR_CD_TIPO_EST_FISICA_ROCHA_048  --  geological_structure\n",
      "grupo_033  --  lithostratigraphic_unit\n",
      "POCO_CD_POCO_023090  --  well\n"
     ]
    }
   ],
   "source": [
    "# Povoando a ontologia com as entidades linkadas\n",
    "\n",
    "classes_w_instances = ['basin', 'field', 'geological_structure', 'well', 'textura', 'lithostratigraphic_unit']\n",
    "\n",
    "classes_w_sub_classes = ['rock', 'unconsolidated_earth_material', 'o&g_earth_fluid', 'earth_fluid', \n",
    "                         'anthropogenic_fluid', 'petroleum_system_events', 'petroleum_system_elements']\n",
    "\n",
    "crono = ['geological_age', 'geological_time_interval']\n",
    "\n",
    "for n in range(len(Linked_entities)):\n",
    "    # print (Linked_entities[n][1:], ' -- ', classes[n])\n",
    "    # Verificando se a entidade linkada não é uma classe que já está na ontologia\n",
    "    if Linked_entities[n][1:] not in classes_w_instances + classes_w_sub_classes + crono:\n",
    "        \n",
    "        # Povoando as classes com instâncias\n",
    "        if classes[n] in classes_w_instances:\n",
    "            with onto:\n",
    "                onto[classes[n]](Linked_entities[n][1:])\n",
    "\n",
    "        # Povoando as classes com subclasses\n",
    "        if classes[n] in classes_w_sub_classes:\n",
    "            with onto:\n",
    "                types.new_class(Linked_entities[n][1:], (onto[classes[n]],))\n",
    "                \n",
    "        if classes[n] in crono:\n",
    "            with onto:\n",
    "                types.new_class(Linked_entities[n][1:] + '_quality', (onto['geological_age'],))\n",
    "                onto['geological_time_interval'](Linked_entities[n][1:])"
   ]
  },
  {
   "cell_type": "markdown",
   "id": "653590b2-9593-4e00-850f-e8e0a4128620",
   "metadata": {},
   "source": [
    "### Povoar entidades novas"
   ]
  },
  {
   "cell_type": "markdown",
   "id": "b0ae5d54-bba8-43e2-ad7b-8af82f810023",
   "metadata": {},
   "source": [
    "### Povoar relações"
   ]
  },
  {
   "cell_type": "markdown",
   "id": "903663c0-02d5-48cf-8be6-caed15a65752",
   "metadata": {},
   "source": [
    "### Salvar grafo"
   ]
  },
  {
   "cell_type": "code",
   "execution_count": null,
   "id": "02aaee7c-0a91-4d32-b3a6-fa80d47d6ac1",
   "metadata": {},
   "outputs": [],
   "source": []
  }
 ],
 "metadata": {
  "kernelspec": {
   "display_name": "Python 3.6",
   "language": "python",
   "name": "python3"
  },
  "language_info": {
   "codemirror_mode": {
    "name": "ipython",
    "version": 3
   },
   "file_extension": ".py",
   "mimetype": "text/x-python",
   "name": "python",
   "nbconvert_exporter": "python",
   "pygments_lexer": "ipython3",
   "version": "3.6.8"
  }
 },
 "nbformat": 4,
 "nbformat_minor": 5
}
