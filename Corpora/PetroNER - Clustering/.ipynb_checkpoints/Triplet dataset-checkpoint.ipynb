{
 "cells": [
  {
   "cell_type": "code",
   "execution_count": 1,
   "id": "c5392406-540c-4768-82d6-8c4e96d12a80",
   "metadata": {},
   "outputs": [
    {
     "name": "stderr",
     "output_type": "stream",
     "text": [
      "* Owlready2 * Warning: optimized Cython parser module 'owlready2_optimized' is not available, defaulting to slower Python implementation\n"
     ]
    }
   ],
   "source": [
    "import numpy as np\n",
    "import random\n",
    "import gensim\n",
    "import pandas as pd\n",
    "from owlready2 import *"
   ]
  },
  {
   "cell_type": "markdown",
   "id": "4247118c-963b-42fd-af23-c060d1090251",
   "metadata": {},
   "source": [
    "Load ontology and embeddings"
   ]
  },
  {
   "cell_type": "code",
   "execution_count": 2,
   "id": "ced4ddb7-7efb-4943-88f3-61375dc6ae5b",
   "metadata": {},
   "outputs": [
    {
     "data": {
      "text/plain": [
       "get_ontology(\"http://www.semanticweb.org/bg40/ontologies/2022/5/untitled-ontology-2#\")"
      ]
     },
     "execution_count": 2,
     "metadata": {},
     "output_type": "execute_result"
    }
   ],
   "source": [
    "#OntoGeoLógica populada (OntoGeoLogicaPopulada.owl)\n",
    "onto = get_ontology(\"../../KnowledgeGraph/OntoGeoLogicaInstanciasRelacoes.owl\")\n",
    "onto.load()"
   ]
  },
  {
   "cell_type": "code",
   "execution_count": 3,
   "id": "2b83a703-656e-4384-9142-2e18a79e7a65",
   "metadata": {},
   "outputs": [],
   "source": [
    "# Modelo OWL2Vec - \n",
    "PetroOntoVec = gensim.models.Word2Vec.load(\"../../Embeddings/PetroOntoVec/PetroOntoVec_plus_PetroVec_OeG/outputontology.embeddings\")"
   ]
  },
  {
   "cell_type": "markdown",
   "id": "c1c0a49d-85b6-4ec4-9829-2c9995fe578f",
   "metadata": {},
   "source": [
    "### Carregando dataset"
   ]
  },
  {
   "cell_type": "code",
   "execution_count": 4,
   "id": "af296cc0-bd22-412a-b5c5-3123f0e24343",
   "metadata": {},
   "outputs": [],
   "source": [
    "# Listas de treino\n",
    "text_treino = np.load('../PetroNER-LinkedEntity/treino - sentences.npy')\n",
    "entities_treino = np.load('../PetroNER-LinkedEntity/treino - entities.npy')\n",
    "classes_treino = np.load('../PetroNER-LinkedEntity/treino - classes.npy')\n",
    "URI_treino = np.load('../PetroNER-LinkedEntity/treino - URI.npy', allow_pickle=True)\n",
    "#URIvec_treino = np.load('../../Corpora/PetroNER-LinkedEntity/treino - URI_vectors.npy')\n",
    "\n",
    "# Listas de validação\n",
    "text_valid = np.load('../PetroNER-LinkedEntity/valid - sentences.npy')\n",
    "entities_valid = np.load('../PetroNER-LinkedEntity/valid - entities.npy')\n",
    "classes_valid = np.load('../PetroNER-LinkedEntity/valid - classes.npy')\n",
    "URI_valid = np.load('../PetroNER-LinkedEntity/valid - URI.npy', allow_pickle=True)\n",
    "#URIvec_valid = np.load('../../Corpora/PetroNER-LinkedEntity/valid - URI_vectors.npy')\n",
    "\n",
    "# Listas de teste\n",
    "text_teste = np.load('../PetroNER-LinkedEntity/teste - sentences.npy')\n",
    "entities_teste = np.load('../PetroNER-LinkedEntity/teste - entities.npy')\n",
    "classes_teste = np.load('../PetroNER-LinkedEntity/teste - classes.npy')\n",
    "URI_teste = np.load('../PetroNER-LinkedEntity/teste - URI.npy', allow_pickle=True)\n",
    "#URIvec_teste = np.load('../../Corpora/PetroNER-LinkedEntity/teste - URI_vectors.npy')"
   ]
  },
  {
   "cell_type": "code",
   "execution_count": 5,
   "id": "a87f85bf-ef71-40be-8e8f-c8cb0744cb4e",
   "metadata": {},
   "outputs": [
    {
     "name": "stdout",
     "output_type": "stream",
     "text": [
      "Treino\n",
      "Texto:  14278\n",
      "Entidades:  14278\n",
      "Classes:  14278\n",
      "URI:  14278\n",
      "\n",
      " Validação\n",
      "Texto:  1785\n",
      "Entidades:  1785\n",
      "Classes:  1785\n",
      "URI:  1785\n",
      "\n",
      " Teste\n",
      "Texto:  3216\n",
      "Entidades:  3216\n",
      "Classes:  3216\n",
      "URI:  3216\n"
     ]
    }
   ],
   "source": [
    "print ('Treino')\n",
    "print('Texto: ', len(text_treino))\n",
    "print('Entidades: ', len(entities_treino))\n",
    "print('Classes: ', len(classes_treino))\n",
    "print('URI: ', len(URI_treino))\n",
    "#print('URIvec: :', len(URIvec_treino))\n",
    "\n",
    "print ('\\n Validação')\n",
    "print('Texto: ', len(text_valid))\n",
    "print('Entidades: ', len(entities_valid))\n",
    "print('Classes: ', len(classes_valid))\n",
    "print('URI: ', len(URI_valid))\n",
    "#print('URIvec: :', len(URIvec_valid))\n",
    "\n",
    "print ('\\n Teste')\n",
    "print('Texto: ', len(text_teste))\n",
    "print('Entidades: ', len(entities_teste))\n",
    "print('Classes: ', len(classes_teste))\n",
    "print('URI: ', len(URI_teste))\n",
    "#print('URIvec: :', len(URIvec_teste))"
   ]
  },
  {
   "cell_type": "markdown",
   "id": "63f72b9b-e81f-43fd-b5f1-c2727fdae9a9",
   "metadata": {},
   "source": [
    "### Buscando vetores do PetroOntoVec para cada URI"
   ]
  },
  {
   "cell_type": "code",
   "execution_count": 6,
   "id": "85695dc5-db5f-4fd0-bc22-09c38f133e7c",
   "metadata": {},
   "outputs": [],
   "source": [
    "def buscando_URI_vec(text, entities, classes_NER, ENT_URI):\n",
    "\n",
    "    # Separando as listas de sentenças, entidades, classes, URI e vetores\n",
    "    text_new = []\n",
    "    entities_new = []\n",
    "    classes_NER_new = [] \n",
    "    ENT_URI_new = []\n",
    "    URI_Vec_new = []\n",
    "\n",
    "    URI_ausente_Onto = []\n",
    "\n",
    "    n = 0 \n",
    "    #m = 0\n",
    "    #Iterando por todas as sentenças, desconsiderando aquelas cujas entidades não possuem URI\n",
    "    for i in range(len(text)):\n",
    "        n = n + 1\n",
    "        if ENT_URI[i] != None:\n",
    "            # Quebrando as entidades que possuem mais de um URI (ex: \"#Aptian,#Miocene\" e \"#Cenozoic,#Mesozoic\")\n",
    "            ENT_URI_n = ENT_URI[i].split(',#')\n",
    "\n",
    "            # Iterando pelas ENT_URI após serem quebradas e acrescentando '#\" naquelas que perderam na operação de split \n",
    "            for ent in ENT_URI_n:\n",
    "                if ent[0] != '#':\n",
    "                    ent = '#' + ent\n",
    "                try:\n",
    "                    #Acrescentar a URI da entidade e o vetor da URI nas listas\n",
    "                    URI_Vec_new.append(PetroOntoVec['http://www.semanticweb.org/bg40/ontologies/2022/5/untitled-ontology-2' + ent])\n",
    "                    ENT_URI_new.append(ent)\n",
    "\n",
    "                    # O texto, a entidade no texto e a classe são repetidas quando existem multiplas URI para uma mesma entidade\n",
    "                    text_new.append(text[i])\n",
    "                    entities_new.append(entities[i])\n",
    "                    classes_NER_new.append(classes_NER[i])\n",
    "                except:\n",
    "                    #print(\"URI presente no arquivo CONLLU mas ausente na Ontologia: \", ent)\n",
    "                    URI_ausente_Onto.append(ent)\n",
    "\n",
    "    # Transformando as listas em Numpy array\n",
    "    text = np.array(text_new)\n",
    "    entities = np.array(entities_new)\n",
    "    classes_NER = np.array(classes_NER_new) \n",
    "    ENT_URI = np.array(ENT_URI_new)\n",
    "    URI_Vec = np.array(URI_Vec_new)\n",
    "    URI_ausente_Onto = np.array(URI_ausente_Onto)\n",
    "\n",
    "    print('Total de sentenças anotadas: ', n)\n",
    "    print('N° de sentenças: ', len(text))\n",
    "    print ('N° de entidades: ', len(entities))\n",
    "    print('N° de classes: ', len(classes_NER))\n",
    "    print('N° de entidades_ID: ', len(ENT_URI))       \n",
    "    print('N° de vetores de URI: ', len(URI_Vec))       \n",
    "    \n",
    "    return(text, entities, classes_NER, ENT_URI, URI_Vec, URI_ausente_Onto)"
   ]
  },
  {
   "cell_type": "code",
   "execution_count": 7,
   "id": "863b7d63-2a58-4de4-959b-c4b491f916f7",
   "metadata": {},
   "outputs": [
    {
     "name": "stderr",
     "output_type": "stream",
     "text": [
      "C:\\ProgramData\\Anaconda3\\envs\\Petro_KGraph\\lib\\site-packages\\ipykernel_launcher.py:27: DeprecationWarning: Call to deprecated `__getitem__` (Method will be removed in 4.0.0, use self.wv.__getitem__() instead).\n"
     ]
    },
    {
     "name": "stdout",
     "output_type": "stream",
     "text": [
      "Total de sentenças anotadas:  14278\n",
      "N° de sentenças:  13331\n",
      "N° de entidades:  13331\n",
      "N° de classes:  13331\n",
      "N° de entidades_ID:  13331\n",
      "N° de vetores de URI:  13331\n",
      "Total de sentenças anotadas:  1785\n",
      "N° de sentenças:  1671\n",
      "N° de entidades:  1671\n",
      "N° de classes:  1671\n",
      "N° de entidades_ID:  1671\n",
      "N° de vetores de URI:  1671\n",
      "Total de sentenças anotadas:  3216\n",
      "N° de sentenças:  2859\n",
      "N° de entidades:  2859\n",
      "N° de classes:  2859\n",
      "N° de entidades_ID:  2859\n",
      "N° de vetores de URI:  2859\n"
     ]
    }
   ],
   "source": [
    "#Treino\n",
    "(text_treino,\n",
    " entities_treino,\n",
    " classes_treino,\n",
    " URI_treino,\n",
    " URIvec_treino,\n",
    " URI_ausente_Onto_treino) = buscando_URI_vec(text_treino,\n",
    "                                             entities_treino,\n",
    "                                             classes_treino,\n",
    "                                             URI_treino)\n",
    "\n",
    "#Validação\n",
    "(text_valid,\n",
    " entities_valid,\n",
    " classes_valid,\n",
    " URI_valid,\n",
    " URIvec_valid,\n",
    " URI_ausente_Onto_valid) = buscando_URI_vec(text_valid,\n",
    "                                            entities_valid,\n",
    "                                            classes_valid,\n",
    "                                            URI_valid)\n",
    "\n",
    "#Teste\n",
    "(text_teste,\n",
    " entities_teste,\n",
    " classes_teste,\n",
    " URI_teste,\n",
    " URIvec_teste,\n",
    " URI_ausente_Onto_teste) = buscando_URI_vec(text_teste,\n",
    "                                            entities_teste,\n",
    "                                            classes_teste,\n",
    "                                            URI_teste)"
   ]
  },
  {
   "cell_type": "code",
   "execution_count": 8,
   "id": "1c38ac84-4d11-4a31-a3d3-6320396e60c6",
   "metadata": {},
   "outputs": [
    {
     "name": "stdout",
     "output_type": "stream",
     "text": [
      "URI no PetroNER_Treino ausentes da ontologia: \n",
      "{'#porosidade_22', '#INTER_BACIA_018', '#inter_formacao_024', '#porosidade_05', '#??', '#externo_textura_002', '#inter_formacao_027', '#INTER_BACIA_009', '#porosidade_21', '#inter_formacao_021', '#fluid_composition', '#calcilutite', '#externo_grupo_002', '#inter_membro_011', '#special_well', '#inter_formacao_020', '#Neo-Alagoas_Subage', '#inter_membro_008', '#INTER_BACIA_005', '#INTER_BACIA_014', '#inter_formacao_019', '#stratigraphic_well', '#externo_grupo_003', '#geochronologic_age', '#inter_formacao_018', '#INTER_BACIA_021', '#externo_grupo_004', '#externo_membro_001', '#externo_grupo_005', '#EXTERNO_EST_FISICA_ROCHA_005', '#inter_membro_013', '#inter_grupo_002', '#explotatory_well', '#INTER_CAMPO_0001', '#INTER_BACIA_015', '#INTER_BACIA_011', '#INTER_BACIA_010', '#subcommercial_well', '#production_well', '#shallower_prospect_well', '#porosidade_24', '#EXTERNO_EST_FISICA_ROCHA_001', '#inter_formacao_028', '#INTER_BACIA_020', '#inter_grupo_001', '#EXTERNO_EST_FISICA_ROCHA_003', '#inter_membro_012', '#appraisal_well', '#EXTERNO_EST_FISICA_ROCHA_004', '#INTER_BACIA_003', '#formation', '#externo_formacao_001', '#INTER_BACIA_007', '#supergrupo_001', '#POCO_GENERICO', '#dry_hole', '#INTER_BACIA_004', '#inter_membro_009', '#deeper_prospect_well', '#INTER_BACIA_024', '#INTER_BACIA_016', '#INTER_BACIA_026', '#Rio_da_serra_Age', '#formation_fluid', '#inter_formacao_023', '#externo_textura_006', '#externo_formacao_004', '#CAMP_CD_CAMPO_0817', '#fluid_origin', '#grupo_05', '#INTER_BACIA_022', '#INTER_BACIA_006', '#inter_membro_010', '#EXTERNO_EST_FISICA_ROCHA_006', '#Permiano', '#externo_formacao_003', '#inter_formacao_017', '#INTER_BACIA_025', '#EXTERNO_EST_FISICA_ROCHA_007', '#INTER_BACIA_017', '#INTER_BACIA_008', '#INTER_BACIA_019', '#INTER_BACIA_013', '#externo_textura_005', '#INTER_BACIA_023', '#discovery_well', '#wildcat_well', '#EXTERNO_EST_FISICA_ROCHA_002'}\n",
      "\n",
      "URI no PetroNER_Validação ausentes da ontologia: \n",
      "{'#inter_formacao_015', '#EXTERNO_EST_FISICA_ROCHA_004', '#porosidade_05', '#inter_formacao_016', '#inter_formacao_022', '#INTER_BACIA_001', '#formation', '#INTER_CAMPO_0002', '#??', '#POCO_GENERICO', '#dry_hole', '#wildcat_well', '#Permiano', '#porosidade_18', '#porosidade_21', '#porosidade_10', '#EXTERNO_EST_FISICA_ROCHA_007', '#externo_textura_001', '#INTER_CAMPO_0001', '#geochronologic_epoch', '#fluid_composition', '#INTER_CAMPO_003', '#calcilutite', '#fluid_origin'}\n",
      "\n",
      "URI no PetroNER_Teste ausentes da ontologia: \n",
      "{'#inter_formacao_010', '#inter_formacao_005', '#inter_membro_006', '#inter_formacao_008', '#inter_membro_001', '#EXTERNO_EST_FISICA_ROCHA_004', '#inter_formacao_007', '#INTER_BACIA_003', '#grupo_05', '#CAMPO_GENERICO', '#inter_membro_004', '#formation', '#INTER_BACIA_006', '#Mesoriodaserra_Age', '#??', '#inter_formacao_025', '#inter_formacao_001', '#Eoriodaserra_Age', '#inter_membro_003', '#INTER_BACIA_002', '#inter_formacao_004', '#inter_formacao_002', '#inter_membro_005', '#inter_membro_002', '#INTER_BACIA_012', '#inter_membro_007', '#INTER_BACIA_017', '#geochronologic_epoch', '#inter_formacao_021', '#fluid_composition', '#inter_formacao_026', '#calcilutite', '#INTER_BACIA_016', '#INTER_BACIA_015', '#inter_formacao_003', '#Rio_da_serra_Age', '#inter_formacao_006', '#fluid_origin', '#production_well'}\n"
     ]
    }
   ],
   "source": [
    "print('URI no PetroNER_Treino ausentes da ontologia: ')\n",
    "print(set(URI_ausente_Onto_treino))\n",
    "print('')\n",
    "print('URI no PetroNER_Validação ausentes da ontologia: ')\n",
    "print(set(URI_ausente_Onto_valid))\n",
    "print('')\n",
    "print('URI no PetroNER_Teste ausentes da ontologia: ')\n",
    "print(set(URI_ausente_Onto_teste))"
   ]
  },
  {
   "cell_type": "markdown",
   "id": "9221b7ef-55fd-4a7e-8c9f-98346bceb0d4",
   "metadata": {},
   "source": [
    "### Preparando dataset para treinar rede Siamesa"
   ]
  },
  {
   "cell_type": "code",
   "execution_count": 9,
   "id": "ba642040-def9-43b9-b05f-a87dda6c64d1",
   "metadata": {},
   "outputs": [],
   "source": [
    "#Dataframe com as URI, sentenças e classes\n",
    "\n",
    "def dataset_siamesa(classes, URI, URIvec, text, x_easy, x_hard):\n",
    "       \n",
    "    df = pd.DataFrame({'Classe': classes, 'URI': URI, 'Sentença': text}) #, 'URIvec': URIvec})\n",
    "    \n",
    "    # Arrays para armazenar as sentenças âncoras, positivas e negativas \n",
    "    URI_anchor = np.array([])\n",
    "    URIvec_anchor = np.array([])\n",
    "    dataset_anchor = np.array([])\n",
    "    dataset_positive = np.array([])\n",
    "    dataset_negative = np.array([])\n",
    "\n",
    "    #Quantidade de exemplos negativos fáceis e difíceis\n",
    "    #x_easy = 20\n",
    "    #x_hard = 30\n",
    "\n",
    "    # iterando por todas as URI\n",
    "    for i in set(URI):\n",
    "\n",
    "        try:\n",
    "            \n",
    "            # Subgrupo apenas com a URI selecionada\n",
    "            df_URI = df[df['URI'] == i]\n",
    "\n",
    "            # Classe da URI selecionada\n",
    "            classe_da_URI = df_URI['Classe'].values[0]\n",
    "            # Vetor da URI selecionada\n",
    "            vetor_da_URI = URIvec[df_URI.index[0]]\n",
    "            # Subgrupo com sentenças negativa 'fácil' (URI diferente e classe diferente).\n",
    "            df_negative_easy = df[(df['URI'] != i) & (df['Classe'] != classe_da_URI)]\n",
    "            # Subgrupo com sentenças negativa 'difícil' (URI diferente mas da mesma classe).\n",
    "            df_negative_hard = df[(df['URI'] != i) & (df['Classe'] == classe_da_URI)]\n",
    "\n",
    "            # Pular os casos onde só existe uma sentença para a URI selecionada\n",
    "            if (len(df_URI) > 1) & (len(df_negative_easy) > 1) & (len(df_negative_hard) > 1):\n",
    "\n",
    "                ### Construindo triplets com exemplos negativos fáceis\n",
    "\n",
    "                # Selecionando as sentenças âncoras \n",
    "                # (verificamos o número de combinações possíveis entre sentenças com mesma URI \"len(df_URI)*(len(df_URI) - 1)\".\n",
    "                #  Se X_easy for maior que esse valor, amostramos apenas essa quantidade de amostras.\n",
    "                df_ancora = df_URI.sample(min(len(df_URI)*(len(df_URI) - 1) , x_easy), replace=True)\n",
    "\n",
    "                # itera pelas senteças âncoras\n",
    "                for row in df_ancora.iterrows():\n",
    "\n",
    "                    anchor = row[1]['Sentença']\n",
    "                    # Seleciona uma exemplo positivo diferente da sentença âncora\n",
    "                    positive = df_URI[df_URI['Sentença'] != anchor].sample(1)['Sentença'].values[0]\n",
    "\n",
    "                    # Seleciona uma sentença negativa\n",
    "                    negative_easy = df_negative_easy.sample(1)['Sentença'].values[0]\n",
    "\n",
    "                    # Concatena com as arrays que armazenam as senteças e URI\n",
    "                    URI_anchor = np.concatenate((URI_anchor, np.array([np.str_(i)])), axis=0)\n",
    "                    URIvec_anchor = np.concatenate((URIvec_anchor, vetor_da_URI), axis=0)\n",
    "                    dataset_anchor = np.concatenate((dataset_anchor, np.array([anchor])), axis=0)\n",
    "                    #dataset_anchor  = np.concatenate((dataset_anchor, anchor), axis=0)\n",
    "                    dataset_positive = np.concatenate((dataset_positive, np.array([positive])), axis=0)\n",
    "                    dataset_negative = np.concatenate((dataset_negative, np.array([negative_easy])), axis=0)\n",
    "\n",
    "                ### Construindo triplets com exemplos negativos difíceis\n",
    "\n",
    "                # Selecionando as sentenças âncoras \n",
    "                # (verificamos o número de combinações possíveis entre sentenças com mesma URI \"len(df_URI)*(len(df_URI) - 1)\".\n",
    "                #  Se X_hard for maior que esse valor, amostramos apenas essa quantidade de amostras.\n",
    "                \n",
    "                df_ancora = df_URI.sample(min(len(df_URI)*(len(df_URI) - 1), x_hard), replace=True)\n",
    "\n",
    "                # itera pelas senteças âncoras\n",
    "                for row in df_ancora.iterrows():\n",
    "                    anchor = row[1]['Sentença']\n",
    "\n",
    "                    # Seleciona uma exemplo positivo diferente da sentença âncora\n",
    "                    positive = df_URI[df_URI['Sentença'] != anchor].sample(1)['Sentença'].values[0]\n",
    "\n",
    "                    # Seleciona uma sentença negativa\n",
    "                    negative_hard = df_negative_hard.sample(1)['Sentença'].values[0]\n",
    "\n",
    "                    # Concatena com as arrays que armazenam as senteças\n",
    "                    URI_anchor = np.concatenate((URI_anchor, np.array([np.str_(i)])), axis=1)\n",
    "                    URIvec_anchor = np.concatenate((URIvec_anchor, vetor_da_URI), axis=0)\n",
    "                    dataset_anchor  = np.concatenate((dataset_anchor, np.array([anchor])), axis=0)\n",
    "                    #dataset_anchor  = np.concatenate((dataset_anchor, anchor), axis=0)\n",
    "                    dataset_positive  = np.concatenate((dataset_positive, np.array([positive])), axis=0)\n",
    "                    dataset_negative  = np.concatenate((dataset_negative, np.array([negative_hard])), axis=0)\n",
    "\n",
    "        except:\n",
    "            pass\n",
    "    \n",
    "    #Ajustando o formato da array URIvec_anchor\n",
    "    URIvec_anchor = np.reshape(URIvec_anchor, (-1, len(URIvec[0])))\n",
    "    \n",
    "    return(URI_anchor, URIvec_anchor, dataset_anchor, dataset_positive, dataset_negative)"
   ]
  },
  {
   "cell_type": "code",
   "execution_count": 10,
   "id": "4e57fee6-b02e-4af5-b7c1-ac17f3cff98b",
   "metadata": {
    "tags": []
   },
   "outputs": [],
   "source": [
    "(URI_anchor_treino,\n",
    " URIvec_anchor_treino,\n",
    " dataset_anchor_treino,\n",
    " dataset_positive_treino,\n",
    " dataset_negative_treino) = dataset_siamesa(classes_treino,\n",
    "                                            URI_treino,\n",
    "                                            URIvec_treino,\n",
    "                                            text_treino, 50, 50)\n",
    "\n",
    "(URI_anchor_valid, \n",
    " URIvec_anchor_valid,\n",
    " dataset_anchor_valid,\n",
    " dataset_positive_valid,\n",
    " dataset_negative_valid) = dataset_siamesa(classes_valid,\n",
    "                                           URI_valid,\n",
    "                                           URIvec_valid,\n",
    "                                           text_valid, 50, 50)\n",
    "\n",
    "(URI_anchor_teste,\n",
    " URIvec_anchor_teste,\n",
    " dataset_anchor_teste,\n",
    " dataset_positive_teste,\n",
    " dataset_negative_teste) = dataset_siamesa(classes_teste,\n",
    "                                           URI_teste,\n",
    "                                           URIvec_teste,   \n",
    "                                           text_teste, 50, 50)"
   ]
  },
  {
   "cell_type": "code",
   "execution_count": 11,
   "id": "73d04755-6eb6-46d9-ac39-d1374864e15a",
   "metadata": {},
   "outputs": [
    {
     "name": "stdout",
     "output_type": "stream",
     "text": [
      "Dataset treino:  12174\n",
      "Dataset validação:  3182\n",
      "Dataset teste:  4836\n"
     ]
    }
   ],
   "source": [
    "print('Dataset treino: ', len(URI_anchor_treino))\n",
    "print('Dataset validação: ', len(dataset_anchor_valid))\n",
    "print('Dataset teste: ', len(dataset_anchor_teste))"
   ]
  },
  {
   "cell_type": "code",
   "execution_count": 12,
   "id": "b6d7c4b4-5a02-4185-9d8b-825b1d771485",
   "metadata": {},
   "outputs": [
    {
     "name": "stdout",
     "output_type": "stream",
     "text": [
      "[CAMPO] Campo de Namorado | No caso estudado, essas unidades de fácies sísmicas são interpretadas como representativas do sistema deposicional constituindo o Sistema de Turbiditos de Namorado, [E] Campo de Namorado [/E], Bacia de Campos..\n",
      "[CAMPO] Namorado | Na figura 13 é exemplificado o procedimento nos poços típicos do reservatório [E] Namorado [/E], P44 e P18, para as unidades de fácies 1 e 3, com as suas fácies-perfil( eletrofácies), respectivamente..\n",
      "[UNIDADE_CRONO] Pré-Cambriano | Em trabalho realizado no CENPES( CORDANI et alii, 1984), constatou-se que o desenvolvimento tectono-estrutural e sedimentar de nossas bacias está condicionado a grandes .linhas estruturais e a compartimentos crustais herdados do [E] Pré-Cambriano [/E]..\n",
      "#CAMP_CD_CAMPO_0734\n",
      "[ 7.30005693 -1.50993598 -0.46950737 -0.32199472 -3.73776102  0.26174837\n",
      " -0.56783789 -1.45365012  6.49511909 -0.02343052  0.72487211 -2.8237896\n",
      " -0.01109111 -1.14440036  0.20902154 -0.49882165 -2.84943748 -2.87068987\n",
      "  0.28586015  0.06479089  1.22456932  0.28112394 -0.10302459  3.96232891\n",
      " -0.01245791  0.02845879 -1.8710916   3.38485003  4.68823051 -1.29316401\n",
      "  0.58998436  3.60294271  2.65184236  1.33181322 -2.34279251 -0.87977594\n",
      "  3.96090722 -3.31378579  2.33512425  0.93109089  2.60075641  0.42240569\n",
      " -0.70265967 -1.19776094  0.72278374  1.92956209  1.34384477  2.22889996\n",
      "  2.80513167 -0.14148588  3.62207174  2.13936162  0.27029338 -3.84638357\n",
      "  5.20555925  1.63376331 -1.72649252 -0.15347666 -0.22049527 -0.16068164\n",
      "  0.53446543  1.24666619 -3.60678291  1.80131412 -5.82716131 -0.62991005\n",
      " -0.07628332 -2.87428164 -2.40026546 -0.09922697 -0.13518651 -0.20892151\n",
      " -2.13425851 -0.75284153 -2.1893816   0.25050494 -0.57140183  1.24852824\n",
      " -2.8194232  -1.90624046  1.88935006  2.16818285  0.22703741 -2.12993407\n",
      "  0.68912655  2.65437388 -0.05207649 -0.53314883 -1.98378253  1.521088\n",
      "  0.02615842 -1.90607202 -3.10747361 -2.19911957  2.8883369  -4.79470253\n",
      " -0.66727132 -0.59099931  2.53691459 -0.4767468 ]\n"
     ]
    }
   ],
   "source": [
    "n = 51\n",
    "\n",
    "print(dataset_anchor_treino[n])\n",
    "print(dataset_positive_treino[n])\n",
    "print(dataset_negative_treino[n])\n",
    "print(URI_anchor_treino[n])\n",
    "print(URIvec_anchor_treino[n])"
   ]
  },
  {
   "cell_type": "markdown",
   "id": "1a2b1136-76a6-46ea-934c-4ab5b85d46ea",
   "metadata": {},
   "source": [
    "### Salvando dataset\n"
   ]
  },
  {
   "cell_type": "code",
   "execution_count": 13,
   "id": "fa474a98-d03a-40c6-be0b-1e6f4694c047",
   "metadata": {},
   "outputs": [],
   "source": [
    "#Treino\n",
    "with open('URI_anchor_treino.npy', 'wb') as f:\n",
    "    np.save(f, URI_anchor_treino)\n",
    "with open('URIvec_anchor_treino.npy', 'wb') as f:\n",
    "    np.save(f, URIvec_anchor_treino)\n",
    "with open('anchor_treino.npy', 'wb') as f:\n",
    "    np.save(f, dataset_anchor_treino)\n",
    "with open('positive_treino.npy', 'wb') as f:\n",
    "    np.save(f, dataset_positive_treino)\n",
    "with open('negative_treino.npy', 'wb') as f:\n",
    "    np.save(f, dataset_negative_treino)\n",
    "\n",
    "    \n",
    "#Validação\n",
    "with open('URI_anchor_valid.npy', 'wb') as f:\n",
    "    np.save(f, URI_anchor_valid)\n",
    "with open('URIvec_anchor_valid.npy', 'wb') as f:\n",
    "    np.save(f, URIvec_anchor_valid)\n",
    "with open('anchor_valid.npy', 'wb') as f:\n",
    "    np.save(f, dataset_anchor_valid)\n",
    "with open('positive_valid.npy', 'wb') as f:\n",
    "    np.save(f, dataset_positive_valid)\n",
    "with open('negative_valid.npy', 'wb') as f:\n",
    "    np.save(f, dataset_negative_valid)\n",
    "    \n",
    "#Teste\n",
    "with open('URI_anchor_teste.npy', 'wb') as f:\n",
    "    np.save(f, URI_anchor_teste)\n",
    "with open('URIvec_anchor_teste.npy', 'wb') as f:\n",
    "    np.save(f, URIvec_anchor_teste)\n",
    "with open('anchor_teste.npy', 'wb') as f:\n",
    "    np.save(f, dataset_anchor_teste)\n",
    "with open('positive_teste.npy', 'wb') as f:\n",
    "    np.save(f, dataset_positive_teste)\n",
    "with open('negative_teste.npy', 'wb') as f:\n",
    "    np.save(f, dataset_negative_teste)"
   ]
  },
  {
   "cell_type": "code",
   "execution_count": null,
   "id": "42e8337c-dbe9-4d6b-a2c6-3b4094dc4d20",
   "metadata": {},
   "outputs": [],
   "source": []
  }
 ],
 "metadata": {
  "kernelspec": {
   "display_name": "Python 3 (ipykernel)",
   "language": "python",
   "name": "python3"
  },
  "language_info": {
   "codemirror_mode": {
    "name": "ipython",
    "version": 3
   },
   "file_extension": ".py",
   "mimetype": "text/x-python",
   "name": "python",
   "nbconvert_exporter": "python",
   "pygments_lexer": "ipython3",
   "version": "3.7.16"
  }
 },
 "nbformat": 4,
 "nbformat_minor": 5
}
