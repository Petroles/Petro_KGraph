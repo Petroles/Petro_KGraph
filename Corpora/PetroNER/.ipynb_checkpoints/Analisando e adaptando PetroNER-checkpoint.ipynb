{
 "cells": [
  {
   "cell_type": "markdown",
   "id": "7ec78e8b-44f7-4911-9094-2609b5bf9bba",
   "metadata": {},
   "source": [
    "### Notebook para analisar os corpora PetroNER"
   ]
  },
  {
   "cell_type": "code",
   "execution_count": 1,
   "id": "4549aacb-0de3-49c9-972f-d5652ba96309",
   "metadata": {
    "tags": []
   },
   "outputs": [
    {
     "name": "stderr",
     "output_type": "stream",
     "text": [
      "* Owlready2 * Warning: optimized Cython parser module 'owlready2_optimized' is not available, defaulting to slower Python implementation\n"
     ]
    }
   ],
   "source": [
    "from conllu import parse_incr, parse\n",
    "from owlready2 import *\n",
    "from matplotlib_venn import venn3, venn3_circles\n",
    "from matplotlib import pyplot as plt\n",
    "import numpy as np"
   ]
  },
  {
   "cell_type": "markdown",
   "id": "a0c488b2-3d5a-4c8d-9317-3c449eba02b6",
   "metadata": {},
   "source": [
    "Carregando os corpora e a ontologia"
   ]
  },
  {
   "cell_type": "code",
   "execution_count": 2,
   "id": "62db7b1c-cced-4b37-9fbe-15211c65ef47",
   "metadata": {},
   "outputs": [],
   "source": [
    "# CONLLU parser\n",
    "\n",
    "# Corpora completo\n",
    "PetroNER = open(\"petroner-uri-2023-04-05.conllu\", \"r\", encoding=\"utf-8\")\n",
    "PetroNER_sentences = parse_incr(PetroNER)\n",
    "\n",
    "# Corpora treino\n",
    "PetroNER_treino = open(\"petroner-uri-treino.conllu\", \"r\", encoding=\"utf-8\")\n",
    "PetroNER_treino_sentences = parse_incr(PetroNER_treino)\n",
    "\n",
    "# Corpora validação\n",
    "PetroNER_valid = open(\"petroner-uri-validação.conllu\", \"r\", encoding=\"utf-8\")\n",
    "PetroNER_valid_sentences = parse_incr(PetroNER_valid)\n",
    "\n",
    "# Corpora teste\n",
    "PetroNER_teste = open(\"petroner-uri-teste.conllu\", \"r\", encoding=\"utf-8\")\n",
    "PetroNER_teste_sentences = parse_incr(PetroNER_teste)"
   ]
  },
  {
   "cell_type": "code",
   "execution_count": 3,
   "id": "d51e838c-a62d-4486-90b3-0e039f269aeb",
   "metadata": {},
   "outputs": [
    {
     "data": {
      "text/plain": [
       "get_ontology(\"http://www.semanticweb.org/bg40/ontologies/2022/5/untitled-ontology-2#\")"
      ]
     },
     "execution_count": 3,
     "metadata": {},
     "output_type": "execute_result"
    }
   ],
   "source": [
    "#OntoGeoLógica povoda (OntoGeoLogicaPovoadaInstanciasRelacoes.owl)\n",
    "onto_povoada = get_ontology(\"../../KnowledgeGraph/OntoGeoLogicaInstanciasRelacoes.owl\")\n",
    "onto_povoada.load()\n",
    "\n",
    "#OntoGeoLógica não povoda (OntoGeoLogicaPython.owl)\n",
    "onto = get_ontology(\"../../KnowledgeGraph/OntoGeoLogicaEntidadesNomeadas.owl\")\n",
    "onto.load()\n"
   ]
  },
  {
   "cell_type": "markdown",
   "id": "450e0d36-fb61-4533-9509-8ff3497bb2d1",
   "metadata": {},
   "source": [
    "Função que recebe o texto anotado em formato CONLLU e processa para o treinamento. Tem como saída as sentenças acrescida das tags para indicar as entidades, bem como com a entidade no início do texto; lista com as entidades (instâncias extraídas do texto); lista com as classes que as entidades pertencem; e lista com as URI referente às entidades. O texto sai com o seguinte formato:  \n",
    "\"[Nome da classe] Nome da entidade | blablabla blablabla blablabla [E] Nome da entidade [/E] blablabla blablabla.\" "
   ]
  },
  {
   "cell_type": "code",
   "execution_count": 4,
   "id": "89e0cd10-4ae3-485f-ac24-2fe7fd9e287d",
   "metadata": {},
   "outputs": [],
   "source": [
    "# Função que recebe\n",
    "def preparar_dataset(tokenlist):\n",
    "\n",
    "    #sent = TokenList([])\n",
    "    sent_orig = ''   # String para compor a sentença original\n",
    "    sents_NER = []   # Lista para armazenar as sentenças com indicação das entidades\n",
    "    NER_on = False   # Variável para indicar se está iterando por token de entidades\n",
    "    NER_tok = ''     # string para armazenar os tokens das entidades que estão sendo iteradas\n",
    "    MW_on = False    # Variável para indicar se está iterando por tolkens multiword\n",
    "    MW_tok = ''      # string para armazenar o termo multiword\n",
    "    MW_end = 0       # ID final do token multiword\n",
    "    ENT = []         # Lista para armazenar as entidades encontradas no texto\n",
    "    ENT_class = []   # Lista para armazenar as classes das entidades encontradas no texto\n",
    "    ENT_URI = []     # Lista para armazenar as URI das entidades encontradas no texto\n",
    "\n",
    "    #Iterando por todos os tokens de uma sentença\n",
    "    for tok in tokenlist:\n",
    "        # ignorando id não inteiro (tuplas), ou seja token multiword\n",
    "        if type(tok['id']) == int:\n",
    "\n",
    "            # Verifica se o token inicia uma entidade (\"B\")\n",
    "            if tok['deps'][0] == 'B':\n",
    "                \n",
    "                # Verifica se a variável NER_on está ativado (No caso de um tok \"B\" seguido de outro)\n",
    "                if NER_on == True:\n",
    "                    \n",
    "                    NER_on = False  # Desativa a variável NER_on\n",
    "\n",
    "                    # Para sentença mais recente da lista sents_NER, inclui a entidade no início e o marcador [/E] no final \n",
    "                    sents_NER[-1] = '[' + ENT_class[-1] + '] ' + NER_tok + '| ' + sents_NER[-1].strip() + ' [/E]'\n",
    "\n",
    "                    # Incluir o NER_tok na lista ENT\n",
    "                    ENT.append(NER_tok.strip())\n",
    "\n",
    "                    NER_tok = '' # Apaga a string NER_tok\n",
    "\n",
    "                NER_on = True  # Ativa a variável NER_on\n",
    "                # Acrescenta uma sentença com o marcador [E] na listas de sentenças com NER\n",
    "                sents_NER.append(sent_orig + ' [E]')\n",
    "                # Incluir classe na lista ENT_class\n",
    "                ENT_class.append(tok['deps'][2:])\n",
    "                # Incluir URI da entidade na lista ENT_URI. Caso não haja URI, incluir \"None\". \n",
    "                try:\n",
    "                    ENT_URI.append(tok['misc']['grafo'])\n",
    "                except:\n",
    "                    ENT_URI.append(None)\n",
    "\n",
    "            # Identifica o primeiro token \"O\" após uma sequência de entidades\n",
    "            if (tok['deps'][0] == 'O') & NER_on:\n",
    "                \n",
    "                NER_on = False  # Desativa a variável NER_on\n",
    "\n",
    "                # Para sentença mais recente da lista sents_NER, \n",
    "                # inclui a classe e a entidade no início e o marcador [/E] no final \n",
    "                sents_NER[-1] = '[' + ENT_class[-1] + '] ' + NER_tok + '| ' + sents_NER[-1].strip() + ' [/E]'\n",
    "\n",
    "                # Incluir o NER_tok na lista ENT\n",
    "                ENT.append(NER_tok.strip())\n",
    "\n",
    "                NER_tok = '' # Apaga a string NER_tok\n",
    "                \n",
    "            # Identifica se o último token da sequência tem o marcador \"B\" ou \"I\".    \n",
    "            if (tokenlist[-1]['id'] == tok['id']) & ((tok['deps'][0] == 'B') | (tok['deps'][0] == 'I')):\n",
    "                NER_on = False  # Desativa a variável NER_on\n",
    "\n",
    "                # Para sentença mais recente da lista sents_NER, \n",
    "                # inclui a classe e a entidade no início e o marcador [/E] no final \n",
    "                sents_NER[-1] = '[' + ENT_class[-1] + '] ' + NER_tok + '| ' + sents_NER[-1].strip() + ' [/E]'\n",
    "\n",
    "                # Incluir o NER_tok na lista ENT\n",
    "                ENT.append(NER_tok.strip())\n",
    "\n",
    "                NER_tok = '' # Apaga a string NER_tok\n",
    "\n",
    "            # Verifica se está iterando por uma multiword ou não\n",
    "            if not MW_on:\n",
    "\n",
    "                # Acrecenta o token à string da entidade\n",
    "                if NER_on:\n",
    "                    NER_tok = NER_tok + tok['form'] + ' '\n",
    "\n",
    "                # Se o token for uma pontuação, não inclui espaço entre o token anterior \n",
    "                if tok['upos'] == 'PUNCT':\n",
    "                    # O token é incluído na senteça original e em todas as sentenças da lista sents_NER\n",
    "                    sent_orig = sent_orig + tok['form']\n",
    "                    for i in range(len(sents_NER)):\n",
    "                        sents_NER[i] = sents_NER[i] + tok['form']\n",
    "                else:\n",
    "                    sent_orig = sent_orig + ' ' + tok['form']\n",
    "                    for i in range(len(sents_NER)):\n",
    "                        sents_NER[i] = sents_NER[i] + ' ' + tok['form']\n",
    "\n",
    "            else:\n",
    "                # Se o token for o último termo da multiword, desativamos a variável MW_on\n",
    "                if tok['id'] == MW_end:\n",
    "                    MW_on = False\n",
    "\n",
    "                    # Acrecenta a multiword à string da entidade\n",
    "                    if NER_on:\n",
    "                        NER_tok = NER_tok + MW_tok + ' '\n",
    "\n",
    "                    #Ao invés de incluir nas senteças o token, vamos incluir o MW_tok \n",
    "                    # Se o token for uma pontuação, não inclui espaço entre o token anterior \n",
    "                    if tok['upos'] == 'PUNCT':\n",
    "                        # O token é incluído na senteça original e em todas as sentenças da lista sents_NER\n",
    "                        sent_orig = sent_orig + MW_tok\n",
    "                        for i in range(len(sents_NER)):\n",
    "                            sents_NER[i] = sents_NER[i] + MW_tok\n",
    "                    else:\n",
    "                        sent_orig = sent_orig + ' ' + MW_tok\n",
    "                        for i in range(len(sents_NER)):\n",
    "                            sents_NER[i] = sents_NER[i] + ' ' + MW_tok\n",
    "\n",
    "        # Se a ID do token for referente a uma multiword, ativamos a variável MW_on, \n",
    "        # armazenamos o termo MW_tok e o valor da 'id' final\n",
    "        else:\n",
    "            MW_on = True\n",
    "            MW_tok = tok['form']\n",
    "            MW_end = tok['id'][-1]\n",
    "    \n",
    "    return(sents_NER, ENT, ENT_class, ENT_URI)"
   ]
  },
  {
   "cell_type": "markdown",
   "id": "c5c18c53-6500-4fb0-8427-acb79775be92",
   "metadata": {},
   "source": [
    "Função que itera por todas as sentenças de um corpora e retorna as listas com as sentenças, entidades, classes e URI"
   ]
  },
  {
   "cell_type": "code",
   "execution_count": 5,
   "id": "de58cf11-f9b6-4b51-afc5-e11a0aa210c6",
   "metadata": {},
   "outputs": [],
   "source": [
    "def ent_class_URI(sentences):\n",
    "\n",
    "    # Separando as listas de sentenças, entidades, classes e URI\n",
    "    text = []\n",
    "    entities = []\n",
    "    classes_NER = [] \n",
    "    ENT_URI = []\n",
    "    entities_sem_URI = []\n",
    "\n",
    "    # Iterando por todas as sentenças em formato CONLLU para preparar o dataset\n",
    "    n = 0\n",
    "    m = 0\n",
    "    \n",
    "    for tokenlist in sentences:\n",
    "        # contador de sentenças\n",
    "        n = n + 1\n",
    "        # processando cada sentenças\n",
    "        text_n, entities_n, classes_NER_n, ENT_URI_n = preparar_dataset(tokenlist)\n",
    "        \n",
    "        #Pular se a sentença não possui entidade\n",
    "        if ENT_URI_n != []:\n",
    "            \n",
    "            # Contador de sentenças com entidades\n",
    "            if len(text_n) > 0:\n",
    "                m = m + 1\n",
    "        \n",
    "            #iterando pelas entidades das sentenças\n",
    "            for i in range(len(ENT_URI_n)):\n",
    "\n",
    "\n",
    "                # Quebrando as entidades que possuem mais de um URI (ex: \"#Aptian,#Miocene\" e \"#Cenozoic,#Mesozoic\")        \n",
    "\n",
    "                try:\n",
    "                    #Alterar separadores anotados errados\n",
    "                    URI_unidas = ENT_URI_n[i].replace('; #', ',#')\n",
    "                    URI_unidas = URI_unidas.replace(' / #', ',#')\n",
    "                    ENT_URI_split = list(set(URI_unidas.split(',#')))\n",
    "                except:\n",
    "                    ENT_URI_split = [ENT_URI_n[i]]\n",
    "\n",
    "                #iterando pelas quebradas entidades \n",
    "                text_new = []\n",
    "                entities_new = []\n",
    "                classes_NER_new = []\n",
    "                ENT_URI_new = []\n",
    "\n",
    "                for ent in ENT_URI_split:\n",
    "                    try:\n",
    "                        if ent[0] != '#':\n",
    "                            ent = '#' + ent\n",
    "                    except:\n",
    "                        pass\n",
    "\n",
    "                    ENT_URI_new.append(ent)\n",
    "                    # O texto, a entidade no texto e a classe são repetidas quando existem multiplas URI para uma mesma entidade\n",
    "                    text_new.append(text_n[i])\n",
    "                    entities_new.append(entities_n[i])\n",
    "                    classes_NER_new.append(classes_NER_n[i])\n",
    "\n",
    "\n",
    "                text = text + text_new\n",
    "                entities = entities + entities_new\n",
    "                classes_NER = classes_NER + classes_NER_new\n",
    "                ENT_URI = ENT_URI + ENT_URI_new\n",
    "\n",
    "    print('Total de sentenças no arquivo: ', n)\n",
    "    print('N° de sentenças com entidades: ', m, 'que equivale a ', (m/n)*100, '% do total')\n",
    "    print ('N° de entidades: ', len(entities))\n",
    "    print('N° de classes: ', len(classes_NER))\n",
    "    print('Média de ', len(entities)/m, 'entidades por sentença (das sentenças que possuem entidades)')\n",
    "    \n",
    "    #Verificando entidades sem URI\n",
    "    for i in range(len(ENT_URI)):\n",
    "        if ENT_URI[i] == None:\n",
    "            entities_sem_URI.append(entities[i])\n",
    "        \n",
    "    print('N° de entities com URI: ', len(ENT_URI) - len(entities_sem_URI))\n",
    "    print('N° de entities sem URI: ', len(entities_sem_URI))\n",
    "    print((len(entities_sem_URI)/len(ENT_URI))*100, '% das entidades não possuem URI.')\n",
    "    \n",
    "    return (text, entities, classes_NER, ENT_URI, entities_sem_URI)"
   ]
  },
  {
   "cell_type": "code",
   "execution_count": 6,
   "id": "72289adf-a5d3-4b9b-af6a-153a3ca4eb5a",
   "metadata": {},
   "outputs": [
    {
     "name": "stdout",
     "output_type": "stream",
     "text": [
      "PetroNER\n",
      "Total de sentenças no arquivo:  24035\n",
      "N° de sentenças com entidades:  8757 que equivale a  36.434366548783025 % do total\n",
      "N° de entidades:  19278\n",
      "N° de classes:  19278\n",
      "Média de  2.2014388489208634 entidades por sentença (das sentenças que possuem entidades)\n",
      "N° de entities com URI:  18609\n",
      "N° de entities sem URI:  669\n",
      "3.4702769996887644 % das entidades não possuem URI.\n",
      "\n",
      "PetroNER - Treino\n",
      "Total de sentenças no arquivo:  17987\n",
      "N° de sentenças com entidades:  6527 que equivale a  36.28731861900261 % do total\n",
      "N° de entidades:  14277\n",
      "N° de classes:  14277\n",
      "Média de  2.1873755170828866 entidades por sentença (das sentenças que possuem entidades)\n",
      "N° de entities com URI:  13858\n",
      "N° de entities sem URI:  419\n",
      "2.9347902220354416 % das entidades não possuem URI.\n",
      "\n",
      "PetroNER - Validação\n",
      "Total de sentenças no arquivo:  2467\n",
      "N° de sentenças com entidades:  892 que equivale a  36.15727604377787 % do total\n",
      "N° de entidades:  1785\n",
      "N° de classes:  1785\n",
      "Média de  2.0011210762331837 entidades por sentença (das sentenças que possuem entidades)\n",
      "N° de entities com URI:  1729\n",
      "N° de entities sem URI:  56\n",
      "3.1372549019607843 % das entidades não possuem URI.\n",
      "\n",
      "PetroNER - Teste\n",
      "Total de sentenças no arquivo:  3581\n",
      "N° de sentenças com entidades:  1338 que equivale a  37.363864842222846 % do total\n",
      "N° de entidades:  3216\n",
      "N° de classes:  3216\n",
      "Média de  2.403587443946188 entidades por sentença (das sentenças que possuem entidades)\n",
      "N° de entities com URI:  3022\n",
      "N° de entities sem URI:  194\n",
      "6.032338308457712 % das entidades não possuem URI.\n"
     ]
    }
   ],
   "source": [
    "print('PetroNER')\n",
    "PetroNER_text, PetroNER_entities, PetroNER_classes_NER, PetroNER_ENT_URI, PetroNER_entities_sem_URI = ent_class_URI(PetroNER_sentences)\n",
    "\n",
    "print('\\nPetroNER - Treino')\n",
    "treino_text, treino_entities, treino_classes_NER, treino_ENT_URI, treino_entities_sem_URI = ent_class_URI(PetroNER_treino_sentences)\n",
    "\n",
    "print('\\nPetroNER - Validação')\n",
    "valid_text, valid_entities, valid_classes_NER, valid_ENT_URI, valid_entities_sem_URI = ent_class_URI(PetroNER_valid_sentences)\n",
    "\n",
    "print('\\nPetroNER - Teste')\n",
    "teste_text, teste_entities, teste_classes_NER, teste_ENT_URI, teste_entities_sem_URI = ent_class_URI(PetroNER_teste_sentences)"
   ]
  },
  {
   "cell_type": "code",
   "execution_count": 7,
   "id": "7755d73f-9396-4d79-9fbc-4269b373d886",
   "metadata": {},
   "outputs": [
    {
     "name": "stdout",
     "output_type": "stream",
     "text": [
      "Verificando se o número de senteças do PetroNER bate com as sentenças divididas entre Treino - Validação - Teste\n"
     ]
    },
    {
     "data": {
      "text/plain": [
       "True"
      ]
     },
     "execution_count": 7,
     "metadata": {},
     "output_type": "execute_result"
    }
   ],
   "source": [
    "print('Verificando se o número de senteças do PetroNER bate com as sentenças divididas entre Treino - Validação - Teste')\n",
    "17987 + 2467 + 3581 == 24035"
   ]
  },
  {
   "cell_type": "code",
   "execution_count": 8,
   "id": "ffc30c4b-d90d-42f6-9b6a-b0b2d8b221c0",
   "metadata": {},
   "outputs": [
    {
     "name": "stdout",
     "output_type": "stream",
     "text": [
      "Entidades sem URI:\n"
     ]
    },
    {
     "data": {
      "text/plain": [
       "{'',\n",
       " 'Bendian',\n",
       " 'Cimentos',\n",
       " 'Estrada Nova',\n",
       " 'Formações Sulay',\n",
       " 'Gerador',\n",
       " 'Geração',\n",
       " 'Jiquiá',\n",
       " 'Lampasan',\n",
       " 'Palmeira',\n",
       " 'Pirapema',\n",
       " 'RB-1',\n",
       " 'Ratawi',\n",
       " 'Rio Panon',\n",
       " 'Robalo',\n",
       " 'Série Lampasan',\n",
       " 'Volta Redonda',\n",
       " 'Zu-bair',\n",
       " 'alongados',\n",
       " 'cimento',\n",
       " 'cimentos',\n",
       " 'contato irregular',\n",
       " 'cruzada',\n",
       " 'dendríticas',\n",
       " 'extrusivas vulcânicas',\n",
       " 'foliação',\n",
       " 'foliações',\n",
       " 'formação Aliança',\n",
       " 'gerador',\n",
       " 'geradora',\n",
       " 'geradoras',\n",
       " 'geradores',\n",
       " 'geração',\n",
       " 'grãos de origem vulcânica',\n",
       " 'intrusiva vulcânica',\n",
       " 'intrusivas vulcânicas',\n",
       " 'laminação',\n",
       " 'laminação horizontal',\n",
       " 'lavas vulcânicas',\n",
       " 'lineação',\n",
       " 'lineações',\n",
       " 'migração',\n",
       " 'milonitica',\n",
       " 'milonítica',\n",
       " 'miloníticas',\n",
       " 'molde',\n",
       " 'moldes',\n",
       " 'ondulada',\n",
       " 'preservação',\n",
       " 'puil-apart',\n",
       " 'rachas geradoras',\n",
       " 'remigração',\n",
       " 'remigrações',\n",
       " 'rocha geradora',\n",
       " 'rocha reservatório',\n",
       " 'rochas geradoras',\n",
       " 'rochas reservatório',\n",
       " 'rochas reservatórios',\n",
       " 'selo',\n",
       " 'selos',\n",
       " 'septárias',\n",
       " 'soterramento',\n",
       " 'trapa',\n",
       " 'trapas',\n",
       " 'vidro vulcânico',\n",
       " 'óleo diesel'}"
      ]
     },
     "execution_count": 8,
     "metadata": {},
     "output_type": "execute_result"
    }
   ],
   "source": [
    "print('Entidades sem URI:')\n",
    "set(PetroNER_entities_sem_URI)"
   ]
  },
  {
   "cell_type": "markdown",
   "id": "d007dbb8-cfc5-4aec-9a0e-70c2524b0c42",
   "metadata": {},
   "source": [
    "### Salvando PetroNER para entity link"
   ]
  },
  {
   "cell_type": "code",
   "execution_count": 9,
   "id": "a454d8e4-8540-42ec-b041-e0fc9ea88095",
   "metadata": {},
   "outputs": [],
   "source": [
    "#Completo\n",
    "\n",
    "with open('../PetroNER-LinkedEntity/PetroNER - sentences.npy', 'wb') as f:\n",
    "    np.save(f, np.array(PetroNER_text))\n",
    "with open('../PetroNER-LinkedEntity/PetroNER - entities.npy', 'wb') as f:\n",
    "    np.save(f, np.array(PetroNER_entities))\n",
    "with open('../PetroNER-LinkedEntity/PetroNER - classes.npy', 'wb') as f:\n",
    "    np.save(f, np.array(PetroNER_classes_NER))\n",
    "with open('../PetroNER-LinkedEntity/PetroNER - URI.npy', 'wb') as f:\n",
    "    np.save(f, np.array(PetroNER_ENT_URI))\n",
    "\n",
    "#Treino\n",
    "\n",
    "with open('../PetroNER-LinkedEntity/treino - sentences.npy', 'wb') as f:\n",
    "    np.save(f, np.array(treino_text))\n",
    "with open('../PetroNER-LinkedEntity/treino - entities.npy', 'wb') as f:\n",
    "    np.save(f, np.array(treino_entities))\n",
    "with open('../PetroNER-LinkedEntity/treino - classes.npy', 'wb') as f:\n",
    "    np.save(f, np.array(treino_classes_NER))\n",
    "with open('../PetroNER-LinkedEntity/treino - URI.npy', 'wb') as f:\n",
    "    np.save(f, np.array(treino_ENT_URI))\n",
    "    \n",
    "#Validação\n",
    "\n",
    "with open('../PetroNER-LinkedEntity/valid - sentences.npy', 'wb') as f:\n",
    "    np.save(f, np.array(valid_text))\n",
    "with open('../PetroNER-LinkedEntity/valid - entities.npy', 'wb') as f:\n",
    "    np.save(f, np.array(valid_entities))\n",
    "with open('../PetroNER-LinkedEntity/valid - classes.npy', 'wb') as f:\n",
    "    np.save(f, np.array(valid_classes_NER))\n",
    "with open('../PetroNER-LinkedEntity/valid - URI.npy', 'wb') as f:\n",
    "    np.save(f, np.array(valid_ENT_URI))\n",
    "    \n",
    "#Teste\n",
    "\n",
    "with open('../PetroNER-LinkedEntity/teste - sentences.npy', 'wb') as f:\n",
    "    np.save(f, np.array(teste_text))\n",
    "with open('../PetroNER-LinkedEntity/teste - entities.npy', 'wb') as f:\n",
    "    np.save(f, np.array(teste_entities))\n",
    "with open('../PetroNER-LinkedEntity/teste - classes.npy', 'wb') as f:\n",
    "    np.save(f, np.array(teste_classes_NER))\n",
    "with open('../PetroNER-LinkedEntity/teste - URI.npy', 'wb') as f:\n",
    "    np.save(f, np.array(teste_ENT_URI))"
   ]
  },
  {
   "cell_type": "markdown",
   "id": "222e89a5-b2bf-4f3d-a4f9-add88e2088cd",
   "metadata": {},
   "source": [
    "# Comparação dos Corpora com as ontologias"
   ]
  },
  {
   "cell_type": "markdown",
   "id": "9a350c7b-2581-4300-a27d-41a9132b2ab8",
   "metadata": {},
   "source": [
    "Ontologia não povoada"
   ]
  },
  {
   "cell_type": "code",
   "execution_count": 12,
   "id": "82917482-72e8-4e94-8e0f-d930ba497a5b",
   "metadata": {},
   "outputs": [],
   "source": [
    "def extract_classes_e_individuals(onto):\n",
    "    \n",
    "    onto_classes = []\n",
    "    onto_individual = []\n",
    "    \n",
    "    for i in onto.classes():\n",
    "        onto_classes.append('#' + i.iri.split('#')[-1])\n",
    "\n",
    "    for i in onto.individuals():\n",
    "        onto_individual.append('#' + i.iri.split('#')[-1])\n",
    "        \n",
    "    return(onto_classes, onto_individual)"
   ]
  },
  {
   "cell_type": "code",
   "execution_count": 13,
   "id": "82369423-9ac6-470d-878a-b8b06ee60927",
   "metadata": {},
   "outputs": [
    {
     "name": "stdout",
     "output_type": "stream",
     "text": [
      "Ontologia não povoada\n",
      "Total de classes:  29\n",
      "Total de individuals:  0\n",
      "Total de classes + individuals:  29\n"
     ]
    }
   ],
   "source": [
    "onto_classes, onto_individual = extract_classes_e_individuals(onto)\n",
    "\n",
    "print('Ontologia não povoada')\n",
    "print('Total de classes: ', len(onto_classes))\n",
    "print('Total de individuals: ', len(onto_individual))\n",
    "print('Total de classes + individuals: ', len(onto_classes) + len(onto_individual))"
   ]
  },
  {
   "cell_type": "markdown",
   "id": "135eb80b-1981-4398-950c-5edbabd81c64",
   "metadata": {},
   "source": [
    "Verificando se as URI da ontologia estão presente em cada um dos corpora PetroNER"
   ]
  },
  {
   "cell_type": "code",
   "execution_count": 14,
   "id": "f25541b5-4036-4ed3-87d5-b845ec25c011",
   "metadata": {},
   "outputs": [],
   "source": [
    "def set_for_venn_diagram(list_classe_individuals):\n",
    "\n",
    "    cont_nenhum = []\n",
    "    cont_treino = []\n",
    "    cont_valid = []\n",
    "    cont_test = []\n",
    "    cont_treino_valid = []\n",
    "    cont_treino_teste = []\n",
    "    cont_valid_teste = []\n",
    "    cont_treino_valid_teste = []\n",
    "\n",
    "    for i in list_classe_individuals:\n",
    "        if i not in PetroNER_ENT_URI:\n",
    "            cont_nenhum.append(i)\n",
    "        else:\n",
    "            if i in treino_ENT_URI:\n",
    "                if i in valid_ENT_URI:\n",
    "                    if i in teste_ENT_URI:\n",
    "                        cont_treino_valid_teste.append(i)\n",
    "                    else:\n",
    "                        cont_treino_valid.append(i)\n",
    "                else:\n",
    "                    if i in teste_ENT_URI:\n",
    "                        cont_treino_teste.append(i)\n",
    "                    else:\n",
    "                        cont_treino.append(i)\n",
    "            else:\n",
    "                if i in valid_ENT_URI:\n",
    "                    if i in teste_ENT_URI:\n",
    "                        cont_valid_teste.append(i)\n",
    "                    else:\n",
    "                        cont_valid.append(i)\n",
    "                else:\n",
    "                    cont_test.append(i)\n",
    "                \n",
    "    return(cont_nenhum,\n",
    "           cont_treino,\n",
    "           cont_valid,\n",
    "           cont_test,\n",
    "           cont_treino_valid,\n",
    "           cont_treino_teste,\n",
    "           cont_valid_teste, \n",
    "           cont_treino_valid_teste)"
   ]
  },
  {
   "cell_type": "code",
   "execution_count": 15,
   "id": "a6b00064-6867-4f04-80cd-502e88ee16fe",
   "metadata": {},
   "outputs": [],
   "source": [
    "(cont_nenhum,\n",
    " cont_treino,\n",
    " cont_valid,\n",
    " cont_test,\n",
    " cont_treino_valid,\n",
    " cont_treino_teste,\n",
    " cont_valid_teste, \n",
    " cont_treino_valid_teste) = set_for_venn_diagram(onto_classes + \n",
    "                                                 onto_individual)"
   ]
  },
  {
   "cell_type": "code",
   "execution_count": 16,
   "id": "20683aaa-f2c4-4f9a-8565-84d6af183459",
   "metadata": {},
   "outputs": [
    {
     "name": "stdout",
     "output_type": "stream",
     "text": [
      "22  URIs da ontologia não aparece no PetroNER e as demais  7  seguem a seguinte distribuição:\n"
     ]
    },
    {
     "data": {
      "text/plain": [
       "<matplotlib_venn._common.VennDiagram at 0x2b3abf4985f8>"
      ]
     },
     "execution_count": 16,
     "metadata": {},
     "output_type": "execute_result"
    },
    {
     "data": {
      "image/png": "[encoded data removed]",
      "text/plain": [
       "<Figure size 504x504 with 1 Axes>"
      ]
     },
     "metadata": {},
     "output_type": "display_data"
    }
   ],
   "source": [
    "print(len(cont_nenhum), ' URIs da ontologia não aparece no PetroNER e as demais ', \n",
    "      len(onto_classes) + len(onto_individual) - len(cont_nenhum), ' seguem a seguinte distribuição:')\n",
    "\n",
    "plt.figure(figsize=(7,7))\n",
    "venn3(subsets = (len(cont_treino), \n",
    "                 len(cont_valid), \n",
    "                 len(cont_treino_valid), \n",
    "                 len(cont_test), \n",
    "                 len(cont_treino_teste), \n",
    "                 len(cont_valid_teste), \n",
    "                 len(cont_treino_valid_teste)), \n",
    "      set_labels = ('PetroNER Treino', 'PetroNER Validação', 'PetroNER Teste'))"
   ]
  },
  {
   "cell_type": "markdown",
   "id": "b1ac0277-3795-4898-b0ff-dd9b5e80f1ee",
   "metadata": {},
   "source": [
    "Ontologia povoada (excluindo os indivíduos e classes presentes na ontologia não povoada)"
   ]
  },
  {
   "cell_type": "code",
   "execution_count": 19,
   "id": "f96f2c05-03e2-4fb4-8314-8774b3b0a5cd",
   "metadata": {},
   "outputs": [
    {
     "name": "stdout",
     "output_type": "stream",
     "text": [
      "Ontologia não povoada\n",
      "Total de classes:  591\n",
      "Total de individuals:  39835\n",
      "Total de classes + individuals:  40426\n"
     ]
    }
   ],
   "source": [
    "onto_povoada_classes, onto_povoada_individual = extract_classes_e_individuals(onto_povoada)\n",
    "\n",
    "onto_povoada_classes = list(set(onto_povoada_classes) - set(onto_classes))\n",
    "onto_povoada_individual = list(set(onto_povoada_individual) - set(onto_individual))\n",
    "\n",
    "print('Ontologia não povoada')\n",
    "print('Total de classes: ', len(onto_povoada_classes))\n",
    "print('Total de individuals: ', len(onto_povoada_individual))\n",
    "print('Total de classes + individuals: ', len(onto_povoada_classes) + len(onto_povoada_individual))"
   ]
  },
  {
   "cell_type": "code",
   "execution_count": 20,
   "id": "64fd73b4-c469-4c0c-a240-e9ce29f4c9e1",
   "metadata": {},
   "outputs": [],
   "source": [
    "(cont_nenhum_povoada,\n",
    " cont_treino_povoada,\n",
    " cont_valid_povoada,\n",
    " cont_test_povoada,\n",
    " cont_treino_valid_povoada,\n",
    " cont_treino_teste_povoada,\n",
    " cont_valid_teste_povoada, \n",
    " cont_treino_valid_teste_povoada) = set_for_venn_diagram(onto_povoada_classes + \n",
    "                                                         onto_povoada_individual)"
   ]
  },
  {
   "cell_type": "code",
   "execution_count": 21,
   "id": "709083d7-e818-4307-a3e1-6ad308e9d61c",
   "metadata": {},
   "outputs": [
    {
     "name": "stdout",
     "output_type": "stream",
     "text": [
      "39634  URIs da ontologia não aparece no PetroNER e as demais  792  seguem a seguinte distribuição:\n"
     ]
    },
    {
     "data": {
      "text/plain": [
       "<matplotlib_venn._common.VennDiagram at 0x2b3abf74cf98>"
      ]
     },
     "execution_count": 21,
     "metadata": {},
     "output_type": "execute_result"
    },
    {
     "data": {
      "image/png": "[encoded data removed]",
      "text/plain": [
       "<Figure size 504x504 with 1 Axes>"
      ]
     },
     "metadata": {},
     "output_type": "display_data"
    }
   ],
   "source": [
    "print(len(cont_nenhum_povoada), ' URIs da ontologia não aparece no PetroNER e as demais ', \n",
    "      len(onto_povoada_classes) + len(onto_povoada_individual) - len(cont_nenhum_povoada), ' seguem a seguinte distribuição:')\n",
    "\n",
    "plt.figure(figsize=(7,7))\n",
    "venn3(subsets = (len(cont_treino_povoada), \n",
    "                 len(cont_valid_povoada), \n",
    "                 len(cont_treino_valid_povoada), \n",
    "                 len(cont_test_povoada), \n",
    "                 len(cont_treino_teste_povoada), \n",
    "                 len(cont_valid_teste_povoada), \n",
    "                 len(cont_treino_valid_teste_povoada)), \n",
    "      set_labels = ('PetroNER Treino', 'PetroNER Validação', 'PetroNER Teste'))"
   ]
  },
  {
   "cell_type": "markdown",
   "id": "568ad69d-5d50-4e09-9da8-3166877e0d2f",
   "metadata": {},
   "source": [
    "### Verificando as entidades novas anotadas no PetrNER\n",
    "  \n",
    "  Entidades novas são aquelas URI anotada no PetroNER, mas que não estão presentes na ontologia não povoada nem na ontologia povoada com as listas."
   ]
  },
  {
   "cell_type": "code",
   "execution_count": 22,
   "id": "6e2a30e9-049a-44be-8931-3b0dff3e0831",
   "metadata": {},
   "outputs": [
    {
     "data": {
      "text/plain": [
       "119"
      ]
     },
     "execution_count": 22,
     "metadata": {},
     "output_type": "execute_result"
    }
   ],
   "source": [
    "URI_onto = onto_classes + onto_individual + onto_povoada_classes + onto_povoada_individual\n",
    "\n",
    "new_entity = []\n",
    "\n",
    "for i in set(PetroNER_ENT_URI): #treino_ENT_URI, PetroNER_ENT_URI\n",
    "    if i not in URI_onto:\n",
    "        new_entity.append(i)\n",
    "        \n",
    "len(new_entity)"
   ]
  },
  {
   "cell_type": "code",
   "execution_count": 23,
   "id": "256c1587-a9da-4f00-a2ec-63df8e7806fd",
   "metadata": {},
   "outputs": [
    {
     "data": {
      "text/plain": [
       "['#CAMPO_GENERICO',\n",
       " '#externo_formacao_004',\n",
       " '#INTER_BACIA_024',\n",
       " '#inter_formacao_007',\n",
       " '#explotatory_well',\n",
       " '#externo_grupo_005',\n",
       " '#externo_membro_001',\n",
       " '#inter_membro_005',\n",
       " '#inter_formacao_003',\n",
       " '#porosidade_22',\n",
       " '#INTER_BACIA_003',\n",
       " '#INTER_BACIA_023',\n",
       " '#externo_textura_006',\n",
       " '#deeper_prospect_well',\n",
       " '#formation_fluid',\n",
       " '#inter_membro_006',\n",
       " '#inter_membro_004',\n",
       " '#Eoriodaserra_Age',\n",
       " '#subcommercial_well',\n",
       " '#EXTERNO_EST_FISICA_ROCHA_007',\n",
       " '#externo_textura_005',\n",
       " '#inter_membro_002',\n",
       " '#INTER_BACIA_008',\n",
       " '#EXTERNO_EST_FISICA_ROCHA_005',\n",
       " '#inter_membro_001',\n",
       " '#INTER_BACIA_026',\n",
       " '#inter_formacao_018',\n",
       " '#calcilutite',\n",
       " '#inter_formacao_015',\n",
       " '#INTER_BACIA_007',\n",
       " '#inter_formacao_004',\n",
       " '#stratigraphic_well',\n",
       " '#dry_hole',\n",
       " '#INTER_BACIA_002',\n",
       " '#INTER_BACIA_021',\n",
       " '#EXTERNO_EST_FISICA_ROCHA_006',\n",
       " '#Rio_da_serra_Age',\n",
       " '#porosidade_21',\n",
       " '#externo_grupo_004',\n",
       " '#INTER_BACIA_025',\n",
       " '#externo_formacao_003',\n",
       " '#INTER_BACIA_009',\n",
       " '#inter_formacao_010',\n",
       " '#inter_membro_011',\n",
       " '#inter_grupo_002',\n",
       " '#INTER_BACIA_012',\n",
       " '#EXTERNO_EST_FISICA_ROCHA_004',\n",
       " '#wildcat_well',\n",
       " '#INTER_BACIA_020',\n",
       " '#INTER_BACIA_001',\n",
       " '#CAMP_CD_CAMPO_0817',\n",
       " '#supergrupo_001',\n",
       " '#inter_formacao_006',\n",
       " '#INTER_BACIA_011',\n",
       " '#INTER_BACIA_014',\n",
       " '#Mesoriodaserra_Age',\n",
       " '#inter_formacao_019',\n",
       " '#inter_membro_007',\n",
       " '#INTER_BACIA_004',\n",
       " '#externo_formacao_001',\n",
       " '#??',\n",
       " '#INTER_CAMPO_003',\n",
       " '#Neo-Alagoas_Subage',\n",
       " '#externo_textura_001',\n",
       " '#INTER_CAMPO_0001',\n",
       " '#porosidade_10',\n",
       " '#inter_formacao_001',\n",
       " '#inter_formacao_020',\n",
       " '#porosidade_05',\n",
       " '#inter_formacao_028',\n",
       " '#shallower_prospect_well',\n",
       " '#inter_formacao_008',\n",
       " None,\n",
       " '#production_well',\n",
       " '#INTER_BACIA_019',\n",
       " '#INTER_BACIA_010',\n",
       " '#Permiano',\n",
       " '#inter_formacao_021',\n",
       " '#externo_grupo_003',\n",
       " '#inter_membro_013',\n",
       " '#EXTERNO_EST_FISICA_ROCHA_002',\n",
       " '#inter_formacao_023',\n",
       " '#inter_membro_009',\n",
       " '#porosidade_24',\n",
       " '#inter_formacao_026',\n",
       " '#EXTERNO_EST_FISICA_ROCHA_003',\n",
       " '#fluid_origin',\n",
       " '#EXTERNO_EST_FISICA_ROCHA_001',\n",
       " '#fluid_composition',\n",
       " '#INTER_BACIA_022',\n",
       " '#grupo_05',\n",
       " '#INTER_BACIA_006',\n",
       " '#externo_textura_002',\n",
       " '#inter_formacao_024',\n",
       " '#inter_membro_003',\n",
       " '#appraisal_well',\n",
       " '#POCO_GENERICO',\n",
       " '#inter_membro_010',\n",
       " '#inter_formacao_002',\n",
       " '#porosidade_18',\n",
       " '#inter_formacao_025',\n",
       " '#externo_grupo_002',\n",
       " '#inter_formacao_005',\n",
       " '#discovery_well',\n",
       " '#inter_formacao_027',\n",
       " '#INTER_BACIA_015',\n",
       " '#INTER_BACIA_016',\n",
       " '#INTER_BACIA_017',\n",
       " '#inter_formacao_022',\n",
       " '#INTER_CAMPO_0002',\n",
       " '#special_well',\n",
       " '#INTER_BACIA_005',\n",
       " '#INTER_BACIA_018',\n",
       " '#inter_membro_008',\n",
       " '#inter_formacao_016',\n",
       " '#inter_formacao_017',\n",
       " '#inter_grupo_001',\n",
       " '#inter_membro_012',\n",
       " '#INTER_BACIA_013']"
      ]
     },
     "execution_count": 23,
     "metadata": {},
     "output_type": "execute_result"
    }
   ],
   "source": [
    "new_entity"
   ]
  },
  {
   "cell_type": "markdown",
   "id": "6e09d2b3-8852-4ada-a0a9-df76142f52bc",
   "metadata": {},
   "source": []
  },
  {
   "cell_type": "code",
   "execution_count": null,
   "id": "be40166b-49e0-46a4-b98c-6daaf7e270f7",
   "metadata": {},
   "outputs": [],
   "source": []
  }
 ],
 "metadata": {
  "kernelspec": {
   "display_name": "Python 3 (ipykernel)",
   "language": "python",
   "name": "python3"
  },
  "language_info": {
   "codemirror_mode": {
    "name": "ipython",
    "version": 3
   },
   "file_extension": ".py",
   "mimetype": "text/x-python",
   "name": "python",
   "nbconvert_exporter": "python",
   "pygments_lexer": "ipython3",
   "version": "3.7.16"
  }
 },
 "nbformat": 4,
 "nbformat_minor": 5
}
