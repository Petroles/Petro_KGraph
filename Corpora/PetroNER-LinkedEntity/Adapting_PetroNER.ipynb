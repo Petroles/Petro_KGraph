{
 "cells": [
  {
   "cell_type": "markdown",
   "id": "078fcb30-410b-4440-9ede-25b4ef2f30e9",
   "metadata": {},
   "source": [
    "### Notebook to adjust PetroNER for Entity Linking task"
   ]
  },
  {
   "cell_type": "code",
   "execution_count": 27,
   "id": "6439c4b0-1acf-4ac2-92bd-220683de9694",
   "metadata": {},
   "outputs": [],
   "source": [
    "from owlready2 import *\n",
    "import gensim\n",
    "from conllu import parse_incr, parse\n",
    "import numpy as np"
   ]
  },
  {
   "cell_type": "markdown",
   "id": "1250b4a1-35c0-4083-9eb8-938fb0bedddd",
   "metadata": {},
   "source": [
    "Load ontology and embeddings"
   ]
  },
  {
   "cell_type": "code",
   "execution_count": 28,
   "id": "03dae845-46ce-4da9-a742-75da0848e08b",
   "metadata": {},
   "outputs": [
    {
     "data": {
      "text/plain": [
       "get_ontology(\"http://www.semanticweb.org/bg40/ontologies/2022/5/untitled-ontology-2#\")"
      ]
     },
     "execution_count": 28,
     "metadata": {},
     "output_type": "execute_result"
    }
   ],
   "source": [
    "#OntoGeoLógica populada (OntoGeoLogicaPopulada.owl)\n",
    "onto = get_ontology(\"../../KnowledgeGraph/OntoGeoLogicaPovoadaInstanciasRelacoes.owl\")\n",
    "onto.load()"
   ]
  },
  {
   "cell_type": "code",
   "execution_count": 29,
   "id": "d13e485f-2baa-41a1-b9ed-124d3911601b",
   "metadata": {},
   "outputs": [],
   "source": [
    "# Modelo OWL2Vec - \n",
    "PetroOntoVec = gensim.models.Word2Vec.load(\"../../Embeddings/PetroOntoVec/PetroOntoVec_simples/outputontology.embeddings\")"
   ]
  },
  {
   "cell_type": "markdown",
   "id": "7e5aa8d7-a627-4fcb-843f-40df6e335af5",
   "metadata": {},
   "source": [
    "Load PetroNER (file in CONLLU format)"
   ]
  },
  {
   "cell_type": "code",
   "execution_count": 30,
   "id": "d64c69d0-b3e2-4e57-b485-a2ac681cae99",
   "metadata": {},
   "outputs": [],
   "source": [
    "# CONLLU parser\n",
    "boleltins = open(\"../PetroNER/petroner-uri-2022-03-07.conllu\", \"r\", encoding=\"utf-8\")\n",
    "sentences = parse_incr(boleltins)"
   ]
  },
  {
   "cell_type": "markdown",
   "id": "3e46b866-644c-4d16-b65d-d965ed8952a0",
   "metadata": {},
   "source": [
    "### Preparing and processing the dataset"
   ]
  },
  {
   "cell_type": "markdown",
   "id": "e9351dbe-ce9c-403b-a96f-1d6c64cacc35",
   "metadata": {},
   "source": [
    "Função que recebe o texto anotado em formato CONLLU e processa para o treinamento. Tem como saída as sentenças acrescida das tags para indicar as entidades, bem como com a entidade no início do texto; lista com as entidades (instâncias extraídas do texto); lista com as classes que as entidades pertencem; e lista com as URI referente às entidades. O texto sai com o seguinte formato:  \n",
    "\"[Nome da classe] Nome da entidade | blablabla blablabla blablabla [E] Nome da entidade [/E] blablabla blablabla.\" "
   ]
  },
  {
   "cell_type": "code",
   "execution_count": 31,
   "id": "909bcddc-094b-4ac7-a1dd-6095e52df38b",
   "metadata": {},
   "outputs": [],
   "source": [
    "# Função que recebe\n",
    "def preparar_dataset(tokenlist):\n",
    "\n",
    "    #sent = TokenList([])\n",
    "    sent_orig = ''   # String para compor a sentença original\n",
    "    sents_NER = []   # Lista para armazenar as sentenças com indicação das entidades\n",
    "    NER_on = False   # Variável para indicar se está iterando por token de entidades\n",
    "    NER_tok = ''     # string para armazenar os tokens das entidades que estão sendo iteradas\n",
    "    MW_on = False    # Variável para indicar se está iterando por tolkens multiword\n",
    "    MW_tok = ''      # string para armazenar o termo multiword\n",
    "    MW_end = 0       # ID final do token multiword\n",
    "    ENT = []         # Lista para armazenar as entidades encontradas no texto\n",
    "    ENT_class = []   # Lista para armazenar as classes das entidades encontradas no texto\n",
    "    ENT_URI = []     # Lista para armazenar as URI das entidades encontradas no texto\n",
    "\n",
    "    #Iterando por todos os tokens de uma sentença\n",
    "    for tok in tokenlist:\n",
    "        # ignorando id não inteiro (tuplas), ou seja token multiword\n",
    "        if type(tok['id']) == int:\n",
    "\n",
    "            # Verifica se o token inicia uma entidade (\"B\")\n",
    "            if tok['deps'][0] == 'B':\n",
    "                \n",
    "                # Verifica se a variável NER_on está ativado (No caso de um tok \"B\" seguido de outro)\n",
    "                if NER_on == True:\n",
    "                    \n",
    "                    NER_on = False  # Desativa a variável NER_on\n",
    "\n",
    "                    # Para sentença mais recente da lista sents_NER, inclui a entidade no início e o marcador [/E] no final \n",
    "                    sents_NER[-1] = '[' + ENT_class[-1] + '] ' + NER_tok + '| ' + sents_NER[-1].strip() + ' [/E]'\n",
    "\n",
    "                    # Incluir o NER_tok na lista ENT\n",
    "                    ENT.append(NER_tok.strip())\n",
    "\n",
    "                    NER_tok = '' # Apaga a string NER_tok\n",
    "\n",
    "                NER_on = True  # Ativa a variável NER_on\n",
    "                # Acrescenta uma sentença com o marcador [E] na listas de sentenças com NER\n",
    "                sents_NER.append(sent_orig + ' [E]')\n",
    "                # Incluir classe na lista ENT_class\n",
    "                ENT_class.append(tok['deps'][2:])\n",
    "                # Incluir URI da entidade na lista ENT_URI. Caso não haja URI, incluir \"None\". \n",
    "                try:\n",
    "                    ENT_URI.append(tok['misc']['grafo'])\n",
    "                except:\n",
    "                    ENT_URI.append(None)\n",
    "\n",
    "            # Identifica o primeiro token \"O\" após uma sequência de entidades\n",
    "            if (tok['deps'][0] == 'O') & NER_on:\n",
    "                \n",
    "                NER_on = False  # Desativa a variável NER_on\n",
    "\n",
    "                # Para sentença mais recente da lista sents_NER, \n",
    "                # inclui a classe e a entidade no início e o marcador [/E] no final \n",
    "                sents_NER[-1] = '[' + ENT_class[-1] + '] ' + NER_tok + '| ' + sents_NER[-1].strip() + ' [/E]'\n",
    "\n",
    "                # Incluir o NER_tok na lista ENT\n",
    "                ENT.append(NER_tok.strip())\n",
    "\n",
    "                NER_tok = '' # Apaga a string NER_tok\n",
    "                \n",
    "            # Identifica se o último token da sequência tem o marcador \"B\" ou \"I\".    \n",
    "            if (tokenlist[-1]['id'] == tok['id']) & ((tok['deps'][0] == 'B') | (tok['deps'][0] == 'I')):\n",
    "                NER_on = False  # Desativa a variável NER_on\n",
    "\n",
    "                # Para sentença mais recente da lista sents_NER, \n",
    "                # inclui a classe e a entidade no início e o marcador [/E] no final \n",
    "                sents_NER[-1] = '[' + ENT_class[-1] + '] ' + NER_tok + '| ' + sents_NER[-1].strip() + ' [/E]'\n",
    "\n",
    "                # Incluir o NER_tok na lista ENT\n",
    "                ENT.append(NER_tok.strip())\n",
    "\n",
    "                NER_tok = '' # Apaga a string NER_tok\n",
    "\n",
    "            # Verifica se está iterando por uma multiword ou não\n",
    "            if not MW_on:\n",
    "\n",
    "                # Acrecenta o token à string da entidade\n",
    "                if NER_on:\n",
    "                    NER_tok = NER_tok + tok['form'] + ' '\n",
    "\n",
    "                # Se o token for uma pontuação, não inclui espaço entre o token anterior \n",
    "                if tok['upos'] == 'PUNCT':\n",
    "                    # O token é incluído na senteça original e em todas as sentenças da lista sents_NER\n",
    "                    sent_orig = sent_orig + tok['form']\n",
    "                    for i in range(len(sents_NER)):\n",
    "                        sents_NER[i] = sents_NER[i] + tok['form']\n",
    "                else:\n",
    "                    sent_orig = sent_orig + ' ' + tok['form']\n",
    "                    for i in range(len(sents_NER)):\n",
    "                        sents_NER[i] = sents_NER[i] + ' ' + tok['form']\n",
    "\n",
    "            else:\n",
    "                # Se o token for o último termo da multiword, desativamos a variável MW_on\n",
    "                if tok['id'] == MW_end:\n",
    "                    MW_on = False\n",
    "\n",
    "                    # Acrecenta a multiword à string da entidade\n",
    "                    if NER_on:\n",
    "                        NER_tok = NER_tok + MW_tok + ' '\n",
    "\n",
    "                    #Ao invés de incluir nas senteças o token, vamos incluir o MW_tok \n",
    "                    # Se o token for uma pontuação, não inclui espaço entre o token anterior \n",
    "                    if tok['upos'] == 'PUNCT':\n",
    "                        # O token é incluído na senteça original e em todas as sentenças da lista sents_NER\n",
    "                        sent_orig = sent_orig + MW_tok\n",
    "                        for i in range(len(sents_NER)):\n",
    "                            sents_NER[i] = sents_NER[i] + MW_tok\n",
    "                    else:\n",
    "                        sent_orig = sent_orig + ' ' + MW_tok\n",
    "                        for i in range(len(sents_NER)):\n",
    "                            sents_NER[i] = sents_NER[i] + ' ' + MW_tok\n",
    "\n",
    "        # Se a ID do token for referente a uma multiword, ativamos a variável MW_on, \n",
    "        # armazenamos o termo MW_tok e o valor da 'id' final\n",
    "        else:\n",
    "            MW_on = True\n",
    "            MW_tok = tok['form']\n",
    "            MW_end = tok['id'][-1]\n",
    "    \n",
    "    return(sents_NER, ENT, ENT_class, ENT_URI)"
   ]
  },
  {
   "cell_type": "code",
   "execution_count": 32,
   "id": "af3ccd53-2acc-4e58-a95e-b74bd6051dab",
   "metadata": {},
   "outputs": [
    {
     "name": "stdout",
     "output_type": "stream",
     "text": [
      "Total de sentenças no arquivo:  24035\n",
      "N° de sentenças com entidades:  18749\n",
      "N° de entidades:  18749\n",
      "N° de classes:  18749\n",
      "N° de classes:  18749\n"
     ]
    }
   ],
   "source": [
    "# Separando as listas de sentenças, entidades, classes e URI\n",
    "text = []\n",
    "entities = []\n",
    "classes_NER = [] \n",
    "ENT_URI = []\n",
    "\n",
    "# Iterando por todas as sentenças em formato CONLLU para preparar o dataset\n",
    "n = 0\n",
    "for tokenlist in sentences:\n",
    "    n = n + 1\n",
    "\n",
    "    text_n, entities_n, classes_NER_n, ENT_URI_n = preparar_dataset(tokenlist)\n",
    "    \n",
    "    text = text + text_n\n",
    "    entities = entities + entities_n\n",
    "    classes_NER = classes_NER + classes_NER_n\n",
    "    ENT_URI = ENT_URI + ENT_URI_n\n",
    "    \n",
    "print('Total de sentenças no arquivo: ', n)\n",
    "print('N° de sentenças com entidades: ', len(text))\n",
    "print ('N° de entidades: ', len(entities))\n",
    "print('N° de classes: ', len(classes_NER))\n",
    "print('N° de classes: ', len(ENT_URI))"
   ]
  },
  {
   "cell_type": "code",
   "execution_count": 33,
   "id": "3b809a0a-d39e-4378-8657-857248c8556b",
   "metadata": {},
   "outputs": [
    {
     "name": "stdout",
     "output_type": "stream",
     "text": [
      "Número de entidades sem URI:  5647\n",
      "Entidades sem URI: \n",
      "['Santana', 'Membro Mucuri', 'hidrocarbonetos', 'selo', 'petróleo', 'água', 'poços', 'petróleo', 'poços', 'poços', 'Bacia do', 'Bacia do Tucano', 'água', 'água do mar', 'Bacia do Tucano', 'poços', 'selo', 'petróleo', 'Bonsucesso', 'poços', 'poços', 'Alagoas', 'Potiguar', 'Ceará', 'Potiguar', 'Campos', 'Espirito Santo', 'Campos', 'água do mar', 'rocha', 'águas', 'água do mar', 'rocha', 'águas', 'Bacia', 'Campos', 'água', 'Bacia', 'aptiano', 'cenomaniano', 'mesocenomaniano', 'Alagoas', 'Potiguar', 'água', 'água', 'mesocenomaniano', 'Alagoas', 'poço', 'Potiguar', 'Ceará', 'Alagoas', 'Potiguar', 'Potiguar', 'Ceará', 'poços', 'Espirito Santo', 'Campos', 'Alagoas', 'Potiguar', 'Campos', 'Espirito Santo', 'Campos', 'Campos', 'poços', 'poços', 'poços', 'cenomaniano', 'santoniano', 'cenomaniano', 'santoniano', 'rocha', 'turoniano', 'santoniano', 'coniaciano', 'santoniano', 'neossantoniano', 'eocampaniano', 'Neoconiaciano', 'eomaastrichtiano', 'Campos', 'Espirito Santo', 'poços', 'Campos', 'Espirito Santo', 'poços', 'albiano', 'cenomaniano', 'Potiguar', 'Ceará', 'cenomaniano', 'campaniano', 'cretáceo', 'cenomaniano', 'campaniano', 'albiano', 'cenomaniano', 'cenomaniano', 'campaniano', 'Fazenda Cedro', 'cretáceo', 'óleo', 'poços', 'campo', 'poços', 'Ceará', 'Curima', 'poços', 'água', 'poços', 'poços', 'fluidos', 'óleo', 'rocha', 'cimentos', 'laminação cruzada', 'ripples', 'maciço', 'estratificação cruzada de baixo ângulo', 'laminação convoluta', 'poços', 'campo', 'Curimã', 'poços', 'poços', 'siltito', 'interlaminações', 'siltitos', 'fluidos', 'poços', 'poços', 'poços', 'Curimã', 'óleo', 'fluidos', 'óleo', 'óleo', 'Curima', 'poços', 'campo', 'água', 'campo', 'água', 'óleo', 'óleo', 'poços', 'campo', 'poços', 'campo', 'óleo', 'poços', 'óleo', 'óleo', 'esqueletal', 'esqueletal', 'esqueletal', 'poço', 'Membro Mucuri', 'Mucuri', 'poços', 'cimentos', 'Membro Mucuri', 'Mucuri', 'água de formação', 'soterramento', 'Membro Mucuri', 'Membro Mucuri', 'Membro Mucuri', 'hidrocarbonetos', 'Mucuri', 'Membro Mucuri', 'Membro Mucuri', 'campos', 'campos', 'Mucuri', 'embasamento', 'Membro Mucuri', 'Mucuri', 'Mucuri', 'Membro Mucuri', 'poços', 'poços', 'Mucuri', 'Mucuri', 'rocha', 'Membro Mucuri', 'Membro Mucuri', 'poços', 'Mucuri', 'Membro Mucuri', 'soterramento', 'Membro Mucuri', 'óleo', 'soterramento', 'poços', 'Poços', 'Membro Mucuri', 'rocha', 'Argila', 'Membro Mucuri', 'intersticial', 'Well 3', 'Well 8', 'Well 8', 'Membro Mucuri', 'intersticial', 'cimentos', 'Well 3', 'fluido', 'rocha', 'Membro Mucuri', 'água meteórica', 'Membro Mucuri', 'intersticial', 'Membro Mucuri', 'hidrocarbonetos', 'migração', 'óleo', 'soterramento', 'Membro Mucuri', 'Membro Mucuri', 'poços', 'fluido', 'fluidos', 'água meteórica', 'água meteórica', 'cimentos', 'Membro Mucuri', 'cimento', 'Membro Mucuri', 'Well 13', 'cimento', 'concreções', 'cimento', 'cimento', 'água marinha', 'Poço', 'Well 1', 'cimento', '', 'megacristalina', 'cimentos', 'Membro Mucuri', 'mosaico', 'cimentos', 'fluidos', 'Membro Mucuri', 'zonadas', 'água meteórica', 'fluido', 'Well 14', 'Membro Mucuri', 'água meteórica', 'água meteórica', 'cimentos', 'Membro Mucuri', 'água meteórica', 'Cimentos', 'Membro Mucuri', 'Well 11', 'cimentos', 'Membro Mucuri', 'poços', 'Membro Mucuri', 'Bacia', 'fluidos', 'Membro Mucuri', 'cimento', 'Membro Mucuri', 'Well', 'cimentos', 'água meteórica', 'Membro Mucuri', 'cimentos', 'cimentos', 'Membro Mucuri', 'cimento', 'Membro Mucuri', 'Membro Mucuri', 'cimento', 'cimentos', 'Membro Mucuri', 'maciços', 'cimentos', 'cimentos', 'águas marinhas', 'águas', 'cimentos', 'cimentos', 'águas marinhas', 'águas', 'cimentos', 'Membro Mucuri', 'cimentos', 'Membro Mucuri', 'cimento', 'Membro Mucuri', 'Membro Mucuri', 'cimentos', 'Membro Mucuri', 'Membro Mucuri', 'microporosidade', 'esqueletal', 'intragranular', 'Membro Mucuri', 'microporosidade', 'Membro Mucuri', 'Membro Mucuri', 'cimento', 'alongados', 'móldicos', 'água meteórica', 'Membro Mucuri', 'Membro Mucuri', 'Mucuri', 'água meteórica', 'Formação Norphlet', 'água meteórica', 'fluidos', 'móldica', 'intragranular', 'cimentos', 'Membro Mucuri', 'Membro Mucuri', 'fluidos', 'água meteórica', 'Membro Mucuri', 'Membro Mucuri', 'Membro Mucuri', 'cimentos', 'fluidos', 'água de formação', 'cimento', 'água meteórica', 'soterramento', 'água meteórica', 'cimentos', 'migração', 'óleo', 'Membro Mucuri', 'São Mateus', 'Membro Mucuri', 'Formação Mariricu', 'poços', 'Potiguar', 'Agulha', 'poço', 'campo', 'petróleo', 'Potiguar', 'Potiguar', '', 'Potiguar', 'Potiguar', 'Eoberriasiano', 'Aratu', 'Aratu', 'Neo-oligoceno', 'Potiguar', 'Formação', 'Potiguar', 'embasamento', 'maciços', 'Potiguar', 'poços', 'Formação Ponta do Mel', 'Membro Galinhos', 'Alagamar', 'Membro Galinhos', 'Formação Ponta do Mel', 'Membro Upanema', 'Bacia', 'Potiguar', 'Alagamar', 'Membro Galinhos', 'Alagamar', 'Membro Galinhos', 'Membro Galinhos', 'dômica', 'embasamento', 'Potiguar', 'embasamento', 'Potiguar', 'Potiguar', 'dômica', 'embasamento', 'Potiguar', 'embasamento', '', 'Potiguar', '', 'Potiguar', 'Membro Upanema', 'embasamento', 'dômica', 'embasamento', 'embasamento', 'Ubarana', 'Formação Macau', 'poços', 'embasamento', 'Guamaré', 'Formação Macau', '', 'Potiguar', 'petróleo', 'petróleo', 'petróleo', 'Potiguar', 'Ubarana', 'Formação Macau', 'Potiguar', 'Formação Ponta do Mel', 'petróleo', 'água', 'óleo', 'água', 'água', 'fluidos', 'óleo', 'óleo', 'água', 'poços', 'óleo', 'óleo', 'dômica', 'maciço', 'poço', 'poços', 'campo', 'água', 'poços', 'água', 'campo', 'água', 'campo', 'campo', 'poços', 'poço', 'água', 'poços', 'água', 'água', 'água', 'poços', 'poços', 'poços', 'poços', 'rocha', 'óleo', 'óleo', 'hidrocarbonetos', 'óleo', 'fluido', 'campo', 'poço', 'poço', 'maciço', 'rocha', 'poço', 'poço', 'campo', 'fluidos', 'água', 'água', 'campo', 'água', 'campo', 'óleo', 'campo', 'água', 'óleo', 'água', 'óleo', 'água', 'água', 'água', 'óleo', 'água', 'água', 'óleo', 'poços', 'água', 'água', 'poço', 'água', 'campo', 'poços', 'poço', 'poços', 'óleo', 'poço', 'poço', 'poço', 'água', 'água', 'poço', 'óleo', 'poço', 'óleo', 'óleo', 'campo', 'poço', 'óleo', 'rocha', 'petróleo', 'água', 'poços', 'cataclásticas', 'fluidos', 'cataclásticas', 'corpo ígneo', 'Potiguar', 'embasamento', 'Grupo Seridó', 'Araripe', 'Rio do Peixe', 'Iguatu', 'embasamento', 'foliação', 'milonítica', 'Bacia', 'Potiguar', 'Grupo Seridó', 'foliação', 'milonítica', 'foliação', 'milonitica', 'lineação de estiramento', 'rocha', 'foliação', 'foliação', 'milonítica', 'foliação', 'milonitica', 'Potiguar', 'foliação', 'lineação', 'rocha', 'rocha', 'rocha', 'foliação', 'fluidos', 'veios', 'dilatação', 'veios', 'fluidos', 'fluidos', 'rocha', 'foliação', 'rocha', 'rocha', 'pseudomorfos', 'rocha', 'rocha', 'pseudomorfos', 'zonados', 'boudinage', 'puil-apart', 'fluidos', 'foliação', 'milonítica', 'cataclástica', 'cataclásticas', 'rocha', 'rocha', 'fluidos', 'embasamento', 'rocha', 'água', 'rocha', 'soterramento', 'fluidos', 'CO2', 'CO2', 'rocha', 'rocha', 'foliação', 'rocha', 'fluidos', 'fluidos', 'fluidos', 'fluidos', 'fluidos', 'rocha', 'fluidos', 'fluidos', 'idade pós- Campaniano', 'Barreirinhas', 'Potiguar', 'foliação', 'milonitica', 'foliação', 'fluidos', 'cataclásticas', 'fluidos', 'cataclásticas', 'Potiguar', 'Potiguar', 'Bacia', 'faulting', 'fluidos', 'campos', 'petróleo', 'fluidos', 'petróleo', 'petróleo', 'petróleo', 'fluidos', 'gás', 'água', 'água', 'óleo', 'óleo', 'água', 'água', 'gás', 'petróleo', 'fluidos', 'óleo', 'petróleo', 'Ceará', 'Potiguar', 'Espirito Santo', 'fluidos', 'campo', 'campo', 'fluido', 'fluido', 'óleo', 'óleo', 'gás', 'óleo', 'fluidos', 'Bijupirá', 'Barracuda', 'gás', 'água', 'Formação Itaparica', 'Potiguar Basin', 'Riachuelo', 'águas', 'água', 'Embasamento', 'estromatolíticos', 'carnalita', 'taquidrita', 'aptiano', 'siltitos', 'maciços', 'Membro Oiteirinhos', 'Well CBP-1A', 'Membro Oiteirinhos', 'águas', 'água', 'Membro Oiteirinhos', 'Membro Oiteirinhos', 'águas', 'Potiguar', 'Membro Oiteirinhos', 'maciço', 'Membro Oiteirinhos', 'Formação Riachueio', 'poços', 'águas', 'poços', 'Alagoas', 'poços', 'poços', 'poços', '2-PE-2-AM', '2-AM-2-AM', 'formações', 'Série Lampasan', 'Bashkiriano', 'Bendian', 'Lampasan', 'poços', 'séries Lampasan', 'Bendian', 'poço', 'well 2-CA-1-AM', 'Juruá', 'Bacia do Alto Amazonas', 'AM-5-AM', 'UI-2-AM', 'UI-2-AM', 'MA-1-PA', 'MA-1-PA', 'MD-1-AM', 'MD-1-AM', 'MA-1-PA', 'MA-1-PA', 'MD-1-AM', 'MD-1-AM', 'água doce', 'Campos', 'Campos', 'Pimenteiras', 'moldes', 'Serraria', 'Alagoas', 'Araripe', 'M’ Vone', 'N’Dombo', 'Cocobeach inferior', 'Araripe', 'Rio do Peixe', 'Iguatu', 'magma', 'Campos', 'Barreirinhas', 'Formação Codó', 'Araripe', 'Barreirinhas', 'Ceará', 'Potiguar', 'siltitos', 'Burdigaliano', 'embasamento', 'trapas', 'Campos', 'Jequitinhonha', 'Bacia do Tucano', 'Formação Cocobeach', 'embasamento', 'Bacia do Maranhão', 'Bacia', 'Barreirinhas', 'poço', 'poço', 'poço', 'poço HL-1', 'Formação Pee Dee', 'rocha', 'well HL-1', 'HL-1', 'águas', 'poços HL-1', 'ODP-677', 'poços HL-1', 'ODP-677', 'ODP-677', 'poço HL-1', 'gás', 'poço HL-1', 'ODP-677', 'HL-1', 'águas', 'gases', 'poco ODP-677', 'preservação', 'HL-1', 'HL-1', 'BU-91 / GL-05', 'fluido', 'poços', 'petróleo', 'fluido', 'fluido', 'poços', 'poços', 'campo', 'petróleo', 'rocha', 'poços', 'poços', 'poço', 'poço', 'poço', '', 'poços', 'poços', 'poços', 'poços', 'poço', 'poços', 'poço', 'água', 'água', 'poços', 'hidrocarbonetos', 'Bacia', 'hidrocarbonetos', 'Parana', 'hidrocarbonetos', 'poços', 'embasamento', 'embasamento', 'hidrocarbonetos', 'embasamento', 'embasamento', '', 'embasamento', 'poços', 'água', 'embasamento', 'poço', 'embasamento', 'embasamento', 'poços', 'Tatuí', 'Estrada Nova', 'Formação Rio do Rasto', 'poços', 'siltito', 'embasamento', 'poços', 'poços', 'poços', 'Grupo Rio Ivaí', 'poço', 'Formação Serra Geral', 'poços', 'Formação Serra Geral', 'magma', 'poços', 'poços', 'poço', 'poços', 'Formação Serra Geral', 'Grupo Bauru', 'Formação Serra Geral', 'Eodevoniano', 'devoniano', 'Formação Serra Geral', 'magmas', 'Formação Rio do Rasto', 'Rio Ivaí', 'Furnas', 'Formação Serra Geral', 'Bauru', 'lavas vulcânicas', 'Formação Rio do Rasto', 'Formação Serra Geral', 'hidrocarbonetos', 'embasamento', 'chevron', 'soterramento', 'águas', 'água', 'águas', 'água', 'chevron', 'chevron', 'chevron', 'chevron', 'chevron', 'dendríticas', 'chevron', 'chevron', 'dendríticas', 'chevron', 'águas', 'chevron', 'Alagoas', 'Alagoas', 'Alagoas', 'Alagoas', 'Jacuípe', 'Alagoas', 'Formação Calumbi', 'Alagoas', 'Alagoas', 'Alagoas', 'eoligocena/', 'neo-eocena', 'Formação Estância', 'Alagoas', 'Formação Estância', 'embasamento', 'estratificações', 'poços', 'Alagoas', 'Formação Santa Brígida', 'Bacia de Tucano', 'Formação Serra Geral', 'Campos', 'siltitos', 'Alagoas', 'Coqueiro Seco', 'Alagoas', 'Formação Calumbi', 'Alagoas', 'Formação Calumbi', 'Formação Calumbi', 'poços', 'Alagoas', 'Alagoas', 'Alagoas', 'embasamento', 'embasamento', 'Alagoas', 'Alagoas', 'Alagoas', 'embasamento', 'mound', 'mounds', 'intrusões ígneas', 'intrusão ígnea', 'Alagoas', 'Formação Calumbi', 'Campos', 'Alagoas', 'Alagoas', 'Alagoas', 'embasamento', 'embasamento', 'embasamento', 'embasamento', 'Formação Calumbi', 'material vulcânico', 'Bacia', 'Alagoas', 'Alagoas', 'Alagoas', 'Alagoas', 'água salgada', 'rocha', 'Alagoas', 'água salina', 'Alagoas', 'embasamento', 'poços', 'Alagoas', 'poços', 'Alagoas', 'Alagoas', 'Formação Calumbi', 'Formação Calumbi', 'poço', 'Alagoas', 'Alagoas', 'embasamento', 'embasamento', 'poços', 'poço', 'Alagoas', 'Alagoas', 'Alagoas', 'mound', 'Alagoas', 'Alagoas', 'mound', 'Alagoas', 'poços', 'poços', 'embasamento', 'poços', 'mound', 'intrusivas vulcânicas', 'embasamento', 'mound', 'Alagoas', 'embasamento', 'intrusiva vulcânica', 'mounds', 'intrusiva vulcânica', 'Alagoas', 'intrusão ígnea', 'Alagoas', 'intrusão ígnea', 'poços', 'extrusivas vulcânicas', 'Alagoas', 'embasamento', 'Alagoas', 'poços', 'poços', 'embasamento', 'Alagoas', 'Alagoas', 'Alagoas', 'material ígneo', 'Alagoas', 'Alagoas', 'Jacuípe', 'poços', 'embasamento', 'embasamento', 'Alagoas', 'Alagoas', 'poços', 'Alagoas', 'poços', 'Campos', 'Alagoas', 'poços', 'Alagoas', 'poços', 'poços', 'Alagoas', 'Alagoas', 'hidrocarbonetos', 'rochas geradoras', 'geração', 'petróleo', 'rochas geradoras', 'geração', 'gerador', 'geração', 'petróleo', 'rocha geradora', 'hidrocarbonetos', 'rochas geradoras', 'rochas geradoras', 'geração', 'petróleo', 'geração', 'óleo', 'petróleo', 'rocha geradora', 'geração', 'rocha geradora', 'petróleo', 'petróleo', 'rocha geradora', 'fluidos', 'geração', 'migração', 'petróleo', 'geradora', 'séries', 'geração', 'migração', 'geração', 'petróleo', 'hidrocarbonetos', 'rocha geradora', 'geração', 'petróleo', 'petróleo', 'petróleo', 'gás', 'soterramento', 'rochas geradoras', 'petróleo', 'gerador', 'petróleo', 'óleo', 'gás', 'petróleo', 'gerador', 'gerador', 'petróleo', 'gerador', 'gerador', 'gerador', 'petróleo', 'rochas geradoras', 'migração', 'rochas geradoras', 'petróleo', 'migração', 'petróleo', 'rocha geradora', 'petróleo', 'poços', 'gerador', 'petróleo', 'geradora', 'gerador', 'petróleo', 'rocha', 'hidrocarbonetos', 'rocha', 'hidrocarbonetos', 'hidrocarbonetos', 'geração', 'hidrocarbonetos', 'hidrocarbonetos', 'gerador', 'hidrocarbonetos', 'geração', 'hidrocarbonetos', 'geração', 'hidrocarbonetos', 'rocha', 'gerador', 'petróleo', 'gerador', 'gerador', 'hidrocarbonetos', 'rocha geradora', 'petróleo', 'gerador', 'petróleo', 'gerador', 'petróleo', 'geração', 'petróleo', 'hidrocarbonetos', 'rocha geradora', 'petróleo', 'petróleo', 'petróleo', 'petróleo', 'rocha geradora', 'rocha geradora', 'soterramento', 'gerador', 'soterramento', 'gerador', 'gerador', 'hidrocarbonetos', 'petróleo', 'geração', 'geração', 'hidrocarbonetos', 'hidrocarbonetos', 'gerador', 'gerador', 'petróleo', 'hidrocarbonetos', 'migração', 'petróleo', 'geração', 'petróleo', 'rocha geradora', 'geração', 'petróleo', 'geradora', 'petróleo', 'rocha geradora', 'poços', 'geradora', 'poços', 'hidrocarbonetos', 'geração', 'petróleo', 'petróleo', 'geração', 'petróleo', 'rocha geradora', 'geradora', 'gerador', 'gerador', 'petróleo', 'geração', 'geração', 'geradora', 'betume', 'hidrocarbonetos', 'hidrocarbonetos', 'rocha geradora', 'hidrocarbonetos', 'hidrocarbonetos', 'hidrocarbonetos', 'rocha geradora', 'hidrocarbonetos', 'hidrocarbonetos', 'rocha geradora', 'hidrocarbonetos', 'rocha geradora', 'geração', 'gás', 'hidrocarbonetos', 'rochas geradoras', 'poços', 'petróleo', 'migração', 'petróleo', 'rocha geradora', 'preservação', 'petróleo', 'rochas geradoras', 'betumes', 'hidrocarbonetos', 'hidrocarbonetos', 'rochas geradoras', 'poços', 'petróleo', 'migração', 'petróleo', 'rocha geradora', 'preservação', 'petróleo', 'rochas geradoras', 'betumes', 'hidrocarbonetos', 'fluidos', 'óleo', 'migração', 'petróleo', 'geração', 'migração', 'petróleo', 'geradora', 'geração', 'petróleo', 'óleo', 'rochas geradoras', 'gerador', 'petróleo', 'geradores', 'rochas geradoras', 'geradoras', 'Gerador', 'água doce/', 'gerador', 'rocha', 'geradora', 'poços', 'geração', 'petróleo', 'geração', 'petróleo', 'petróleo', 'geração', 'óleo', 'geração', 'Gerador', 'gerador', 'rocha', 'poços', 'geração', 'petróleo', 'óleo', 'geradora', 'geração', 'óleo', 'geração', 'geração', 'rocha', 'geração', 'petróleo', 'geração', 'petróleo', 'migração', 'geração', 'petróleo', 'geração', 'petróleo', 'geração', 'petróleo', 'geração', 'petróleo', 'geração', 'gerador', 'águas', 'Campos', 'águas', 'Campos', 'Campos', 'Marlim', 'Albacora', 'águas', 'águas', 'águas', 'águas', 'águas', 'águas', 'águas', 'águas', 'Albacora', 'Albacora', 'Albacora', 'Albacora', 'águas', 'águas', 'Marlim', 'Albacora', 'Marlim', 'Albacora', 'Marlim', 'Albacora', 'Albacora', 'Marlim', 'Marlim', 'Albacora', 'Marlim', 'Albacora', 'águas', 'Marlim', 'Albacora', 'Marlim', 'Albacora', 'Marlim', 'Albacora', 'Marlim', 'Albacora', 'Marlim', 'Marlim', 'águas', 'carnalita', 'silvinita', 'água', 'chevron', 'chevron', 'GTP-8', 'GTP-6', 'geração', 'petróleo', 'geração', 'petróleo', 'poços', 'Potiguar', 'trapas', 'trapas', 'poços', 'embasamento', 'Potiguar', 'Potiguar', 'Rio do Peixe', 'embasamento', 'eobarremiana', 'Potiguar', 'embasamento', 'Potiguar', 'Bacia', 'embasamento', 'Potiguar', 'Potiguar', 'poços', 'poços', 'Potiguar', 'Potiguar', 'poços', 'poços', '', 'P4', 'Potiguar', 'Potiguar', 'VRG-1D-RN', 'Bacia', 'Potiguar', 'Potiguar', 'Potiguar', 'poços', 'Potiguar', 'Formação Cabo', 'embasamento', 'Formação Cabo', 'corpos ígneos', 'poços', 'sub-bacia', 'poços', 'poços', 'sub-bacia', 'Formação Cabo', 'embasamento', 'Formação Cabo', 'embasamento', 'siltitos', 'Formação Cabo', 'embasamento', 'Formação Cabo', 'Formação Cabo', 'Formação Cabo', 'embasamento', 'embasamento', 'Formação Cabo', 'poços', 'embasamento', 'Formação Cabo', 'milonítica', 'cataclásticas', 'embasamento', 'Formação Cabo', 'miloníticas', 'fluidos', 'magmas', 'Formação Cabo', 'poços', 'poços', 'Formação Cabo', 'poços', 'Formação Cabo', 'poços', 'Formação Cabo', 'magmas', 'Formação Cabo', 'água', 'água', 'água', 'água', 'Coqueiro Seco', 'poços', 'poços', 'maciço', 'siltitos', 'ripples', 'maciça', 'siltitos', 'estratificação cruzada sigmoidal', 'ripples', 'filmes de argila', 'siltitos', 'ripples', 'maciço', 'maciço', 'águas', 'água', 'águas', 'preservação', 'águas', 'Buracica Inferior', 'Buracica inferior', 'Buracica superior', 'poços', 'água', 'água', 'água', 'água', 'água', 'água', 'água', 'água', 'água', 'água', 'água', 'água', 'Buracica', 'poços', 'Furado', 'óleo', 'gás', 'campo', 'gás', 'Manati', 'Potiguar', 'Formação São Sebastião', 'água', 'Formação São Sebastião', 'Buracica', 'poços', 'poços', 'Formação São Sebastião', 'poços', 'Aratu', 'água', 'poços', 'poços', 'poços', 'poços', 'poços', 'siltitos', 'água', 'água', 'água', 'água', 'estratificação', 'água', 'água', 'poços', 'campo', 'Formação São Sebastião', 'Formação São Sebastião', 'cretáceo', 'Formação São Sebastião', 'Cumuruxatiba', 'Campos', 'Jequitinhonha', 'Jequitinhonha', 'poços', 'formações Morro do Barro', 'São Mateus', 'Jequitinhonha', 'Rio Doce', 'Jequitinhonha', 'rochas geradoras', 'hidrocarbonetos', 'Jequitinhonha', 'petróleo', 'Jequitinhonha', 'Jacuípe', 'poços', 'poços', 'Aratu', 'Buracica', '', 'Jequitinhonha', 'Jequitinhonha', 'rocha', 'Jequitinhonha', 'Dom João', 'Jequitinhonha', 'Jequitinhonha', 'Formação Morro do Barro', 'maciços', 'poços', 'Jequitinhonha', 'poços', 'Formação Mariricu', 'Jequitinhonha', 'Rio Doce', '', 'Jequitinhonha', 'geração', 'hidrocarbonetos', 'embasamento', 'poço', 'poços', 'Camamu', 'Almada', 'Jequitinhonha', 'água', 'embasamento', 'maciços', 'poços', 'hidrocarbonetos', 'trapas', 'poços', 'trapas', 'Potiguar', 'sub-bacias', 'poços', 'maciços', 'água', 'poço 1-E-1', 'poço 1-E-2', 'poço 1-E-3', 'poços', 'poços', 'água', 'soterramento', 'poços', 'poço 1-E-1', 'material detrítico', 'Eoberriasiano', 'Well', 'maciços', 'Taquipe', 'poço 1-E-1', 'maciços', 'poço', 'poço 1-E-6', 'poço 1-E-1', 'Eovalanginiano', 'maciços', 'poços', 'poços 1-E-1', 'Eoberriasiano', 'poço', 'Eoberriasiano', 'embasamento', 'maciços', 'trapas', 'soterramento', 'rocha geradora', 'hidrocarbonetos', 'hidrocarbonetos', 'Santana', 'Formação São Sebastião', 'Formação Jacuípe', 'mounds', 'Camaçari', 'Campos', 'rocha', 'Campos', 'Campos', 'Campos', 'Campos', 'hidrocarbonetos', 'maciços', 'gnáissicos', 'maciço', 'embasamento', 'neocretáceo', 'maciços', 'embasamento', 'Resende', 'Volta Redonda', 'embasamento', 'embasamento', 'embasamento', 'embasamento', 'Grupo Brusque', 'embasamento', 'embasamento', 'embasamento', 'embasamento', 'embasamento', 'embasamento', 'Grupo Brusque', 'embasamento', 'embasamento', 'embasamento', 'embasamento', 'corpos ígneos', 'embasamento', 'embasamento', 'embasamento', 'embasamento', 'corpo ígneo', 'embasamento', 'embasamento', 'petróleo', 'Mesoeoceno', 'embasamento', 'Namorado', 'Mesoeoceno', 'embasamento', 'Grupo Bauru', 'embasamento', 'embasamento', 'Eoconiaciano', 'maciça', 'maciço', 'Mesoeoceno', 'Lutetiano', 'Mesoeoceno', 'Neo-eoceno', 'Campos', 'Neo-eoceno/', 'Oligoceno/', 'Eomioceno', 'embasamento', 'embasamento', 'embasamento', 'maciça', 'Mesoeoceno', 'óleo', 'embasamento', 'embasamento', 'neocretáceo', 'embasamento', 'neocretáceo', 'Santana', 'Campos', 'embasamento', 'Campos', 'Curitiba', 'poço', 'óleo', 'poços', 'campos', 'óleo', 'gás', 'campo', 'Formação Santa Brígida', 'Alagoas', 'Kunguriano', 'Dom João', 'Aratu', 'Buracica', 'Camamu', 'Almada', 'Eoberriasiano', 'Formação Itaparica', 'Bacia do Tucano', 'Camamu', 'Almada', 'maciços', 'Formação Maracangalha', 'maciços', 'Aratu', 'siltitos', 'Formação Marfim', 'Membro Catu', 'Formação Pojuca', 'Formação Taquipe', 'Formação São Sebastião', 'Grupo Massacará', 'Bacia do Tucano', 'Formação Marizal', 'Formação Marizal', 'Eomioceno', 'Formação Sabiá', 'petróleo', 'Formação Marizal', 'embasamento', 'embasamento', 'siltitos', 'estratificações cruzadas de baixo ângulo', 'laminações', 'estratificações cruzadas', 'rochas geradoras', 'septárias', 'petróleo', 'estratificações', 'laminações cruzadas', 'estratificações cruzadas', 'estratificações cruzadas tabulares', 'caliche', 'estratificação', 'Formação Maracangalha', 'estratificações', 'maciços', 'Formação Maracangalha', 'maciços', 'maciços', 'Formação Maracangalha', 'estratificações', 'laminações cruzadas', 'maciços', 'campos', 'gás', 'maciços', 'maciços', 'Formação Maracangalha', 'Formação Marizal', 'Formação Maracangalha', 'Formação São Sebastião', 'Formação Marizal', 'óleo', 'óleo', 'Formação São Sebastião', 'Formação São Sebastião', 'águas', 'maciços', 'Formação Taquipe', 'Formação Taquipe', 'laminações cruzadas', 'maciços', 'Camamu', 'Taquipe', 'migração', 'hidrocarbonetos', 'petróleo', 'petróleo', 'lineações', 'Campos', 'poços', 'Cumuruxatiba', 'Alagoas', 'Aratu', 'Buracica', 'Campos', 'Formação Serra Geral', 'Poços', 'Formação Imbituba', 'Formação Cricaré', 'Formação Serra Geral', 'poços', 'gases', 'CO2', 'gás', 'CO2', 'CO2', 'CO2', 'Buracica', 'Aratu', 'Aratu', 'água', 'Alagoas', 'poços', 'Alagoas', 'siltitos', 'Bacia do Tucano', 'Alagoas', 'Alagoas', 'Aratu', 'poços', 'Alagoas', 'Alagoas', 'Cumuruxatiba', 'Camamu', 'Alagoas', 'Camamu', 'Almada', 'Bacia do Tucano', '', 'Potiguar', 'Formação Cricaré', 'água', 'Buracica', 'CO2', 'Bacia do Tucano', 'Mucuri', 'Cumuruxatiba', 'Alagoas', 'águas', 'Candeias', 'Aratu', 'poço', 'mesoalbiano', 'água', 'águas', 'águas', 'Alagoas', 'Campos', 'poços', 'águas', 'água', 'água', 'águas', 'poços', 'águas', 'águas', 'preservação', 'águas', 'Potiguar', 'águas', 'águas', 'águas', 'águas marinhas', 'águas', 'Campos', 'águas', 'águas', 'águas', 'água', 'Campos', 'estratificação', 'águas', 'águas', 'água', 'águas', 'águas', 'estratificação', 'Formação Ponta do Mel', 'Formação Ponta do Mel', 'poços', 'Almada', 'embasamento', 'campos', 'petróleo', 'embasamento', 'caóticos', 'embasamento', 'Almada', 'campos', 'petróleo', 'fragmentos vulcânicos', 'gases', 'água', 'maciças', 'fluidos', 'campos', 'petróleo', 'poços', 'embasamento', 'embasamento', 'embasamento', 'slickensides', 'embasamento', 'embasamento', 'linsen', 'ripples', 'mud couplets', 'maciços', 'linsen', 'ripples bidirecionais', 'água', 'embasamento', 'maciços', 'laminação', 'caóticos', 'caóticos', 'linsen', 'ripples', 'rocha', 'embasamento', 'maciços', 'embasamento', 'contato erosivo', 'maciços', 'fluidos', 'estratificação cruzada', 'cruzadas de baixo ângulo', 'laminação', 'maciças', 'laminação incipiente', 'alongados', 'laminação', 'ripples', 'laminação', 'slump', 'água doce', 'águas', 'siltitos', 'maciços', 'embasamento', 'embasamento', 'embasamento', 'caóticas', 'caóticos', 'água', 'gnáissicas', 'embasamento', 'água do mar', 'água meteórica', 'Bacia', 'soterramento', 'embasamento', 'embasamento', 'cimentos', 'águas', 'cimentos', '', 'Camamu', 'Almada', 'petróleo', 'petróleo', 'Formação Ubatuba', 'poços', 'água', 'água', 'fluido', 'trapa', 'trapa', 'CNC-24', 'estratificação', 'tálus', 'Areia', 'poço', 'Potiguar', 'poços', 'Namorado', 'poços', 'poços', 'hidrocarbonetos', 'poços', 'poços', 'poços', 'poço', 'poços', 'poços', 'água', 'poços', 'poços', 'poços', 'Namorado', 'poços', 'poços', 'Namorado', 'campo', 'Namorado', 'poços', 'poços', 'poços', 'poços', 'poço', 'poços', 'campo', 'poços', 'poços', 'poços', 'poços', 'Namorado', 'Namorado', '', 'poços', 'poços', 'poços', 'poços', 'poços', 'poços', 'poços', 'poços', 'poços', 'poços', 'poço', 'poços', 'Namorado', 'poço', 'Namorado', 'Namorado', 'poços', 'poços', 'poços', 'poços', 'poços', 'poços', 'poço', 'poços', 'Namorado', 'poços', 'poços', 'poços', 'poços', 'poços', 'Namorado', 'poços', 'poços', 'poços', 'poços', 'poços', 'Namorado', 'hidrocarbonetos', 'gases', 'gases', 'gases', 'geração', 'hidrocarbonetos', 'migração', 'gases nobres', 'gases', 'gases', 'hidrocarbonetos', 'gases nobres', 'hidrocarbonetos', 'gases', 'hidrocarbonetos', 'gás', 'óleo', 'gás', 'gás', 'gases', 'hidrocarbonetos', 'gás', 'migração', 'gases', 'gases', 'gases', 'gases', 'óleo', 'migração', 'geração', 'gases', 'hidrocarbonetos', 'gases nobres', 'gases', 'geração', 'migração', 'preservação', 'gases', 'hidrocarbonetos', 'hidrocarbonetos', 'migração', 'hidrocarbonetos', 'hidrocarbonetos', 'hidrocarbonetos', 'hidrocarbonetos', 'gases', 'gases', 'gases', 'CO2', 'CO2', 'gás', 'gases', 'campos', 'óleo', 'gases', 'gás', 'migração', 'geração', 'hidrocarbonetos', 'gerador', 'óleo', 'gases', 'óleo', 'gases', 'óleo', 'gases', 'óleo', 'gases', 'hidrocarbonetos', 'óleo', 'gases', 'óleo', 'Gases', 'hidrocarbonetos', 'gases', 'hidrocarbonetos', 'hidrocarbonetos', 'gases', 'hidrocarbonetos', 'óleos', 'óleo', 'hidrocarbonetos', 'gases', 'hidrocarbonetos', 'Gases', 'gases', 'gases', 'gases', 'hidrocarbonetos', 'hidrocarbonetos', 'hidrocarbonetos', 'rocha', 'gerador', 'hidrocarbonetos', 'gases', 'gás', 'gases', 'Amazonas', 'rocha geradora', 'hidrocarboneto', 'hidrocarbonetos', 'hidrocarbonetos', 'hidrocarbonetos', 'hidrocarbonetos', 'hidrocarboneto', 'hidrocarboneto', 'gases', 'intrusões ígneas', 'hidrocarbonetos', 'hidrocarbonetos', 'hidrocarbonetos', 'hidrocarbonetos', 'geração', 'hidrocarbonetos', 'geração', 'hidrocarbonetos', 'hidrocarbonetos', 'gases', 'gases', 'poços', 'gás', 'gases', 'hidrocarbonetos', 'gases', 'hidrocarbonetos', 'óleos', 'hidrocarbonetos', 'óleos', 'gases', 'gases', 'hidrocarboneto', 'petróleo', 'gases', 'gases', 'hidrocarboneto', 'gás', 'hidrocarbonetos', 'CO2', 'gases', 'CO2', 'gases', 'CO2', 'petróleo', 'hidrocarbonetos', 'migração', 'gases', 'migração', 'migração', 'óleo', 'hidrocarbonetos', 'hidrocarbonetos', 'poços', 'hidrocarbonetos', 'hidrocarbonetos', 'gases', 'gases', 'gás', 'gás', 'gás', 'gás', 'gás', 'selo', 'gás', 'gás', 'gás', 'CO2', 'gás', 'hidrocarbonetos', 'gases', 'gás', 'gás', 'hidrocarbonetos', 'gás', 'Pelotas', 'petróleo', 'CO2', 'H2S', 'N2', 'H2', 'gases nobres', 'gás', 'hidrocarbonetos', 'gás', 'gás', 'fluidos', 'gases', 'gases', 'gás', 'geração', 'migração', 'Campos', 'geração', 'hidrocarbonetos', 'hidrocarbonetos', 'óleo', 'gases nobres', 'gases', 'hidrocarbonetos', 'migração', 'CO2', 'H2S', 'N2', 'poços', 'hidrocarbonetos', 'hidrocarbonetos', 'gases', 'gás', 'fluidos', 'gases', 'hidrocarbonetos', 'CO2', 'CO2', 'CO2', 'hidrocarbonetos', 'rochas geradoras', 'CO2', 'CO2', 'CO2', 'CO2', 'gases', 'CO2', 'CO2', 'CO2', 'intrusões ígneas', 'CO2', 'gases', 'poços', 'gás', 'gás', 'gases', 'gases', 'gases', 'geração', 'migração', 'preservação', 'hidrocarbonetos', 'gases', 'óleos', 'gases', 'gás', 'gases', 'CO2', 'hidrocarbonetos', 'gases', 'gases', 'gases', 'gases nobres', 'gases', 'hidrocarbonetos', 'gases', 'Xaréu', 'Atum', 'Curimã', 'Amazonas', 'gases', 'Membro Assistência', 'gases', 'gases', 'gases', 'gases', 'CO2', 'gases', 'poço', 'geração', 'hidrocarbonetos', 'óleos', 'gases', 'embasamento', 'embasamento', 'Potiguar', 'embasamento', 'embasamento', 'poços', 'embasamento', 'Bacia de Tucano', 'Alagoas', 'Pelotas', '', 'Pelotas', 'sub-bacias', 'sub-bacias', 'Campos', 'Alagoas', 'Pelotas', 'Alagoas', 'embasamento', 'CST-1-BA', 'ESS-4', 'poços', 'material vulcânico', 'material vulcânico', 'rocha', 'Alagoas', 'Alagoas', 'campo', 'Araripe', 'turoniano', 'rocha', 'embasamento', 'embasamento', 'embasamento', 'poços', 'Amazonas', 'Amazonas', 'embasamento', 'Alagoas', 'Mirandiba', 'Araripe', 'Dom João', 'formação Lucula', 'Alagoas', 'Almada', 'Aratu', 'Buracica', 'Jequiá', 'taquidrita', 'carnalita', 'Alagoas', 'Alagoas', 'Alagoas', 'poços', 'Araripe', 'Potiguar', 'Amazonas', 'Jequiá', 'Jequiá', 'Alagoas', 'Araripe', 'Almada', 'Pelotas', 'Ceará', 'Pelotas', 'Alagoas', 'Roncador', 'campo', 'poços', 'campo', 'campo', 'campo', 'petróleo', 'poços', 'poços', 'petróleo', 'poço', 'campo', 'petróleo', 'campo', 'petróleo', 'campo', 'campos', 'petróleo', 'campos', 'Marlim', 'Marlim leste', 'campos', 'poços', 'petróleo', 'Roncador', 'rocha', 'laminações', 'preservação', 'estratificação', 'água', 'rocha', 'estratificação', 'contato', 'contato irregular', 'laminação', 'estratificações', 'águas', 'rocha', 'laminação', 'preservação', 'contatos', 'contato', 'estratificação', 'laminações cruzadas', 'estratificação', 'poços', 'geração', 'hidrocarbonetos', 'Grupo Tapajós', 'Andirá', 'Grupo Tapajós', '9-FZ-4-AM', '9-FZ-28-AM', 'Sakmariano', 'Andirá', 'Grupo Tapajós', 'Andirá', 'Andirá', 'Amazonas', 'Grupo Tapajós', 'rochas geradoras', 'migração', 'petróleo', 'petróleo', 'poços', 'hidrocarbonetos', 'fluidos', 'poços', 'petróleo', 'hidrocarbonetos', 'rocha', 'fluidos', 'fluidos', 'fluidos', 'poços', 'poços', 'Campos', 'poços', 'Jacuípe', 'poços', 'águas marinhas', 'Araripe', 'poços', 'poço CM-2', 'Formação Mariricu', 'Membro Mucuri', 'poços ES-6', 'ES-7', 'águas marinhas', 'poços', 'poços', 'poços', 'águas', 'águas', 'ES-2', 'ES-3', 'ES-4', 'ES-5', 'águas marinhas', 'poço ST-2', 'ES-2', 'feições de exposição', 'poço DSDP-511', 'Bonito', 'Membro Rio Segredo', 'PP-10', 'PP-11', 'siltitos', 'PP-12', 'siltitos', 'PP-12', 'well PP-11', 'well PP-10', 'PP-11', 'well PP-12', 'PP-11', 'Mafra', 'Triunfo', 'poços', 'PP-12', 'PP-11', 'poços', '2-PUST-1-SC', 'siltito', 'Mafra', 'Membro Rio Segredo', 'Membro Chapéu do Sol', 'siltito', 'poços', '2-PUST-1-SC', 'PP-12', 'Membro Rio Segredo', 'PP-10', 'PP-11', 'PP-11', 'poços', 'PP-12', 'poços', '2-PUst-1', 'PP-11', 'poços', 'maciço', 'cimento', 'maciço', 'PP-11', 'siltito', 'siltito', 'maciço', 'laminação horizontal', 'embasamento', 'siltito', 'maciço', 'maciço', 'maciço', 'cimento poiquilotópico', 'laminações horizontal', 'cruzada', 'maciço', 'maciço', 'well', 'laminação ondulada', 'laminação', 'estratificação cruzadas', 'laminação cruzada', 'estratificação cruzada', 'mud couplet', 'laminação cruzada', 'ondulada', 'laminação cruzada', 'mud couplets', 'estratificação cruzada', 'laminação cruzada', 'PP-11', 'ripple', 'Well PP-10', 'PP-11', 'marcas de carga', 'siltito', 'maciço', 'laminações onduladas', 'convoluta', 'siltito', 'maciço', 'laminação cruzada', 'laminação ondulada', 'laminação horizontal', 'laminação cruzada', 'estratificação cruzada', 'laminação cruzada', 'interlaminação', 'laminação cruzada', 'siltito', 'convoluta', 'siltito', 'maciço', 'laminação ondulada', 'cruzada', 'siltito', 'maciço', 'laminação cruzada', 'estratificação', 'laminação cruzadas', 'laminações horizontal', 'cruzada', 'laminação ondulada', 'convoluta', 'maciça', 'ripple', 'Well PP-10', 'laminação cruzada', 'PP-10', 'PP-12', 'PP-10', 'laminação cruzada', 'estratificação cruzada', 'laminação cruzada', 'laminações horizontal', 'cruzada', 'maciço', 'laminação cruzada', 'estratificação cruzada', 'interlaminação', 'maciço', 'laminação ondulada', 'convoluta', 'siltito', 'estratificação cruzada', 'interlaminação', 'PP-12', 'maciço', 'poços', 'PP-11', 'PP-10', 'PP-11', 'PP-10', 'PP-11', 'PP-11', 'Membro Rio Segredo', 'PP-10', 'PP-11', 'RB-1', 'PP-10', 'siltito', 'laminações', 'PP-11', 'PP-10', 'PP-11', 'PP-10', 'PP-11', 'siltitos', 'maciços', 'convoluta', 'siltito', 'laminações onduladas', 'convoluta', 'siltito', 'laminação cruzada', 'maciços', 'laminação horizontal', 'cruzada', 'PP-11', 'interlaminação', 'PP-12', 'PP-10', 'PP-12', 'PP-12', 'PP-11', 'interlaminação', 'PP-12', 'PP-12', 'PP-10', 'PP-12', 'poços', 'poços', 'Membro Rio Segredo', 'poço', 'PP-11', 'Membro Rio Segredo', 'hidrocarbonetos', 'PP-12', 'PP-10', 'PP-11', 'ripple', 'ripple', 'PP-12', 'PP-11', 'fluido', 'fluido', 'fluido', 'fluido', 'fluido', 'hidrocarbonetos', 'migração', 'petróleo', 'soterramento', 'hidrocarbonetos', 'óleos', 'óleo', 'óleo', 'selos', 'migração', 'poços', 'hidrocarbonetos', 'óleo', 'óleo', 'rochas geradoras', 'óleos', 'petróleo', 'óleo', 'gás', 'água', 'cimento', 'fluido', 'CO2', 'CH4', 'H2S', 'N2', 'hidrocarbonetos', 'hidrocarbonetos', 'gás', 'CO2', 'CO2', 'água', 'óleo', 'óleo', 'óleo', 'gás', 'gás', 'óleo', 'gás', 'fluido', 'óleo', 'gás condensado', 'óleo', 'fluido', 'gás', 'poço', 'gás', 'CO2', 'água', 'óleo', 'poço', 'hidrocarbonetos', 'migração', 'migração', 'água', 'óleo', 'água', 'petróleo', 'petróleo', 'Gás', 'gás', 'gás condensado', 'óleo', 'óleo', 'petróleo', 'petróleo', 'petróleo', 'hidrocarbonetos', 'selos', 'fluidos', 'fluidos', 'óleo', 'água', 'óleo', '', 'óleo', 'hidrocarbonetos', 'hidrocarbonetos', 'óleo', 'poços', 'rocha geradora', 'fluidos', 'petróleo', 'petróleo', 'óleo', 'poço', 'gás', 'gás', 'gás condensado', 'gás', 'gás', 'gás condensado', 'cimento', 'óleo', 'gás', 'gás condensado', 'óleo', 'óleo', 'gás', 'poço', 'óleo', 'rocha', 'óleo', 'óleo', 'óleo', 'óleo', 'óleo', 'óleo', 'óleo', 'óleo', 'óleo', 'poço', 'óleo', 'óleo', 'óleo', 'óleo', 'óleo', 'óleo', 'óleo', 'óleo', 'óleo', 'óleo', 'óleo', 'óleos', 'rocha geradora', 'óleo', 'óleo', 'óleo', 'óleo', 'óleo', 'óleo', 'poço', 'fluidos', 'óleo', 'poço', 'migração', 'selos', 'poços', 'óleo', 'óleos', 'óleos', 'óleo', 'óleo', 'rocha geradora', 'rocha geradora', 'geração', 'óleo', 'Fazenda', 'água', 'neocampaniano', 'eomaastrichtiano', 'Alagoas', 'rocha', 'siltito', 'siltito', 'siltitos', 'siltitos', 'neocampaniano', 'campo', 'preservação', 'neocampaniano', 'eomaastrichtiano', 'águas', 'águas', 'águas', 'eomaastrichtiano', 'águas', 'água', 'Alagoas', 'neocampaniano', 'águas', 'preservação', 'águas', 'neocampaniano', 'neocampaniano', 'águas', 'neocampaniano', 'Brejo Grande', 'Campos', 'poços', 'Potiguar', 'poços', 'Toarciano inferior', 'campos', 'petróleo', 'taquidrita', 'água', 'veios', 'petróleo', 'petróleo', 'Juruá', 'campo', 'gás', 'Juruá', 'Juruá', 'embasamento', 'poços', 'Jacuípe', 'embasamento', 'Campos', 'Juruá', 'petróleo', 'petróleo', 'petróleo', 'rochas geradoras', 'trapas', 'petróleo', 'petróleo', 'petróleo', 'petróleo', 'óleo', 'rocha geradora', 'petróleo', 'Campos', 'petróleos', 'hidrocarbonetos', 'petróleo', 'petróleo', 'petróleo', 'petróleo', 'embasamento', 'faulting', 'campo', 'soterramento', 'Bacia do Alto Amazonas', 'Jacuípe', 'petróleo', 'rocha', 'petróleo', 'campo', 'petróleo', 'campo', 'campos', 'hidrocarbonetos', 'poços', 'óleo', 'campos', 'soterramento', 'soterramento', 'águas meteórica', 'rocha', 'soterramento', 'móldica', 'intragranular', 'cavernas', 'cavernas', 'soterramento', 'soterramento', 'soterramento', 'petróleo', 'soterramento', 'intragranular', 'Caverna', 'Formação Smackover', 'petróleo', 'campos', 'soterramento', 'fluidos', 'fluidos', 'migração', 'hidrocarbonetos', 'soterramento', 'Pampo', 'óleo', 'soterramento', 'soterramento', 'poço', 'soterramento', 'óleo', 'fluidos', 'soterramento', 'intragranular', 'móldica', 'soterramento', 'contatos côncavo-convexos', 'cimento', 'soterramento', 'soterramento', 'cimento', 'intragranular', 'móldica', 'cimento', 'cimentos', 'óleo', 'água', 'soterramento', 'móldica', 'rocha', 'soterramento', 'preservação', 'soterramento', 'poço', 'Ceará', 'Potiguar', 'Campos', 'poços', 'gerador', 'Neotriássico', 'Toarciano', 'gerador', 'Toarciano inferior', '2', 'rocha', 'gerador', 'rocha', 'Neotriássico', 'poços', 'hidrocarbonetos', 'asfalto', 'hidrocarbonetos', 'poços', 'rochas geradoras', 'Oxfordiano', 'gerador', 'rochas geradoras', 'poços', 'Oxfordiano', 'Oxfordiano', 'geração', 'petróleo', 'Toarciano inferior', 'Toarciano inferior', 'Toarciano', 'Toarciano', 'Toarciano', 'concreções', 'Eotoarciano', 'Toarciano inferior', 'gás', 'hidrocarbonetos', 'CO2', 'hidrocarbonetos', 'rocha', 'CO2', 'rocha', 'hidrocarbonetos', 'hidrocarbonetos', 'rocha', 'hidrocarbonetos', 'hidrocarbonetos', 'hidrocarbonetos', 'CO2', 'betume', 'hidrocarbonetos', 'asfaltenos', 'petróleo', 'óleo', 'gás', 'geradores', 'geradores', 'Formações Bucomazi', 'Iabe', 'rochas geradoras', 'Toarciano inferior', 'Formações Sulay', 'Ratawi', 'Zu-bair', 'Burgan', 'Formação Hanifa', 'Formação Diyab', 'rocha', 'geradora', 'hidrocarbonetos', 'preservação', 'migração', 'óleo', 'Toarciano inferior', 'hidrocarbonetos', 'preservação', 'rocha', 'preservação', 'preservação', 'Toarciano inferior', 'águas', 'Toarciano inferior', 'água do mar', 'Toarciano inferior', 'água', 'água', 'Toarciano inferior', 'gerador', 'petróleo', 'água', 'estratificação', 'preservação', 'Toarciano', 'Toarciano inferior', 'geração', 'hidrocarbonetos', 'Formação de Vale das Fontes', 'rocha reservatório', 'hidrocarbonetos', 'poços', 'Potiguar', 'poços', 'Toarciano inferior', 'rocha', 'rocha', 'rocha', 'Neotriássico', 'rocha', 'rocha', 'Grupo Perucaba', 'Serraria', 'embasamento', 'Série do Recôncavo', 'magma', 'rocha', 'rocha', 'magma', 'magma', 'poços', 'rocha', 'rocha', 'Neotriássico', 'Neotriássico', 'Membro Afligidos', 'Camamu', 'Alagoas', 'Fm. Riachuelo', 'campo', 'gás', 'Manati', 'hidrocarbonetos', 'Almada', 'Camamu', 'Almada', 'embasamento', 'água', 'rocha', 'poços', 'gás', 'Pelotas', 'Pelotas', 'Campos', 'Pelotas', 'Campos', 'Campos', 'Pelotas', 'Campos', 'Pelotas', 'Pelotas', 'Campos', 'Campos', 'rocha', 'rocha', 'Pelotas', 'Pelotas', 'rocha', 'Campos', '', 'peridotito', 'Campos', 'magmas', 'Pelotas', 'Pelotas', 'Pelotas', 'basanito', 'Pelotas', 'Pelotas', 'Pelotas', 'Pelotas', 'Pelotas', 'Pelotas', 'Campos', 'Campos', 'Pelotas', 'Pelotas', 'Campos', 'Pelotas', 'Pelotas', 'embasamento', 'poços', 'poços', 'água', 'embasamento', 'embasamento', 'embasamento', 'embasamento', 'embasamento', 'embasamento', 'poços', 'poços', 'poços', 'poços', 'poços', 'embasamento', 'embasamento', 'embasamento', 'poços', 'poços', 'embasamento', 'poços', 'poços', 'embasamento', 'embasamento', 'embasamento', 'embasamento', 'embasamento', 'embasamento', 'sub-bacia', '', 'embasamento', 'sub-bacia', 'embasamento', 'poços', '', 'poços', 'embasamento', 'poços', 'poços', 'embasamento', 'Bacia', 'hidrocarbonetos', 'poços', 'embasamento', 'hidrocarbonetos', 'Bacia', 'aptiano', 'sub-bacias', 'águas', 'embasamento', 'embasamento', 'embasamento', 'embasamento', 'embasamento', 'embasamento', 'embasamento', 'Bacia', 'Bacia', 'Bacia', 'embasamento', 'Estrutura', 'Estrutura', 'Alagoas', 'poços', 'poços', 'petróleo', 'geração', 'migração', 'óleo', 'Bacia', 'rochas geradoras', 'petróleo', 'poços', 'gretas de ressecamento', 'Andares Jiquiá', 'embasamento', 'preservação', 'poços', 'embasamento', 'estratificação cruzada', 'siltitos', 'siltitos', 'Estratificação', 'Laminação cruzada', 'Gretas de contração', 'Estratificação cruzada tangencial', 'estratificação', 'siltitos', 'estratificações cruzadas', 'scour', 'siltitos', 'estratificações cruzadas', 'ripples', 'estratificações cruzadas', 'siltitos', 'estratificações', 'estratificações cruzadas', 'siltito', 'estratificações cruzadas', 'estratificações', 'estratificações cruzadas', 'estratificações cruzadas', 'Estratificações cruzadas sigmoidais', 'siltito', 'siltitos', 'estratificações cruzadas sigmoidais', 'estratificações cruzadas', 'estratificação', 'laminação', 'ripples', 'siltito', 'ripples', 'ripples', 'siltitos', 'maciços', 'maciço', 'laminações', 'ripples', 'siltitos', 'ripples', 'siltitos', 'siltitos', 'Fm. Maceió', 'Fm. Poção', 'Alagoas', 'hidrocarbonetos', 'formação Aliança', 'formação Aliança', 'formação Aliança', 'Bacia', 'Bacia', 'água', 'água', 'hidrocarbonetos', 'água', 'água da formação', 'campos', 'Piaçabuçu', 'Calumbi', 'Urucutuca', 'Pirarucu', 'poços', 'rocha', 'rocha', 'água', 'soterramento', 'água', 'água', 'água', 'água', 'rocha', 'água', 'água', 'água', 'água', 'água da formação', 'água', 'rocha', 'siltito', 'fluidos', 'Formação Pirarucu', '1-APS-4', '1-APS-8', 'poços', 'fluidos', 'rocha', 'fluidos', 'poços', 'hidrocarbonetos', 'Amazonas', 'água do', 'água do mar', 'campo', 'campo', 'água do mar', 'água', 'água', 'água', 'água', 'água', 'óleo', 'água do mar', 'água do mar', 'petróleo', 'petróleo', '', 'hidrocarbonetos', 'rocha', 'rocha', 'petróleo', 'petróleo', 'petróleo', 'geração', 'petróleo', 'geração', 'hidrocarbonetos', 'siltitos', 'rocha', 'rocha', 'gerador', 'hidrocarbonetos', 'hidrocarbonetos', 'gás', 'geração', 'hidrocarbonetos', 'petróleo', 'petróleo', 'preservação', 'petróleo', 'preservação', 'geração', 'hidrocarbonetos', 'hidrocarbonetos', 'hidrocarbonetos', 'hidrocarbonetos', 'gases', 'hidrocarbonetos', 'gases', 'hidrocarbonetos', 'geração', 'hidrocarbonetos', 'óleo', 'hidrocarbonetos', 'gás', 'petróleo', 'petróleo', 'petróleo', 'petróleo', 'petróleo', 'petróleo', 'poco', 'poco', 'óleo', 'petróleo', 'petróleo', 'petróleo', 'petróleo', 'petróleo', 'poco', 'poço', 'petróleo', 'hidrocarbonetos', 'hidrocarbonetos', 'petróleo', 'hidrocarbonetos', 'petróleo', 'petróleo', 'petróleos', 'petróleo', 'petróleos', 'petróleos', 'gases', 'petróleo', 'petróleo', 'petróleo', 'poco', 'betume', 'asfalto', 'petróleo', 'óleo', 'petróleo', 'óleo diesel', 'campo', 'petróleo', 'petróleo', 'petróleo', 'petróleo', 'petróleo', 'petróleo', 'petróleo', 'petróleo', 'petróleo', 'petróleo', 'hidrocarbonetos', 'água do mar', 'água do mar', 'hidrocarbonetos', 'hidrocarbonetos', 'hidrocarbonetos', 'petróleo', 'óleos', 'óleos', 'migração', 'fluidos', 'rocha', 'óleo', 'rocha', 'óleo', 'rocha', 'gás', 'água salgada', 'petróleo', 'petróleo', 'petróleo', 'petróleo', 'óleo', 'petróleo', 'óleo', 'petróleo', 'gás', 'petróleo', 'óleo', 'poço', 'óleo', 'poços', 'poços', 'campo', 'petróleo', 'óleo', 'petróleo', 'campo', 'petróleo', 'petróleo', 'gás', 'poços', 'gás', 'gás', 'água', 'Lobato', 'Lobato', 'Lobato', 'óleo', 'Lobato', 'poço', 'óleo', 'petróleo', 'Lobato', 'petróleo', 'petróleo', 'óleo', 'óleo', 'petróleo', 'petróleo', 'Lobato', 'Lobato', 'poço', 'poço', 'poço', 'petróleo', 'Lobato', 'Lobato', 'campo', 'campo', 'óleo', 'Candeias', 'campo', 'campo', 'Lobato', 'campo', 'óleo', 'óleo', 'petróleo', 'campos', 'campo', 'poço', 'óleo', 'campo', 'óleo', 'poco', 'óleo', 'Catu', 'campos', 'petróleo', 'petróleo', 'petróleo', 'óleo', 'campo', 'óleo', 'óleo', 'poços', 'petróleo', 'campos', 'óleo', 'Alagoas', 'Alagoas', 'Barreirinhas', 'petróleo', 'petróleo', 'óleo', 'óleo', 'Barreirinhas', 'petróleo', 'petróleo', 'petróleo', 'petróleo', 'petróleo', 'poços', 'campos', 'campos', 'campos', 'campos', 'campo', 'petróleo', 'campos', 'petróleo', 'campo', 'gás', 'poços', 'poços', 'campo', 'petróleo', 'poços', 'campo', 'poços', 'campo', 'poços', 'campo', 'Carmópolis', 'Catu', 'poços', 'campos', 'óleo', 'poços', 'campo', 'petróleo', 'petróleo', 'petróleo', 'petróleo', 'petróleo', 'cimento', 'petróleo', 'petróleo', 'Fazenda Cedro-Bacia', 'poços', 'poço', 'Andar', 'poços', '3-FC-4-ES', 'águas', 'Fazenda Cedro', 'Fazenda Cedro', 'embasamento', 'carnalita', 'Potiguar', 'petróleo', 'petróleo', 'embasamento', 'estratificação', 'hidrocarbonetos', 'faulting', 'campo', 'petróleo', 'Camamu', 'Almada', 'Camamu', 'óleo', 'óleo', 'óleo', 'óleo', 'campo', 'óleo', 'Formação Itaparica', 'campo', 'óleo', 'Sesmaria', 'FORMAÇÃO', 'água', 'água', 'campos', 'soterramento', 'soterramento', 'campos', 'caliche', 'caliche', 'soterramento', 'contração', 'shrinkage', 'soterramento', 'cimento', 'moldes', 'campos', 'Dom João', 'Buracica', 'Araçás', 'Dom Jodo', 'Buracica', 'Sesmaria', 'campos', 'soterramento', 'hidrocarbonetos', 'rochas geradoras', 'intragranular', 'hidrocarbonetos', 'óleo', 'óleo', 'óleo', 'óleo', 'cimento', 'soterramento', 'petróleo', 'Fazenda Alvorada', 'Buracica', 'Malombê', 'Remanso', 'Fazenda Bálsamo', 'Água Grande', 'Cassarongongo', 'Sesmaria', 'Fazenda Boa Esperança', 'Araçás', 'soterramento', 'soterramento', 'soterramento', 'cimento', 'hidrocarbonetos', 'fluido', 'gás', 'água', 'água', 'óleo', 'água', 'óleo', 'poço', 'poço', 'soterramento', 'campos', 'óleo', 'campos', 'soterramento', 'campo', 'petróleo', 'campos', 'FORMAÇÃO', 'campos', 'petróleo', 'rocha', 'poço', 'campos', 'Água Grande', 'Araçás', 'Buracica', 'Dom João', 'Malombê', 'Remanso', 'Sesmaria', 'Agua Grande', 'água', 'campo', 'Malombê', 'campo', 'Sesmaria', 'rocha', 'fluido', 'rocha', 'poços', 'petróleo', 'hidrocarbonetos', 'poços', 'hidrocarbonetos', 'petróleo', 'óleo', 'poços', 'moldes', 'rocha', 'molde', 'moldes', 'cimento', 'campos', 'soterramento', 'Dom Jodo Mar-Sul', 'Poço', 'Dom João', '', 'Potiguar', 'campo', 'petróleo', 'campo', 'petróleo', 'poços', 'poços', 'poços', 'petróleo', 'hidrocarbonetos', 'petróleo', 'embasamento', 'Alagamar', 'petróleo', 'pocos', 'poços', 'poços', '2-M-1-RN', 'hidrocarbonetos', 'poços', 'rochas geradoras', 'rocha', 'poços', 'gerador', 'óleo', 'embasamento', 'Fazenda Belém', 'Alto do Rodrigues', 'óleo', 'poços', 'poços', 'Guamaré', 'Ubarana', '', 'Potiguar', 'gerador', 'óleo', 'gás', 'petróleo', 'poços', 'Palmeira', 'Guamaré', 'Rio Panon', 'óleo', 'gás', 'petróleo', 'embasamento', 'óleo', 'óleo', 'petróleo', 'geração', 'óleo', 'gás', 'gerador', 'embasamento', 'embasamento', 'embasamento', 'embasamento', 'Alto do Rodrigues', 'Estreito', 'Fazenda Belém', 'água', 'gerador', 'petróleo', 'trapas', 'petróleo', 'Bacia', 'petróleo', 'Campo', 'faulting', 'campo', 'Siririzinho', 'Riachuelo', 'hidrocarbonetos', 'Bacia de Tucano', 'Alagoas', 'pocos', 'foliações', 'embasamento', 'poços', 'embasamento', 'Formação Estância', 'foliações', 'Cretácio', 'Cretácio', 'foliação', '', 'embasamento', 'Grupo Macururé', 'Bacia', 'Bacia do Tucano', 'Formação Estância', 'foliação', 'cataclástica', 'foliação', 'xistosidade', 'Bacia do Tucano', 'foliações', 'Formação Estância', 'foliação', 'embasamento', 'Fazenda Guindaste', 'foliação', 'foliações', 'foliações', 'Formação Estância', 'sulcos', 'xistosidade', 'embasamento', 'campo', 'embasamento', 'embasamento', 'embasamento', 'embasamento', 'embasamento', 'embasamento', 'Formação Estância', 'Bacia de Tucano', 'foliação', 'foliação', 'foliação', 'campos', 'Carmópolis', 'Siririzinho', 'embasamento', 'Grupo Macururé', 'campos', 'xistosidade', 'hidrocarbonetos', 'foliação', 'óleo', 'hidrocarbonetos', 'xistosidade', 'Água Grande', 'embasamento', 'embasamento', 'campos', 'óleo', 'embasamento', 'foliação', 'foliação', 'foliações', 'Bacia do Tucano', 'foliação', 'foliação', 'foliação', 'hidrocarbonetos', 'óleo', 'campo', 'embasamento', 'embasamento', 'siltitos', 'embasamento', 'poços', 'poços', 'embasamento', 'embasamento', 'embasamento', 'embasamento', 'embasamento', 'embasamento', 'embasamento', 'embasamento', 'embasamento', 'material ígneo', 'embasamento', 'embasamento', 'embasamento', 'material ígneo', 'embasamento', 'embasamento', 'embasamento', 'embasamento', 'embasamento', 'corpos ígneos', 'embasamento', 'embasamento', 'hidrocarbonetos', 'óleos', 'rochas geradoras', 'óleos', 'óleos', 'migração', 'óleos', 'rochas geradoras', 'geração', 'migração', 'Alagoas', 'Jiquia Superior', 'hidrocarbonetos', 'óleos', 'rochas geradoras', 'hidrocarbonetos', 'migração', 'óleos', 'óleos', 'óleos', 'óleos', 'óleos', 'óleo', 'hidrocarbonetos', 'Formação Peedee', 'petróleo', 'água', 'petróleos', 'hidrocarbonetos', 'migração', 'petróleo', 'migração', 'hidrocarbonetos', 'asfaltenos', 'hidrocarbonetos', 'petróleo', 'óleo', 'migração', 'petróleo', 'óleo', 'óleos', 'rochas geradoras', 'migração', 'óleos', 'óleos', 'óleo', 'óleos', 'rocha geradora', 'rocha', 'petróleo', 'óleos', 'óleos', 'óleos', 'óleos', 'óleos', 'óleos', 'óleos', 'rochas geradoras', 'rochas geradoras', 'óleos', 'rachas geradoras', 'óleos', 'óleos', 'poços 3-ATS2', '3-SE', 'Jiquiá', 'Pilar', 'hidrocarbonetos', '1-NAB-1-SE', 'óleos', 'campos', '14-SE', 'Riachuelo', 'Mato Grosso', 'Carmópolis', 'Siririzinho', 'Castanhal', 'Tigre', 'Brejo Grande', 'Coqueiro Seco', 'Guaricema', 'Dourado', 'Camorim', '37-SES', 'Mero', 'Tainha', 'hidrocarbonetos', '1-CAV-1-SE', '1-CAU-3-SE', '1-ATN-1-SE', '1-RPO-1-SE', '1-ALG-1-SE', '9-CG-2-SEX', '1-CAP-1-SE', '1-RR-1-AL', '1-SES-30', '1-SES-63', '1-SES-18A', '1-SES-64', '1-ALS-15', '1-ALS-27', '1-ALS-8', '1-ALS-3', 'óleos', 'hidrocarbonetos', 'óleos', 'campos de Anin-gas', 'Angelim', 'Caioba', 'Robalo', 'hidrocarbonetos', '1-SES-19D', '6-CM-37-SES', '4-SES-67', 'óleos', 'óleos', 'óleos', 'óleos', 'hidrocarbonetos', 'óleos', 'óleos', 'óleos', 'água doce', 'águas salgadas', 'óleos', 'óleos', 'asfaltenos', 'óleos', 'óleos', 'óleos', 'óleos', 'óleos', 'óleos', 'óleos', 'óleos', 'óleos', 'asfaltenos', 'óleos', 'óleos', '9-CL-4-SE', '9-CL-24-SE', 'óleos', 'óleos', 'óleos', 'óleo', 'óleos', 'óleos', 'óleos', 'asfaltenos', 'óleos', 'óleos', 'óleos', 'rochas geradoras', 'geradores', 'Buracica', 'óleos', 'óleos', 'geradores', 'óleos', 'óleos', 'óleos', 'óleos', 'asfaltenos', 'óleos', 'rochas geradoras', 'Coqueiro Seco', 'geração', 'óleos', 'óleos', 'óleos', 'asfaltenos', 'óleos', 'óleos', 'rochas geradoras', 'geração', 'óleos', 'geração', 'óleos', 'óleos', 'óleos', 'óleos', 'óleos', 'poços', 'poços', 'poços', 'poços', 'poços', 'campo', 'poços', 'poços', 'poços', 'poços', 'poços', 'geração', 'poços', 'poços', 'poço', 'poço', 'poco', 'poços', 'poços', 'poço', 'poço', 'Campo', 'óleo', 'poços', 'óleo', 'poços', 'campo', 'rocha', 'óleo', 'cimento', 'poços', 'campo', 'caliche', 'campo', 'poços', 'óleo', 'poços', 'poços', 'poco', 'óleo', 'poços', 'poços', 'poco', 'cimento', 'campos', 'óleo', 'cimento', 'óleo', 'rochas reservatórios', 'cimento', 'cimento', 'óleo', 'cimento', 'poço 7-SI-17-BA', 'rocha', 'FORMAÇÃO', 'óleo', 'rocha', 'óleo', '7-S! -44-BA', 'rocha', 'cimento', 'cimento', 'óleo', 'óleo', 'rocha', 'poços', 'óleo', 'óleo', 'campo', 'óleo', '7-S! -18-BA', 'óleo', 'Santana', 'poços', 'CPB-1R-SE', 'CP-13D-SE', 'TM-1-AL', 'MD-1-AL', 'poço', 'CPB-1R-SE', 'poço', 'MD-1-AL', 'poços', 'Bacia do Alto Amazonas', 'Bacia do Alto Amazonas', 'siltitos', '', 'Bacia do Alto Amazonas', 'petróleo', 'sub-bacias', 'poços', 'geração', 'Bacia do Tucano', 'sub-bacias', 'poços', 'campos', 'gás', 'Quererá', 'poços', 'hidrocarbonetos', 'poços', 'geradora', 'gás', 'Formação Santa Brígida', 'geração', 'embasamento', '', 'embasamento', 'embasamento', 'maciço', 'sub-bacias', 'embasamento', 'embasamento', 'foliação', 'Formação Santa Brígida', 'sub-bacia', 'Formação Marizal', 'Grupo Macururé', 'rocha', 'campo', \"Formação Olhos d'Água\", 'poços', 'poços', 'Bacia do Tucano', 'sub-bacia', 'sub-bacia', 'poços', 'sub-bacia', 'embasamento', 'Bacia do Tucano', 'Arco', 'sub-bacias', 'sub-bacias', 'embasamento', 'Formação Marizal', 'embasamento', 'poços', 'faulting', 'sub-bacia', 'sub-bacias', 'embasamento', 'sub-bacia', 'sub-bacias', 'Fazenda Matinha', 'sub-bacias', 'sub-bacias', 'sub-bacia', 'Formação Itaparica', 'sub-bacias', 'sub-bacias', 'sub-bacias', 'poços', 'sub-bacia', 'sub-bacias', 'sub-bacias', 'poços', 'geração', 'gerador', 'Formação Santa Brígida', 'hidrocarbonetos', 'Quererá', 'embasamento', 'Bacia de Tucano', 'Iraí', 'petróleo', 'Bacia do Tucano', 'Bacia do Tucano', 'Mesossantoniano', 'poços', 'poços', 'poços', '1-MAS-25', '1-MAS-25', 'Idade Alagoas-Eomesoalbianolfigs.', 'MAS-12', 'poços', 'poços', '1-PAS-19', '1-MAS-25', 'poços', '1-MAS-24', '1-MAS-25', '1-PAS-14', '1-PAS-19', 'poços', '1-MAS-20', '1-PAS-14', 'maastrichtiano', 'paleoceno', '1-MAS-24', 'poço', 'poços', 'poços', 'poços', '1-MAS-25', '1-PAS-19', '1-PAS-19', 'água', 'poços', '1-MAS-20', '1-MAS-24', 'poços', 'poços 1-MAS-12', 'poços 1-MAS-12', 'poços', 'aguas', 'poços', 'poços', 'poços', 'turoniano', 'cenomaniano', 'poço 1- MAS-20', '1-MAS-25', 'Ceará', 'Mesossantoniano', 'poços', 'cretáceo', 'petróleo', 'rochas geradoras', 'petróleo', 'rochas reservatório', 'óleo', 'rocha', 'cimentos', 'rocha', 'hidrocarbonetos', 'cimentos', 'cimentos', 'hidrocarbonetos', 'hidrocarbonetos', 'hidrocarbonetos', 'cimento', 'óleo', 'cimentos', 'rocha', 'cimentos', 'cimentos', 'poços', 'petróleo', 'poco', 'fluido', 'poços', 'fluido', 'rocha', 'rocha', '', 'cimento', 'rocha', 'rocha', 'rocha', 'óleo', 'água do mar', 'rocha', 'rocha', 'água do mar', 'rocha', 'águas', 'poços', 'águas', 'rocha', 'rocha', 'águas', 'água do mar', 'água meteórica', 'rocha', 'águas', 'águas', 'águas', 'águas', 'Superior', 'águas', 'poços', 'fluidos', 'fluidos', 'Linguado', 'Badejo', 'óleos', 'hidrocarbonetos', 'óleo', 'petróleo', 'óleo', 'geração', 'hidrocarbonetos', 'poços', 'óleo', 'poços', '1-RJS-203', 'Badejo', 'Linguado', 'campos', 'óleo', 'migração', 'fluidos', 'Bacia', 'Badejo', 'óleo', 'gás', 'geração', 'óleo', 'migração', 'hidrocarbonetos', 'fluidos', 'campos', 'campos', 'poços', 'óleo', 'Garoupa', 'águas', 'Bacia', 'água', 'gás', 'migração', 'fluidos', '1-RJS-225', 'dômica', '1-RJS-203', 'Bacia', 'geração', 'óleo', 'óleos', 'migração', 'óleo', 'óleo', 'Badejo', 'Linguado', 'óleos', 'campos', 'óleos', 'geração', 'óleo', 'geração', 'hidrocarboneto', 'poços', 'geração', 'óleo', 'migração', 'óleo', '1-RJS-203', 'hidrocarbonetos', 'estratificações cruzadas', 'estratificações cruzadas', 'hidrocarbonetos', 'poço', 'poco', 'fluido', 'poço', 'poço', 'poço', 'estratificação cruzada', 'concreções', 'poço', 'poços', 'corte e preenchimento', 'poço', 'poços', '3-PIR-89-AL', 'PIR-89', 'Coqueiro Seco li', 'poços', 'poços', 'poço', 'poços', 'poço', 'siltitos', 'rocha', 'rocha', 'água', 'água', 'água', 'óleo', 'maciço', 'maciço', 'maciços', 'maciço', 'maciço', 'cimento', 'slump', 'laminações cruzadas', 'ripple', 'caóticos', 'ripple', 'maciço', 'maciço', 'contato', 'campo', 'maciço', 'poços', 'poços', 'poço', 'siltitos', 'Campos', 'pocos', 'poços', 'hidrocarbonetos', 'poços', 'óleo', 'gás', 'poços', 'Grupo Araxá', 'Formação Canastra', 'gases', 'geração', 'gás', 'hidrocarbonetos', 'geração', 'hidrocarbonetos', 'hidrocarbonetos', 'Garoupa', 'campo', 'hidrocarbonetos', 'campos', 'Pampo', 'Garoupa', 'Linguado', 'Bicudo', 'Bonito', 'Enchova', 'óleo', 'campos', 'poços', 'poços', 'campos', 'poços', 'gretas de ressecamento', 'embasamento', 'campos', '1-RJS-15', 'Bacia', 'poços', 'grupo Espinhaço', 'concreções', 'gesso', 'siltito', 'petróleo', 'rochas geradoras', 'embasamento', 'hidrocarbonetos', 'fluidos', 'fluidos', 'fluidos', 'fluidos', 'cimento', 'maciços', 'estratificação', 'ripples', 'siltitos', 'Formação Calumbi', 'campos', 'campos', 'Marlim', 'campos', 'Marlim', 'Fm. Carapebus', 'óleo', 'poços', 'hidrocarbonetos', 'poços', 'petróleo', 'fluidos', 'petróleo', 'sub-bacias', 'formações Muerto', 'Redondo', 'Geração', 'Formação Echinocyamus', 'Ypresiano', 'Formação Clavel', 'Formação Echinocyamus', 'poços', 'poços', 'poço', 'rocha', 'poços', 'estratificação', 'maciços', 'maciços', 'laminação', 'maciços', 'corte e preenchimento', 'estratificação cruzada', 'laminações', 'poço', 'Formação Echinocyamus', 'poços', 'cimento', 'Formação Echinocyamus', 'Membro Ballena', 'poços', 'Fazenda Betumita', 'óleo', 'hidrocarbonetos', 'hidrocarbonetos', 'geração', 'migração', 'geração', 'migração', 'petróleo', 'intrusões ígneas', 'migração', 'Teresina/Corumba-taí', 'intrusões ígneas', 'siltito', 'Grupo Passa Dois', 'migração', 'fluidos', 'Formação Serra Geral', 'embasamento', 'Grupo Curamalal', 'Barra Bonita', 'Formação Serra Geral', 'embasamento', 'embasamento', 'dilatação', 'migração', 'hidrocarbonetos', 'siltitos', 'siltitos', 'rocha', 'rocha', 'Barra Bonita', 'Barra Bonita', 'rocha', 'embasamento', 'fluidos', 'óleo', 'embasamento', 'embasamento', 'migração', 'be-tume', 'rochas geradoras', 'migração', 'soterramento', 'migração', 'óleo', 'migração', 'migração', 'água', 'hidrocarboneto', 'selo', 'migração', 'hidrocarbonetos', 'geração', 'migração', 'hidrocarbonetos', 'trapas', 'petróleo', 'migração', 'hidrocarbonetos', 'migração', 'óleo', 'migração', 'óleo', 'selos', 'embasamento', 'hidrocarbonetos', 'óleo', 'óleo', 'embasamento', 'rocha geradora', 'Membro Assistência', 'geradoras', 'óleo', 'migração', 'fluidos', 'migração', 'fluidos', 'migração', 'hidrocarbonetos', 'fluidos', 'embasamento', 'migração', 'fluidos', 'migração', 'migração', 'fluidos', 'migração', 'embasamento', 'embasamento', 'embasamento', 'embasamento', 'Formação Serra Geral', 'Grupo São Bento', 'migração', 'fluidos', 'hidrocarbonetos', 'intrusões ígneas', 'migração', 'hidrocarbonetos', 'hidrocarbonetos', 'preservação', 'Poços', 'gás', 'óleo', 'hidrocarbonetos', 'fluidos', 'águas', 'hidrocarbonetos', 'embasamento', 'fluidos', 'trapas', 'migração', 'poços', '1-TP', '1-TP', 'gás', 'óleo', 'hidrocarbonetos', 'migração', 'fluidos', 'petróleo', 'hidrocarbonetos', 'embasamento', 'migração', 'gás', 'Grupo São Bento', 'migração', 'hidrocarbonetos', 'Campos', 'embasamento', 'partículas vulcânicas', 'grãos de origem vulcânica', 'grãos paleovulcânicos', 'grãos neovulcânicos', 'magma', '', 'magma', 'água', 'água', 'magma', 'água do mar', 'vesicular', 'poço', 'embasamento', 'poços', 'poços', 'Araripe', 'Formação Abaiara', 'Potiguar', 'Formação Exu', 'Cedro', 'Araripe', 'Cedro', 'embasamento', 'embasamento', 'Formação Mauriti', 'Mesojurássico', 'soterramento', 'rochas geradoras', 'neocretáceo', 'hidrocarbonetos', 'poço 1SPS', 'Campos', 'poços', 'Alagoas', 'Campos', 'campo', 'campos', 'campos', 'petróleo', 'Campos', 'poços', 'poço', 'campo', 'gabro', 'Mucuri', 'Mesoeoceno', 'poços', 'material vulcanoclástico', 'Mucuri', 'Mucuri', 'Formação Ubatuba', 'contato', 'vulcanoclastos', 'Formação Ubatuba', 'material vulcanoclástico', 'vulcanoclastos', 'Formação Ubatuba', 'Neoconiaciano', 'vulcanoclastos', 'traquítica', 'vulcanoclastos', 'litofácies vulcanoclásticas', 'magma', '1-RJS-348', 'Enchova', 'Mesoeoceno', '1-RJS-348', 'Mesoeoceno', 'poços', 'poços', 'Jequitinhonha', 'Campos', 'embasamento', 'estratificação', 'santoniano', 'estratificação', 'embasamento', 'rocha', 'poços', 'Poço 1- RJS-587', 'Campos', 'poço 3- RJS-621', 'poço 1- RJS-587', 'poços', 'Leste do Urucu', 'Juruá', 'Formação Juruá', 'poços', 'Formação Juruá', 'rocha', 'Formação Juruá', 'poços', 'magma', 'Rio Urucu', 'Juruá', 'Amazonas', 'poço', 'poço', 'campo', 'gases nobres', 'campo', 'gás', 'óleo', 'gás', 'rochas geradoras', 'gás', 'campos', 'Juruá', 'óleo', 'campos', 'Rio Urucu', 'geração', 'óleo', 'gás', 'óleo', 'óleo', 'poços', 'Amazonas', 'embasamento', 'poços', 'poços', 'Formação Ipojuca', 'Formação Cabo', 'poços', 'Formação Ipojuca', 'poço', 'Formação Ipojuca', 'Formação Cabo', 'poço', 'poço', 'sub-bacia', 'poço', 'campos', 'campos', 'campo', 'campos', 'poços', 'poço', 'poço', 'poços', 'poços', 'petróleo', 'petróleo', 'petróleo', 'petróleo', 'poço', 'petróleo', 'petróleo', 'petróleo', 'petróleo', 'petróleo', 'óleo', 'Candeias', 'campos', 'Dom João', 'Água Grande', 'petróleo', 'Bacia do Tucano', 'petróleo', 'petróleo', 'Buracica', 'trapa', 'óleo', 'óleo', 'Amazonas', 'óleo', 'poços', 'extensão', 'petróleo', 'poços', 'poços', 'gerador', 'migração', 'embasamento', 'gás', 'poços', 'poços', 'remigrações', 'petróleo', 'trapas', 'remigração', 'selo', 'gerador', 'rocha geradora', 'poços', 'campo', 'poços', 'poços', 'poços', 'óleo', 'Alagoas', 'poços', 'cretáceo', 'poço', 'embasamento', 'poço', 'petróleo', '', 'poço 2-CBst-1-ES', 'poço', 'embasamento', 'óleo', 'poço', 'poço', 'petróleo', 'embasamento', 'poço 1-G-1-RN', 'poço 2-CBst-1-ES', 'poço', 'petróleo', 'poços', '2-CBst-1', 'embasamento', 'poço', '2-MOst-1-RS', 'embasamento', 'petróleo', 'petróleo', 'geração', 'óleo', 'óleo', 'Amazonas', 'Barreirinhas', 'Alagoas', 'óleo', 'óleo', 'poço', 'petróleo', 'poços', 'petróleo', 'Amazonas', 'poços', 'poços', 'petróleo', 'gás', 'Amazonas', 'poços', 'poço', 'águas', 'Alagoas', 'Alagoas', 'petróleo', 'poços', 'trapas', 'petróleo', 'óleo', 'migração', 'óleo', 'Membro Carmópolis', 'óleo', 'óleo', 'óleo', 'Formação Pojuca', 'óleo', 'Formação Pojuca', 'óleo', 'poços', 'óleo', 'poços', 'Barreirinhas', 'Pelotas', 'águas', 'poços', 'Amazonas', 'petróleo', 'geração', 'hidrocarbonetos', 'hidrocarbonetos', 'poço', 'petróleo', 'SES-1', 'poços', 'petróleo', 'poço', 'petróleo', 'petróleo', 'óleo', 'dômica', 'aptiano', 'óleo', 'poços', 'poço', 'SES-1', 'Dom João', 'Água Grande', 'poço', '1-PAS-1', 'embasamento', 'geração', 'hidrocarbonetos', 'petróleo', 'poço', '1-APS-1', 'dômica', 'poço', 'geração', 'gás', 'óleo', 'poços', 'petróleo', 'poço', 'petróleo', 'poço', 'petróleo', '1-PRS-1', 'cretáceo superior', 'poço', 'poços', 'poços', '1-APS-4', 'Campo de Fazenda Cedro', 'petróleo', 'rocha', 'petróleo', 'poços', 'poço', 'poço', 'petróleo', 'campos', 'petróleo', 'óleo', 'gás', 'cimento', 'água', 'óleo', 'poço', 'poço', '1-RJS-9', 'poço', 'poço', 'poço', 'RJS-9A', 'poço', 'óleo', 'água', 'óleo', 'campo', 'óleo', 'descobridor', 'Garoupa', 'Garoupa', 'poço', '1-RJS-19', 'poços', 'campo', 'poço', 'petróleo', 'gás', 'poço', 'gás', 'Campo de Pirapema', 'Garoupa', 'Namorado', 'hidrocarbonetos', 'Pirapema', 'Guaricema', 'óleo', 'poço', 'extensão', '3-EN-1-RJS', 'água', 'RJS-32', 'poço', 'petróleo', 'geração', 'óleo', 'óleo', '1-RJS-32', 'poço', 'Alto do Rodrigues', 'Estreito', 'óleo', 'poço', 'Riacho da Barra', 'gás', 'gás', 'campo', 'óleo', 'óleo', 'gás', 'poço', 'descobridor', 'poço', 'óleo', 'Rio Urucu', 'RUC-1', 'campos', 'gás', 'Juruá', 'gerador', 'devoniano', 'gás', 'condensado', 'Juruá', 'poço', 'hidrocarbonetos', 'óleo', 'geração', 'hidrocarbonetos', 'soterramento', 'gerador', 'poços', 'Formação Cabeças', 'óleo', 'poço', 'Formação Ipu', 'gás', 'poços', 'poço', 'gerador', 'rocha geradora', 'Formação Itaim', 'gás', 'gás', 'Formação Cabeças', 'maciços', 'hidrocarbonetos', 'água', 'água', 'campo', 'óleo', 'poço', 'gás', 'Barra Bonita', 'poço 1- RJS-297', 'poço', 'água', 'Namorado', 'Namorado', 'poço', 'descobridor', 'campo', 'Marlim', 'água', 'petróleo', '1-RJS-252', 'poço', 'óleo', 'óleo', 'petróleo', 'campo', 'óleo', 'campo', 'poço', '1-CAM-1-RN', 'campo', 'Potiguar', 'óleo', 'petróleo', 'poço', '1-SCS-6', 'poço', 'petróleo', 'poço', 'dômica', 'Tubarão', 'Estrela do Mar', 'Coral', 'Caravela', 'petróleo', 'óleo', 'óleo', '1-CAM-1-RN', 'óleo', 'poço', 'óleo', 'óleo', 'óleo', 'hidrocarbonetos', 'óleo', '1-BSS-75', 'poço', 'óleo', 'trapa', 'fluido', 'poço', 'campo', 'poço', '1-RJS-436A', 'água', 'Roncador', 'poço', 'óleo', 'campo', 'petróleo', 'gás', 'petróleo', 'óleo', 'óleo', 'petróleo', 'óleo', 'petróleo', 'petróleo', '1-SES-142', 'poços', 'Formação Calumbi', 'óleo', 'poço', '1-ESS-123', 'óleo', 'poço', 'óleo', 'óleo', 'gás', '1- RJS-587', '4-SPS-35', 'gás', 'petróleo', 'petróleo', 'Campos', 'poço', 'Bacia do Maranhão', 'petróleo', 'petróleo', 'petróleo', 'Campo', 'Carmópolis', 'petróleo', 'Bacia', 'Curimã', 'hidrocarbonetos', 'campos', 'poços', 'poços', 'trapa', 'trapas', '1-CES-1', 'poços', 'campos', 'petróleo', 'Xaréu', 'Curimã', 'Espada', 'Atum', 'Curimã', 'campos', 'poços', 'campos', 'trapa', 'sub-bacias', 'trapas', 'óleo', 'gás', 'Curimã', 'geradora', 'hidrocarbonetos', 'Curimã', 'Eomioceno', 'Eomioceno', 'trapas', 'Curimã', 'campos', 'petróleo', 'campo', 'trapa', 'migração', 'hidrocarbonetos', 'campo', 'poços', 'selo', 'trapa', 'trapa', 'campo', 'Atum', 'campo', 'campo', 'campo', 'óleo', 'óleo', 'gás', 'hidrocarbonetos', 'campos', 'água', 'óleo', 'gás', 'trapa', 'trapas', 'migração', 'óleo', 'geração', 'trapas', 'trapa', 'poços', 'hidrocarbonetos', 'Curimã', 'trapa', 'poços', 'migração', 'migração', 'óleo', 'migração', 'óleo', 'gás', 'campo', 'hidrocarbonetos', 'Curimã', 'trapa', 'Poços CES-17', 'CES-113', 'trapa', 'trapas', 'trapa', 'migração', 'fluidos', 'hidrocarbonetos', 'fluidos', 'trapas', 'CES-113', 'trapas', 'fluidos', 'óleo', 'hidrocarbonetos', 'hidrocarbonetos', 'trapas', 'trapa', 'trapas', 'trapa', 'hidrocarbonetos', 'Espada', 'óleo', 'poços', 'Ceará', 'rochas reservatórios', 'petróleo', 'rocha', 'petróleo', 'petróleo', 'rochas reservatórios', 'petróleo', 'poços', 'corte e preenchimento', 'corte e preenchimento', 'poços', 'rocha', 'água', 'caótica', 'caótica', 'siltitos', 'rocha', 'siltitos', 'rocha', 'petróleo', 'siltitos', 'Barracuda', 'Caratinga', 'Marlim Leste', 'petróleo', 'poços', 'óleo', 'hidrocarbonetos', 'poço', 'óleo', 'óleo', 'óleo', 'hidrocarbonetos', 'trapa', 'migração', 'hidrocarbonetos', 'óleo', 'Roncador', 'campos', 'hidrocarbonetos', 'hidrocarbonetos', 'poço', 'petróleo', 'óleo', 'petróleo', 'águas', 'óleo', 'campo', 'óleo', 'Roncador', 'campo', 'campo', 'poços', 'campo', 'óleo', 'óleo', 'óleo', 'óleo', 'óleo', 'óleo', 'Roncador', 'migração', 'hidrocarbonetos', 'óleo', 'trapa', 'hidrocarbonetos', 'óleo', 'trapa', 'óleo', 'petróleo', 'óleo', 'trapa', 'geração', 'hidrocarbonetos', 'migração', 'Roncador', 'óleo', 'migração', 'selo', 'Roncador', 'poço', 'Roncador', 'trapa', 'migração', 'petróleo', 'poço', 'trapa', 'Roncador', 'óleo', 'Roncador', 'campo', 'óleo', 'hidrocarbonetos', 'petróleo', 'Roncador', 'petróleo', 'Roncador', '1-ESS-124', 'poço', '4-RO-38-RJS', 'petróleo', 'petróleo', 'campo', 'soterramento', 'petróleo', 'campo', 'petróleo', 'campos', 'petróleo', 'hidrocarbonetos', 'campos', 'petróleo', 'campos', 'fluido', 'gouge de falha', 'rocha de falha', 'fluido', 'cimentos', 'fluidos', 'fluidos', 'gás', 'selo', 'gouge de falha', 'soterramento', 'hidrocarbonetos', 'óleo', 'gás', 'hidrocarboneto', 'selo', 'fluido', 'gás', 'campo', 'gás', 'gás', 'campo', 'campo', '', 'campo', 'poços', 'campo', 'óleo', 'gás', 'poços', 'campo', 'fluidos', 'poços', 'fluidos', 'poço', 'poços', 'poços', 'poços', 'soterramento', 'campo', 'petróleo', 'rocha', 'hidrocarboneto', 'rocha', 'rocha', 'soterramento', 'soterramento', 'embasamento', 'soterramento', 'cimentos', 'água meteórica', 'cimento', 'poços', 'fluidos', 'rocha de falha', 'rocha', 'poço', 'rocha', 'rocha', 'poço', 'rocha', 'poço', 'campo', 'petróleo', 'gás', 'campo', 'óleo', 'gás', 'óleo', 'gás', 'poço', 'água', 'campo', 'fluidos', 'fluidos', 'hidrocarbonetos', 'fluidos', 'trapa', 'hidrocarboneto', 'hidrocarboneto', 'campo', 'selo', 'selo', 'gás', 'gás', 'campo', 'soterramento', 'soterramento', 'hidrocarboneto', 'trapa', 'geração', 'hidrocarboneto', 'poços', 'soterramento', 'hidrocarboneto', 'soterramento', 'Pilar', 'Pilar', 'hidrocarbonetos', 'poços', 'hidrocarbonetos', 'selo', 'hidrocarbonetos', 'campos', 'rocha', 'migração', 'hidrocarbonetos', 'hidrocarboneto', 'trapa', 'gás', 'migração', 'selo', 'trapa', 'embasamento', 'fluidos', 'hidrocarbonetos', 'campos', 'poços', 'poços', 'poços', 'fluidos', 'campos', 'gás', 'migração', 'migração', 'fluidos', 'fluidos', 'migração', 'fluidos', 'campo', 'fluidos', 'rocha', 'fraturas intergranulares', 'maciços', 'laminações', 'laminação', 'maciços', 'Membro Rio Segredo', 'Membro Tarabai', 'Membro Cuiabá Paulista', 'siltitos', 'Membro Lontras', 'poços', 'poços', 'mounds', 'poços', 'água', 'água', 'campo', 'campo', 'Poços', 'fluidos', 'selo', 'trapa', 'migração', 'hidrocarbonetos', 'selo', 'selo', 'selo', 'selos', 'fluidos', 'migração', 'hidrocarbonetos', 'selo', 'gás', 'hidrocarbonetos', 'Bacia', 'gás', 'poços', 'Bacia', 'migração', 'hidrocarbonetos', 'Lapa', 'grupo Itararé', 'migração', 'fluidos', 'migração', 'gás', 'fluidos', 'hidrocarbonetos', 'rocha', 'rocha', 'rocha', 'fluidos', 'fluidos', 'fluidos', 'fluido', 'fluido', 'fluido', 'fluido', 'rocha', 'rocha', 'fluido', 'fluidos', 'fluido', 'fluidos', 'fluidos', 'fluidos', 'rocha', 'campos', 'óleo', 'fluidos', 'fluidos', 'poços', '', 'fluido', 'fluidos', 'rocha', 'rocha', 'fluidos', 'fluidos', 'rocha', 'fluido', 'rocha', 'rocha', 'fluido', 'rocha', 'fluidos', 'óleo', 'gás', 'fluidos', 'fluidos', 'fluidos', 'fluido', 'fluido', 'fluido', 'óleo', 'gás', 'óleo', 'água', 'óleo', 'gás', 'poços', 'fluido', 'óleo', 'Fluido', 'água', 'hidrocarbonetos', 'fluidos', 'rocha', 'fluidos', 'óleo', 'fluidos', 'óleo', 'rocha', 'rocha', 'poços', 'fluido', 'rocha', 'fluidos', 'fluidos', 'fluidos', 'rocha', 'fluidos', 'poços', 'fluidos', 'óleo', 'rocha', 'hidrocarbonetos', 'hidrocarboneto', 'hidrocarboneto', 'hidrocarboneto', 'hidrocarboneto', 'óleo', 'hidrocarboneto', 'hidrocarbonetos', 'rocha', 'fluidos', 'poços', 'fluidos', 'fluidos', 'fluidos', 'fluidos', 'fluidos', 'fluido', 'hidrocarboneto', 'óleos', 'petróleo', 'petróleo', 'água', 'Amazonas', '', 'poços', 'eocretáceo', 'Potiguar', 'Potiguar', 'poços', 'Alagoas', 'Campos', 'embasamento', 'migração', 'hidrocarbonetos', 'águas meteóricas', 'sulcos', 'foliações', 'rocha', 'rocha', 'migração', 'hidrocarbonetos', 'Fazenda Cedro', 'migração', 'hidrocarbonetos', 'embasamento', 'Mucuri']\n"
     ]
    }
   ],
   "source": [
    "count = 0\n",
    "Ent_sem_URI = []\n",
    "for i in range(len(ENT_URI)):\n",
    "    if ENT_URI[i] == None:\n",
    "        count = count + 1\n",
    "        Ent_sem_URI.append(entities[i])\n",
    "\n",
    "print('Número de entidades sem URI: ', count)\n",
    "print('Entidades sem URI: ')\n",
    "print(Ent_sem_URI)      "
   ]
  },
  {
   "cell_type": "markdown",
   "id": "129c3eea-0b7a-4061-828c-1fa5851d604b",
   "metadata": {},
   "source": [
    "### Buscando vetores do PetroOntoVec para cada URI"
   ]
  },
  {
   "cell_type": "code",
   "execution_count": 34,
   "id": "11d9d43b-7113-429e-b5b2-7ee1f9d51f9a",
   "metadata": {},
   "outputs": [
    {
     "name": "stdout",
     "output_type": "stream",
     "text": [
      "Total de sentenças anotadas:  18749\n",
      "N° de sentenças:  13045\n",
      "N° de entidades:  13045\n",
      "N° de classes:  13045\n",
      "N° de entidades_ID:  13045\n",
      "N° de vetores de URI:  13045\n",
      "URI ausentes da ontologia: \n",
      "{'#inter_membro_002', '#inter_formacao_007', '#INTER_BACIA_023', '#INTER_BACIA_004', '#Rio_da_serra_Age', '#inter_membro_003', '#INTER_BACIA_002', '#INTER_BACIA_005', '#INTER_BACIA_017', '#inter_membro_008', '#INTER_BACIA_008', '#INTER_BACIA_022', '#inter_membro_004', '#grupo_05', '#INTER_BACIA_020', '#inter_membro_011', '#INTER_BACIA_013', '#inter_formacao_015', '#INTER_BACIA_019', '#Eoriodaserra_Age', '#INTER_BACIA_007', '#INTER_CAMPO_0001', '#inter_membro_010', '#inter_formacao_004', '#Kasimovian / #Gzhelian', '#inter_membro_005', '#INTER_BACIA_021', '#INTER_BACIA_024', '#inter_membro_012', '#INTER_BACIA_018', '#INTER_BACIA_011', '#inter_membro_007', '#inter_formacao_016', '#INTER_BACIA_025', '#INTER_BACIA_006', '#inter_formacao_005', '#INTER_BACIA_010', '#INTER_BACIA_003', '#INTER_CAMPO_0002', '#INTER_CAMPO_003', '#inter_formacao_006', '#inter_grupo_001', '#siliciclasticos', '#Permiano', '#inter_formacao_001', '#INTER_BACIA_014', '#inter_formacao_002', '#inter_membro_001', '#Mesoriodaserra_Age', '#INTER_BACIA_026', '#inter_membro_006', '#gipsita', '#dry_hole', '#carbonatos', '#inter_formacao_008', '#inter_membro_009', '#INTER_BACIA_009', '#Neo-Alagoas_Subage', '#inter_formacao_003', '#INTER_BACIA_012', '#INTER_BACIA_001', '#INTER_BACIA_016', '#INTER_BACIA_015'}\n"
     ]
    },
    {
     "name": "stderr",
     "output_type": "stream",
     "text": [
      "/usr/local/lib/python3.6/site-packages/ipykernel_launcher.py:25: DeprecationWarning: Call to deprecated `__getitem__` (Method will be removed in 4.0.0, use self.wv.__getitem__() instead).\n"
     ]
    }
   ],
   "source": [
    "# Separando as listas de sentenças, entidades, classes, URI e vetores\n",
    "text_new = []\n",
    "entities_new = []\n",
    "classes_NER_new = [] \n",
    "ENT_URI_new = []\n",
    "URI_Vec_new = []\n",
    "\n",
    "URI_ausente_Onto = []\n",
    "\n",
    "n = 0 \n",
    "#m = 0\n",
    "#Iterando por todas as sentenças, desconsiderando aquelas cujas entidades não possuem URI\n",
    "for i in range(len(text)):\n",
    "    n = n + 1\n",
    "    if ENT_URI[i] != None:\n",
    "        # Quebrando as entidades que possuem mais de um URI (ex: \"#Aptian,#Miocene\" e \"#Cenozoic,#Mesozoic\")\n",
    "        ENT_URI_n = ENT_URI[i].split(',#')\n",
    "        \n",
    "        # Iterando pelas ENT_URI após serem quebradas e acrescentando '#\" naquelas que perderam na operação de split \n",
    "        for ent in ENT_URI_n:\n",
    "            if ent[0] != '#':\n",
    "                ent = '#' + ent\n",
    "            try:\n",
    "                #Acrescentar a URI da entidade e o vetor da URI nas listas\n",
    "                URI_Vec_new.append(PetroOntoVec['http://www.semanticweb.org/bg40/ontologies/2022/5/untitled-ontology-2' + ent])\n",
    "                ENT_URI_new.append(ent)\n",
    "               \n",
    "                # O texto, a entidade no texto e a classe são repetidas quando existem multiplas URI para uma mesma entidade\n",
    "                text_new.append(text[i])\n",
    "                entities_new.append(entities[i])\n",
    "                classes_NER_new.append(classes_NER[i])\n",
    "            except:\n",
    "                #print(\"URI presente no arquivo CONLLU mas ausente na Ontologia: \", ent)\n",
    "                URI_ausente_Onto.append(ent)\n",
    "\n",
    "# Transformando as listas em Numpy array\n",
    "text = np.array(text_new)\n",
    "entities = np.array(entities_new)\n",
    "classes_NER = np.array(classes_NER_new) \n",
    "ENT_URI = np.array(ENT_URI_new)\n",
    "URI_Vec = np.array(URI_Vec_new)\n",
    "            \n",
    "print('Total de sentenças anotadas: ', n)\n",
    "print('N° de sentenças: ', len(text))\n",
    "print ('N° de entidades: ', len(entities))\n",
    "print('N° de classes: ', len(classes_NER))\n",
    "print('N° de entidades_ID: ', len(ENT_URI))       \n",
    "print('N° de vetores de URI: ', len(URI_Vec))       "
   ]
  },
  {
   "cell_type": "code",
   "execution_count": 35,
   "id": "0436958d-53f9-4e12-90f2-58cf5d03b2c2",
   "metadata": {},
   "outputs": [
    {
     "name": "stdout",
     "output_type": "stream",
     "text": [
      "URI ausentes da ontologia: \n"
     ]
    },
    {
     "data": {
      "text/plain": [
       "{'#Eoriodaserra_Age',\n",
       " '#INTER_BACIA_001',\n",
       " '#INTER_BACIA_002',\n",
       " '#INTER_BACIA_003',\n",
       " '#INTER_BACIA_004',\n",
       " '#INTER_BACIA_005',\n",
       " '#INTER_BACIA_006',\n",
       " '#INTER_BACIA_007',\n",
       " '#INTER_BACIA_008',\n",
       " '#INTER_BACIA_009',\n",
       " '#INTER_BACIA_010',\n",
       " '#INTER_BACIA_011',\n",
       " '#INTER_BACIA_012',\n",
       " '#INTER_BACIA_013',\n",
       " '#INTER_BACIA_014',\n",
       " '#INTER_BACIA_015',\n",
       " '#INTER_BACIA_016',\n",
       " '#INTER_BACIA_017',\n",
       " '#INTER_BACIA_018',\n",
       " '#INTER_BACIA_019',\n",
       " '#INTER_BACIA_020',\n",
       " '#INTER_BACIA_021',\n",
       " '#INTER_BACIA_022',\n",
       " '#INTER_BACIA_023',\n",
       " '#INTER_BACIA_024',\n",
       " '#INTER_BACIA_025',\n",
       " '#INTER_BACIA_026',\n",
       " '#INTER_CAMPO_0001',\n",
       " '#INTER_CAMPO_0002',\n",
       " '#INTER_CAMPO_003',\n",
       " '#Kasimovian / #Gzhelian',\n",
       " '#Mesoriodaserra_Age',\n",
       " '#Neo-Alagoas_Subage',\n",
       " '#Permiano',\n",
       " '#Rio_da_serra_Age',\n",
       " '#carbonatos',\n",
       " '#dry_hole',\n",
       " '#gipsita',\n",
       " '#grupo_05',\n",
       " '#inter_formacao_001',\n",
       " '#inter_formacao_002',\n",
       " '#inter_formacao_003',\n",
       " '#inter_formacao_004',\n",
       " '#inter_formacao_005',\n",
       " '#inter_formacao_006',\n",
       " '#inter_formacao_007',\n",
       " '#inter_formacao_008',\n",
       " '#inter_formacao_015',\n",
       " '#inter_formacao_016',\n",
       " '#inter_grupo_001',\n",
       " '#inter_membro_001',\n",
       " '#inter_membro_002',\n",
       " '#inter_membro_003',\n",
       " '#inter_membro_004',\n",
       " '#inter_membro_005',\n",
       " '#inter_membro_006',\n",
       " '#inter_membro_007',\n",
       " '#inter_membro_008',\n",
       " '#inter_membro_009',\n",
       " '#inter_membro_010',\n",
       " '#inter_membro_011',\n",
       " '#inter_membro_012',\n",
       " '#siliciclasticos'}"
      ]
     },
     "execution_count": 35,
     "metadata": {},
     "output_type": "execute_result"
    }
   ],
   "source": [
    "print('URI ausentes da ontologia: ')\n",
    "set(URI_ausente_Onto)"
   ]
  },
  {
   "cell_type": "markdown",
   "id": "6767b6c2-03de-4ef6-b7b5-40d80604b83a",
   "metadata": {},
   "source": [
    "### Salvando dataset"
   ]
  },
  {
   "cell_type": "code",
   "execution_count": 9,
   "id": "add17e53-0c52-444f-8f92-d1cda5a27f7c",
   "metadata": {},
   "outputs": [],
   "source": [
    "with open('sentences.npy', 'wb') as f:\n",
    "    np.save(f, text)\n",
    "with open('entities.npy', 'wb') as f:\n",
    "    np.save(f, entities)\n",
    "with open('classes.npy', 'wb') as f:\n",
    "    np.save(f, classes_NER)\n",
    "with open('URI.npy', 'wb') as f:\n",
    "    np.save(f, ENT_URI)\n",
    "with open('URI_vectors.npy', 'wb') as f:\n",
    "    np.save(f, URI_Vec)"
   ]
  }
 ],
 "metadata": {
  "kernelspec": {
   "display_name": "Python 3.6",
   "language": "python",
   "name": "python3"
  },
  "language_info": {
   "codemirror_mode": {
    "name": "ipython",
    "version": 3
   },
   "file_extension": ".py",
   "mimetype": "text/x-python",
   "name": "python",
   "nbconvert_exporter": "python",
   "pygments_lexer": "ipython3",
   "version": "3.6.8"
  }
 },
 "nbformat": 4,
 "nbformat_minor": 5
}
