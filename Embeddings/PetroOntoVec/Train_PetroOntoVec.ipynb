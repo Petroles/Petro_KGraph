{
 "cells": [
  {
   "cell_type": "markdown",
   "id": "5c961a79-cdae-470f-827f-28309bd33b9a",
   "metadata": {},
   "source": [
    "### Treinando modelo PetroOntoVec (OWL2Vec) sem a utilização de modelo prétreinado (PetroVec)"
   ]
  },
  {
   "cell_type": "markdown",
   "id": "73d873fa-58c5-4f5d-ba6e-f566d7a6dcfa",
   "metadata": {},
   "source": [
    "Parâmetros usados no arquivo 'default.cfg'\n",
    "  \n",
    "  ontology_file = ../../KnowledgeGraph/OntoGeoLogicaLito.owl  \n",
    "  ontology_projection = yes  \n",
    "  projection_only_taxonomy = no  \n",
    "  multiple_labels = yes  \n",
    "  avoid_owl_constructs = no  \n",
    "  axiom_reasoner = hermit  \n",
    "  walker = wl  (Owl2Vec - wl)  \n",
    "  walk_depth = 3  \n",
    "  URI_Doc = yes  \n",
    "  Lit_Doc = yes  \n",
    "  Mix_Doc = yes  \n",
    "  Mix_Type = random  \n",
    "  pre_train_model = None  \n",
    "  embed_size = 100  (PetroVec - 100)  (Owl2Vec - 100)  \n",
    "  iteration = 10  (Owl2Vec - 10 \"which is based on the observation of the loss\")  \n",
    "  window = 5 (PetroVec - 5)  (Owl2Vec - 5)  \n",
    "  min_count = 1  (Owl2Vec - 1)  \n",
    "  negative = 25  \n",
    "  seed = 42  \n",
    "  epoch = 100"
   ]
  },
  {
   "cell_type": "code",
   "execution_count": null,
   "id": "453e539e-a9f8-4ff6-9e9d-52aee8b99123",
   "metadata": {},
   "outputs": [],
   "source": [
    "# Se necessário retreinar, ajustar os hiperparâmetros do arquivo default.cfg\n",
    "!owl2vec_star standalone --config_file default.cfg"
   ]
  },
  {
   "cell_type": "markdown",
   "id": "6b24daad-5664-4c19-ab41-c3f1580259c1",
   "metadata": {},
   "source": [
    "### Treinando modelo PetroOntoVec (OWL2Vec) com a utilização de modelo prétreinado (PetroVec)"
   ]
  },
  {
   "cell_type": "markdown",
   "id": "205f0483-10b1-4810-be3e-021f22e7662d",
   "metadata": {},
   "source": [
    "Parâmetros usados no arquivo 'default-PetroVec.cfg'\n",
    "  \n",
    "  ontology_file = ../../KnowledgeGraph/OntoGeoLogicaLito.owl  \n",
    "  ontology_projection = yes  \n",
    "  projection_only_taxonomy = no  \n",
    "  multiple_labels = yes  \n",
    "  avoid_owl_constructs = no  \n",
    "  axiom_reasoner = hermit  \n",
    "  walker = wl  (Owl2Vec - wl)  \n",
    "  walk_depth = 3  \n",
    "  URI_Doc = yes  \n",
    "  Lit_Doc = yes  \n",
    "  Mix_Doc = yes  \n",
    "  Mix_Type = random  \n",
    "  pre_train_model = None (../../Embeddings/PetroVec/Petrovec-híbrido-100/Publico-Hibrido(Completo+NILC).txt.model)  \n",
    "  embed_size = 100  (PetroVec - 100)  (Owl2Vec - 100)  \n",
    "  iteration = 10  (Owl2Vec - 10 \"which is based on the observation of the loss\")  \n",
    "  window = 5 (PetroVec - 5)  (Owl2Vec - 5)  \n",
    "  min_count = 1  (Owl2Vec - 1)  \n",
    "  negative = 25  \n",
    "  seed = 42  \n",
    "  epoch = 100"
   ]
  }
 ],
 "metadata": {
  "kernelspec": {
   "display_name": "Python 3 (ipykernel)",
   "language": "python",
   "name": "python3"
  },
  "language_info": {
   "codemirror_mode": {
    "name": "ipython",
    "version": 3
   },
   "file_extension": ".py",
   "mimetype": "text/x-python",
   "name": "python",
   "nbconvert_exporter": "python",
   "pygments_lexer": "ipython3",
   "version": "3.7.16"
  }
 },
 "nbformat": 4,
 "nbformat_minor": 5
}
