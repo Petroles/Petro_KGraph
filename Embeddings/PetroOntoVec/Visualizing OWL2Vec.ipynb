{
 "cells": [
  {
   "cell_type": "code",
   "execution_count": 3,
   "id": "31149623-329f-4cbb-a5c9-b383283a499a",
   "metadata": {},
   "outputs": [],
   "source": [
    "import numpy as np\n",
    "import tensorflow as tf\n",
    "import gensim"
   ]
  },
  {
   "cell_type": "code",
   "execution_count": 27,
   "id": "e55886c6-eea6-477d-b1fb-d1651943c07c",
   "metadata": {},
   "outputs": [],
   "source": [
    "# Modelo OWL2Vec - \n",
    "model_owl2v = gensim.models.Word2Vec.load(\"../cache/outputontology.embeddings\")"
   ]
  },
  {
   "cell_type": "code",
   "execution_count": 26,
   "id": "77b579e8-c475-4530-9310-faac4344ecd6",
   "metadata": {},
   "outputs": [],
   "source": [
    "#model = gensim.models.KeyedVectors.load_word2vec_format(\"../cache/outputontology.embeddings\", binary=True)"
   ]
  },
  {
   "cell_type": "code",
   "execution_count": 67,
   "id": "3cfec91a-81fe-45fe-ac41-bf0cc6d29c87",
   "metadata": {},
   "outputs": [],
   "source": [
    "\n",
    "#model = gensim.models.KeyedVectors.load_word2vec_format(\"../cache/outputontology.embeddings\", binary=True)\n",
    "with open( '../cache/tensorsfp', 'w+') as tensors:\n",
    "    with open( '../cache/metadatafp', 'w+') as metadata:\n",
    "         for word in model_owl2v.wv.index2word:\n",
    "        \n",
    "            encoded=word.encode('UTF-8')\n",
    "            #print(encoded)\n",
    "            metadata.write(str(encoded) + '\\n')\n",
    "            vector_row = '\\t'.join(map(str, model_owl2v.wv[word]))\n",
    "            tensors.write(str(vector_row) + '\\n')\n",
    "            #break"
   ]
  },
  {
   "cell_type": "code",
   "execution_count": null,
   "id": "e9415a27-dbca-46be-8ce9-4b2139df574c",
   "metadata": {},
   "outputs": [],
   "source": []
  }
 ],
 "metadata": {
  "kernelspec": {
   "display_name": "Python 3 (ipykernel)",
   "language": "python",
   "name": "python3"
  },
  "language_info": {
   "codemirror_mode": {
    "name": "ipython",
    "version": 3
   },
   "file_extension": ".py",
   "mimetype": "text/x-python",
   "name": "python",
   "nbconvert_exporter": "python",
   "pygments_lexer": "ipython3",
   "version": "3.7.16"
  }
 },
 "nbformat": 4,
 "nbformat_minor": 5
}
