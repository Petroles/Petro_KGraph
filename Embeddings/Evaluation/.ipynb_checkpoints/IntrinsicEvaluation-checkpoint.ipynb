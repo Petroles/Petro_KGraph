{
 "cells": [
  {
   "cell_type": "code",
   "execution_count": 1,
   "id": "4f388844-a55c-41df-86d5-184b5f18b806",
   "metadata": {},
   "outputs": [],
   "source": [
    "from gensim.test.utils import common_texts, get_tmpfile\n",
    "from gensim.models import Word2Vec\n",
    "from gensim.models import FastText\n",
    "from gensim.models import KeyedVectors\n",
    "from scipy.stats import spearmanr"
   ]
  },
  {
   "cell_type": "code",
   "execution_count": 2,
   "id": "c8ec6482-692c-4ac7-8c1e-0bd4574a88d9",
   "metadata": {},
   "outputs": [],
   "source": [
    "# For Word2Vec models\n",
    "Petrovec_OeG = Word2Vec.load(\"../../Embeddings/PetroVec/Petrovec-OeG-100/publico-COMPLETO-100.txt.model\")\n",
    "Petrovec_OeG_NP2 = Word2Vec.load(\"../../Embeddings/PetroVec/Petrovec-OeG_NP2-100/NP2-COMPLETO.model\")\n",
    "Petrovec_hibrido = Word2Vec.load(\"../../Embeddings/PetroVec/Petrovec-híbrido-100/Publico-Hibrido(Completo+NILC).txt.model\")\n",
    "Petrovec_hibrido_NP2 = Word2Vec.load(\"../../Embeddings/PetroVec/Petrovec-híbrido_NP2-100/NP2-Hibrido(Completo+NILC).model\")\n",
    "\n",
    "#PetroOntoVec_simples = Word2Vec.load(\"../../Embeddings/PetroOntoVec/PetroOntoVec_simples/outputontology.embeddings\")\n",
    "#PetroOntoVec_plus_PetroVec_híbrido = Word2Vec.load(\"../../Embeddings/PetroOntoVec/PetroOntoVec_plus_PetroVec_hibrido/outputontology.embeddings\")\n",
    "#PetroOntoVec_plus_PetroVec_OeG = Word2Vec.load(\"../../Embeddings/PetroOntoVec/PetroOntoVec_plus_PetroVec_OeG/outputontology.embeddings\")\n",
    "#PetroOntoVec_simples_comment = Word2Vec.load(\"../../Embeddings/PetroOntoVec/PetroOntoVec_simples_comment/outputontology.embeddings\")\n",
    "#PetroOntoVec_PetroVec_hibrido_comment = Word2Vec.load(\"../../Embeddings/PetroOntoVec/PetroOntoVec_PetroVec_hibrido_comment/outputontology.embeddings\")\n",
    "#PetroOntoVec_PetroVec_OeG_comment = Word2Vec.load(\"../../Embeddings/PetroOntoVec/PetroOntoVec_PetroVec_OeG_comment/outputontology.embeddings\")\n",
    "\n",
    "\n",
    "\n",
    "# For FastText models\n",
    "#model = FastText.load(\"FASTTEXT-MODEL\")\n",
    "\n",
    "# For either of the above when in TXT format\n",
    "#model = KeyedVectors.load_word2vec_format(\"skip_s100_fast.txt\", binary=False)"
   ]
  },
  {
   "cell_type": "code",
   "execution_count": 3,
   "id": "cf3133ed-c5af-4c94-ba3b-fb409fa37032",
   "metadata": {},
   "outputs": [],
   "source": [
    "# Creates file to store results\n",
    "#with open(\"output.txt\", \"w+\") as file:\n",
    "def intrinsic_eval(model):\n",
    "   \n",
    "    pares_list = []\n",
    "    likert = {}\n",
    "\n",
    "    with open(\"likert_scale_intrinsic_test.txt\") as file:\n",
    "        for line in file:\n",
    "            w = line.split(\";\")\n",
    "            par = (w[0].rstrip(), w[1].rstrip())\n",
    "            pares_list.append(par)\n",
    "            likert.update({par:float(w[2].rstrip())})\n",
    "\n",
    "    similaridadesDoModelo = []\n",
    "    similaridadesDoLikert = []\n",
    "\n",
    "    n = 0\n",
    "    c = 0\n",
    "    for par in pares_list:\n",
    "        n = n + 1\n",
    "        try:\n",
    "            similarity = model.wv.similarity(par[0], par[1])\n",
    "            similaridadesDoModelo.append(similarity)\n",
    "            similaridadesDoLikert.append(likert.get((par[0], par[1])))\n",
    "            #file.write(par[0]+\"\\t\"+par[1]+\"\\t\"+str(similarity)+\"\\n\")\n",
    "            \n",
    "        except:\n",
    "            c = c + 1\n",
    "            #file.write(par[0]+\"\\t\"+par[1]+\"\\t\"+\"NaN\"+\"\\n\")\n",
    "\n",
    "    cSpearman = spearmanr(similaridadesDoModelo, similaridadesDoLikert)\n",
    "    print(\"Spearman Correlation\\t\"+str(cSpearman[0]))\n",
    "    print(\"Coverage\\t\" + str((n-c)/n))\n",
    "    #file.write(\"Spearman Correlation\\t\"+str(cSpearman[0]))"
   ]
  },
  {
   "cell_type": "code",
   "execution_count": 8,
   "id": "c3ba68cd-c60b-4f91-9022-b345951e0b58",
   "metadata": {},
   "outputs": [
    {
     "name": "stdout",
     "output_type": "stream",
     "text": [
      "------------- \n",
      "PetroVec O&G público\n",
      "Spearman Correlation\t0.6101001948860691\n",
      "Coverage\t1.0\n",
      "------------- \n",
      "PetroVec O&G NP2\n",
      "Spearman Correlation\t0.6024314187600276\n",
      "Coverage\t1.0\n",
      "------------- \n",
      "PetroVec Híbrido público\n",
      "Spearman Correlation\t0.6465402248982587\n",
      "Coverage\t1.0\n",
      "------------- \n",
      "PetroVec Híbrido NP2\n",
      "Spearman Correlation\t0.6355027787548394\n",
      "Coverage\t1.0\n"
     ]
    }
   ],
   "source": [
    "print('------------- \\nPetroVec O&G público')\n",
    "intrinsic_eval(Petrovec_OeG)\n",
    "print('------------- \\nPetroVec O&G NP2')\n",
    "intrinsic_eval(Petrovec_OeG_NP2)\n",
    "print('------------- \\nPetroVec Híbrido público')\n",
    "intrinsic_eval(Petrovec_hibrido)\n",
    "print('------------- \\nPetroVec Híbrido NP2')\n",
    "intrinsic_eval(Petrovec_hibrido_NP2)\n",
    "\n",
    "#intrinsic_eval(PetroOntoVec_simples)\n",
    "#intrinsic_eval(PetroOntoVec_plus_PetroVec_híbrido)\n",
    "#intrinsic_eval(PetroOntoVec_plus_PetroVec_OeG)\n",
    "\n",
    "#intrinsic_eval(PetroOntoVec_simples_comment)\n",
    "#intrinsic_eval(PetroOntoVec_PetroVec_hibrido_comment)\n",
    "#intrinsic_eval(PetroOntoVec_PetroVec_OeG_comment)"
   ]
  },
  {
   "cell_type": "markdown",
   "id": "78dfd378-a261-417b-a78d-5a82a9eee3e4",
   "metadata": {},
   "source": [
    "***Treinar novamente PetroOntoVec_simples_comment com 100 épocas***"
   ]
  },
  {
   "cell_type": "code",
   "execution_count": 5,
   "id": "5f419140-67ca-4855-99e1-ff6f9abe8969",
   "metadata": {},
   "outputs": [
    {
     "name": "stdout",
     "output_type": "stream",
     "text": [
      "Número de Vetores:  161842\n",
      "Número de Vetores:  381435\n",
      "Número de Vetores:  440692\n",
      "Número de Vetores:  554789\n"
     ]
    }
   ],
   "source": [
    "print('Número de Vetores: ', len(Petrovec_OeG.wv.vectors))\n",
    "print('Número de Vetores: ', len(Petrovec_OeG_NP2.wv.vectors))\n",
    "print('Número de Vetores: ', len(Petrovec_hibrido.wv.vectors))\n",
    "print('Número de Vetores: ', len(Petrovec_hibrido_NP2.wv.vectors))\n",
    "\n",
    "#print('Número de Vetores: ', len(PetroOntoVec_simples.wv.vectors))\n",
    "#print('Número de Vetores: ', len(PetroOntoVec_plus_PetroVec_híbrido.wv.vectors))\n",
    "#print('Número de Vetores: ', len(PetroOntoVec_plus_PetroVec_OeG.wv.vectors))\n",
    "\n",
    "#print('Número de Vetores: ', len(PetroOntoVec_simples_comment.wv.vectors))\n",
    "#print('Número de Vetores: ', len(PetroOntoVec_PetroVec_hibrido_comment.wv.vectors))\n",
    "#print('Número de Vetores: ', len(PetroOntoVec_PetroVec_OeG_comment.wv.vectors))"
   ]
  },
  {
   "cell_type": "code",
   "execution_count": null,
   "id": "113d07b9-08f7-4c01-b9e7-30ca93d422aa",
   "metadata": {},
   "outputs": [],
   "source": []
  }
 ],
 "metadata": {
  "kernelspec": {
   "display_name": "Python 3 (ipykernel)",
   "language": "python",
   "name": "python3"
  },
  "language_info": {
   "codemirror_mode": {
    "name": "ipython",
    "version": 3
   },
   "file_extension": ".py",
   "mimetype": "text/x-python",
   "name": "python",
   "nbconvert_exporter": "python",
   "pygments_lexer": "ipython3",
   "version": "3.7.16"
  }
 },
 "nbformat": 4,
 "nbformat_minor": 5
}
