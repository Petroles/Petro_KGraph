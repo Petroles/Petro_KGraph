{
 "cells": [
  {
   "cell_type": "markdown",
   "id": "86299a0c-4c04-4b05-8643-143703f16ff9",
   "metadata": {},
   "source": [
    "### Notebook para treinar modelo de Entity Linkin"
   ]
  },
  {
   "cell_type": "code",
   "execution_count": 1,
   "id": "998010d7-402c-40e6-93a7-f10be62e1aeb",
   "metadata": {},
   "outputs": [],
   "source": [
    "import numpy as np\n",
    "import random"
   ]
  },
  {
   "cell_type": "markdown",
   "id": "6a6bda49-a58a-4e3c-a3e8-fa5ba3e858c3",
   "metadata": {},
   "source": [
    "### Carregando dataset"
   ]
  },
  {
   "cell_type": "code",
   "execution_count": 2,
   "id": "85cff61e-c71c-4654-a086-81c08fbc1495",
   "metadata": {},
   "outputs": [],
   "source": [
    "text = np.load('../../Corpora/PetroNER-LinkedEntity/sentences.npy')\n",
    "entities = np.load('../../Corpora/PetroNER-LinkedEntity/entities.npy')\n",
    "classes = np.load('../../Corpora/PetroNER-LinkedEntity/classes.npy')\n",
    "URI =  np.load('../../Corpora/PetroNER-LinkedEntity/URI.npy')\n",
    "URIvec =  np.load('../../Corpora/PetroNER-LinkedEntity/URI_vectors.npy')"
   ]
  },
  {
   "cell_type": "markdown",
   "id": "a4704dae-4ae0-475c-89fa-7421009bdde3",
   "metadata": {},
   "source": [
    "### **A separação entre treino e teste deverá ser refeita depois que a PUC entregar o PetroNER dividido entre trieno e teste**"
   ]
  },
  {
   "cell_type": "markdown",
   "id": "42e1ca13-6b43-4d8a-84ee-477e432b3e9a",
   "metadata": {},
   "source": [
    "Iremos separar o conjunto de treino, validação e teste baseado nas URI. Ou seja, as URI observadas na fase de treinamento do modelo não será usada para a validação e teste."
   ]
  },
  {
   "cell_type": "code",
   "execution_count": 4,
   "id": "74498684-4ffe-45cf-9334-2711a4bd191b",
   "metadata": {},
   "outputs": [],
   "source": [
    "# Listando as URI referente às classes que aparecerão nos datasets de treino, validação e teste\n",
    "\n",
    "# Lista de URI que não serão separadas entre treino, validação e teste \n",
    "# Incluímos manualmente as URI das principais classes\n",
    "URI_not_split = ['http://www.semanticweb.org/bg40/ontologies/2022/5/untitled-ontology-2#basin',\n",
    "                 'http://www.semanticweb.org/bg40/ontologies/2022/5/untitled-ontology-2#field',\n",
    "                 'http://www.semanticweb.org/bg40/ontologies/2022/5/untitled-ontology-2#well',\n",
    "                 'http://www.semanticweb.org/bg40/ontologies/2022/5/untitled-ontology-2#rock',\n",
    "                 None]\n",
    "\n",
    "# Fração das URI que não serão separadas entre treino, validação e teste \n",
    "fra_URI_not_split = 0.6\n",
    "\n",
    "for U in set(URI):   \n",
    "    if random.random() < fra_URI_not_split:\n",
    "        URI_not_split.append(U)\n",
    "\n",
    "URItre = []\n",
    "URIval = []\n",
    "URItes = []\n",
    "\n",
    "# Separando as URI para treino (70%), validação (15%) e teste (15%)\n",
    "for U in set(URI):   \n",
    "    if U in URI_not_split:\n",
    "        pass\n",
    "    else:\n",
    "        aleat = random.random()\n",
    "        if aleat < 0.70:\n",
    "            URItre.append(U)\n",
    "        else:\n",
    "            if aleat < 0.85:\n",
    "                URIval.append(U)\n",
    "            else:\n",
    "                URItes.append(U)\n"
   ]
  },
  {
   "cell_type": "code",
   "execution_count": 7,
   "id": "ae0fba3e-3dcc-4f45-ae91-b20b929c5ebf",
   "metadata": {},
   "outputs": [],
   "source": [
    "# Separando os dataset de treino, validação e teste\n",
    "\n",
    "# Listas de treino\n",
    "text_treino = []\n",
    "entities_treino = []\n",
    "classes_treino = []\n",
    "URI_treino = []\n",
    "URIvec_treino = []\n",
    "\n",
    "# Listas de validação\n",
    "text_valid = []\n",
    "entities_valid = []\n",
    "classes_valid = []\n",
    "URI_valid = []\n",
    "URIvec_valid = []\n",
    "\n",
    "# Listas de teste\n",
    "text_teste = []\n",
    "entities_teste = []\n",
    "classes_teste = []\n",
    "URI_teste = []\n",
    "URIvec_teste = []\n",
    "\n",
    "for n in range(len(URI)):\n",
    "    # Verificando se a URI pertence a lista 'URI_not_split' distribuir usando a mesma proporção entre treino, validação e teste.\n",
    "    if URI[n] in URI_not_split:\n",
    "        aleat = random.random()\n",
    "        if aleat < 0.70:\n",
    "            text_treino.append(text[n])\n",
    "            entities_treino.append(entities[n])\n",
    "            classes_treino.append(classes[n])\n",
    "            URI_treino.append(URI[n])\n",
    "            URIvec_treino.append(URIvec[n])\n",
    "            \n",
    "        else:\n",
    "            if aleat < 0.85:\n",
    "                text_valid.append(text[n])\n",
    "                entities_valid.append(entities[n])\n",
    "                classes_valid.append(classes[n])\n",
    "                URI_valid.append(URI[n])\n",
    "                URIvec_valid.append(URIvec[n])\n",
    "                \n",
    "            else:\n",
    "                text_teste.append(text[n])\n",
    "                entities_teste.append(entities[n])\n",
    "                classes_teste.append(classes[n])\n",
    "                URI_teste.append(URI[n])\n",
    "                URIvec_teste.append(URIvec[n])\n",
    "                \n",
    "    # Verificando se URI está na lista de treino\n",
    "    if URI[n] in URItre:\n",
    "        text_treino.append(text[n])\n",
    "        entities_treino.append(entities[n])\n",
    "        classes_treino.append(classes[n])\n",
    "        URI_treino.append(URI[n])\n",
    "        URIvec_treino.append(URIvec[n])\n",
    "        \n",
    "    # Verificando se URI está na lista de validação\n",
    "    if URI[n] in URIval:\n",
    "        text_valid.append(text[n])\n",
    "        entities_valid.append(entities[n])\n",
    "        classes_valid.append(classes[n])\n",
    "        URI_valid.append(URI[n])\n",
    "        URIvec_valid.append(URIvec[n])\n",
    "        \n",
    "    # Verificando se URI está na lista de teste\n",
    "    if URI[n] in URItes:\n",
    "        text_teste.append(text[n])\n",
    "        entities_teste.append(entities[n])\n",
    "        classes_teste.append(classes[n])\n",
    "        URI_teste.append(URI[n])\n",
    "        URIvec_teste.append(URIvec[n])\n",
    "        \n",
    "# Listas de treino\n",
    "text_treino = np.array(text_treino)\n",
    "entities_treino = np.array(entities_treino)\n",
    "classes_treino = np.array(classes_treino)\n",
    "URI_treino = np.array(URI_treino)\n",
    "URIvec_treino = np.array(URIvec_treino)\n",
    "\n",
    "# Listas de validação\n",
    "text_valid = np.array(text_valid)\n",
    "entities_valid = np.array(entities_valid)\n",
    "classes_valid = np.array(classes_valid)\n",
    "URI_valid = np.array(URI_valid)\n",
    "URIvec_valid = np.array(URIvec_valid)\n",
    "\n",
    "# Listas de teste\n",
    "text_teste = np.array(text_teste)\n",
    "entities_teste = np.array(entities_teste)\n",
    "classes_teste = np.array(classes_teste)\n",
    "URI_teste = np.array(URI_teste)\n",
    "URIvec_teste = np.array(URIvec_teste)"
   ]
  },
  {
   "cell_type": "code",
   "execution_count": 9,
   "id": "bcf8268d-c026-47cd-80f5-c2cd4d76a3ba",
   "metadata": {},
   "outputs": [
    {
     "name": "stdout",
     "output_type": "stream",
     "text": [
      "Treino\n",
      "Texto:  7337\n",
      "Entidades:  7337\n",
      "Classes:  7337\n",
      "URI:  7337\n",
      "URIvec: : 7337\n",
      "\n",
      " Validação\n",
      "Texto:  1394\n",
      "Entidades:  1394\n",
      "Classes:  1394\n",
      "URI:  1394\n",
      "URIvec: : 1394\n",
      "\n",
      " Teste\n",
      "Texto:  1113\n",
      "Entidades:  1113\n",
      "Classes:  1113\n",
      "URI:  1113\n",
      "URIvec: : 1113\n"
     ]
    }
   ],
   "source": [
    "print ('Treino')\n",
    "print('Texto: ', len(text_treino))\n",
    "print('Entidades: ', len(entities_treino))\n",
    "print('Classes: ', len(classes_treino))\n",
    "print('URI: ', len(URI_treino))\n",
    "print('URIvec: :', len(URIvec_treino))\n",
    "\n",
    "print ('\\n Validação')\n",
    "print('Texto: ', len(text_valid))\n",
    "print('Entidades: ', len(entities_valid))\n",
    "print('Classes: ', len(classes_valid))\n",
    "print('URI: ', len(URI_valid))\n",
    "print('URIvec: :', len(URIvec_valid))\n",
    "\n",
    "print ('\\n Teste')\n",
    "print('Texto: ', len(text_teste))\n",
    "print('Entidades: ', len(entities_teste))\n",
    "print('Classes: ', len(classes_teste))\n",
    "print('URI: ', len(URI_teste))\n",
    "print('URIvec: :', len(URIvec_teste))"
   ]
  },
  {
   "cell_type": "code",
   "execution_count": null,
   "id": "2a54556b-1390-40f9-9637-10198146e296",
   "metadata": {},
   "outputs": [],
   "source": []
  },
  {
   "cell_type": "code",
   "execution_count": null,
   "id": "0fcab253-9dee-4a0f-b798-e1b78abc5976",
   "metadata": {},
   "outputs": [],
   "source": []
  }
 ],
 "metadata": {
  "kernelspec": {
   "display_name": "Python 3.6",
   "language": "python",
   "name": "python3"
  },
  "language_info": {
   "codemirror_mode": {
    "name": "ipython",
    "version": 3
   },
   "file_extension": ".py",
   "mimetype": "text/x-python",
   "name": "python",
   "nbconvert_exporter": "python",
   "pygments_lexer": "ipython3",
   "version": "3.6.8"
  }
 },
 "nbformat": 4,
 "nbformat_minor": 5
}
