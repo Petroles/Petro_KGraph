{
 "cells": [
  {
   "cell_type": "markdown",
   "id": "04afcef2-3144-49fc-88d5-bce8b63a4fa7",
   "metadata": {},
   "source": [
    "### Notebook para fazer a predição das entidades nomeadas em um conjunto de documentos novos"
   ]
  },
  {
   "cell_type": "code",
   "execution_count": null,
   "id": "42979e91-d25c-4807-af46-1c60a21e9d50",
   "metadata": {},
   "outputs": [],
   "source": []
  }
 ],
 "metadata": {
  "kernelspec": {
   "display_name": "Python 3.6",
   "language": "python",
   "name": "python3"
  },
  "language_info": {
   "codemirror_mode": {
    "name": "ipython",
    "version": 3
   },
   "file_extension": ".py",
   "mimetype": "text/x-python",
   "name": "python",
   "nbconvert_exporter": "python",
   "pygments_lexer": "ipython3",
   "version": "3.6.8"
  }
 },
 "nbformat": 4,
 "nbformat_minor": 5
}
