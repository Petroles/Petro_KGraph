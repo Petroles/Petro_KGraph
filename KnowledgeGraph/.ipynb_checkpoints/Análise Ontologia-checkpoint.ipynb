{
 "cells": [
  {
   "cell_type": "code",
   "execution_count": 2,
   "id": "1e50b346-0303-4661-96fe-60f73d2083a1",
   "metadata": {},
   "outputs": [],
   "source": [
    "from owlready2 import *"
   ]
  },
  {
   "cell_type": "code",
   "execution_count": null,
   "id": "9569d124-93c1-409e-aaaa-fa9aebb4a491",
   "metadata": {},
   "outputs": [],
   "source": []
  },
  {
   "cell_type": "markdown",
   "id": "3eab543b-4df2-4b81-904f-286f6d2c0b2a",
   "metadata": {},
   "source": [
    "Carregando ontologia"
   ]
  },
  {
   "cell_type": "code",
   "execution_count": 3,
   "id": "c1ae7ca7-a70b-40ae-862b-cfd0cc578452",
   "metadata": {},
   "outputs": [
    {
     "data": {
      "text/plain": [
       "get_ontology(\"http://www.semanticweb.org/bg40/ontologies/2022/5/untitled-ontology-2#\")"
      ]
     },
     "execution_count": 3,
     "metadata": {},
     "output_type": "execute_result"
    }
   ],
   "source": [
    "#OntoGeoLógica populada (OntoGeoLogicaPovoadaInstanciasRelacoes.owl)\n",
    "onto = get_ontology(\"OntoGeoLogicaInstanciasRelacoes.owl\")\n",
    "onto.load()"
   ]
  },
  {
   "cell_type": "code",
   "execution_count": 5,
   "id": "5057cd00-1c88-4304-ba67-f3b4d5c89b3e",
   "metadata": {},
   "outputs": [
    {
     "name": "stdout",
     "output_type": "stream",
     "text": [
      "Número de classes:  620\n",
      "Número de instâncias:  39835\n"
     ]
    }
   ],
   "source": [
    "print('Número de classes: ', len(list(onto.classes())))\n",
    "print('Número de instâncias: ', len(list(onto.individuals())))"
   ]
  },
  {
   "cell_type": "markdown",
   "id": "f17a8361-4f8b-4792-b974-bdfb60d05fc8",
   "metadata": {},
   "source": [
    "Entidades cujas entidades das listas são povoadas como subclasses."
   ]
  },
  {
   "cell_type": "code",
   "execution_count": 6,
   "id": "5a0ef28c-7a54-426d-b628-a61e593ff0ca",
   "metadata": {},
   "outputs": [
    {
     "name": "stdout",
     "output_type": "stream",
     "text": [
      "Numero de rochas:  189\n",
      "Numero de labels de rochas:  247\n"
     ]
    }
   ],
   "source": [
    "PetroKGraph = 'http://www.semanticweb.org/bg40/ontologies/2022/5/untitled-ontology-2#'\n",
    "\n",
    "rock = list(default_world.sparql(\"\"\"\n",
    "            SELECT ?x\n",
    "            { ?x rdfs:subClassOf* <\"\"\" + PetroKGraph + \"\"\"rock>}\n",
    "            \"\"\"))\n",
    "\n",
    "rock_label = list(default_world.sparql(\"\"\"\n",
    "                 SELECT ?label\n",
    "                 { ?x rdfs:subClassOf* <\"\"\" + PetroKGraph + \"\"\"rock>.\n",
    "                 ?x rdfs:label ?label.}\n",
    "                 \"\"\"))\n",
    "\n",
    "print('Numero de rochas: ', len(rock))\n",
    "print('Numero de labels de rochas: ', len(rock_label))"
   ]
  },
  {
   "cell_type": "markdown",
   "id": "53bf039d-954b-4f9d-aa8d-1988e7b8cdd0",
   "metadata": {},
   "source": [
    "Entidades cujas entidades das listas são povoadas como instâncias."
   ]
  },
  {
   "cell_type": "code",
   "execution_count": 7,
   "id": "fc800366-331a-4112-9d70-93d880f5edc9",
   "metadata": {},
   "outputs": [
    {
     "name": "stdout",
     "output_type": "stream",
     "text": [
      "Numero de bacias:  64\n",
      "Numero de labels de bacias:  158\n"
     ]
    }
   ],
   "source": [
    "basin = list(default_world.sparql(\"\"\"\n",
    "            SELECT ?x\n",
    "            { ?x a <\"\"\" + PetroKGraph + \"\"\"basin>.}\n",
    "            \"\"\"))\n",
    "\n",
    "basin_label =list(default_world.sparql(\"\"\"\n",
    "            SELECT ?label\n",
    "            { ?x a <\"\"\" + PetroKGraph + \"\"\"basin>.\n",
    "              ?x rdfs:label ?label.}\n",
    "            \"\"\"))\n",
    "\n",
    "print('Numero de bacias: ', len(basin))\n",
    "print('Numero de labels de bacias: ', len(basin_label))"
   ]
  },
  {
   "cell_type": "code",
   "execution_count": null,
   "id": "336eb6e6-9ac6-4552-ab2a-3f28a29b5924",
   "metadata": {},
   "outputs": [],
   "source": []
  }
 ],
 "metadata": {
  "kernelspec": {
   "display_name": "Python 3 (ipykernel)",
   "language": "python",
   "name": "python3"
  },
  "language_info": {
   "codemirror_mode": {
    "name": "ipython",
    "version": 3
   },
   "file_extension": ".py",
   "mimetype": "text/x-python",
   "name": "python",
   "nbconvert_exporter": "python",
   "pygments_lexer": "ipython3",
   "version": "3.7.16"
  }
 },
 "nbformat": 4,
 "nbformat_minor": 5
}
