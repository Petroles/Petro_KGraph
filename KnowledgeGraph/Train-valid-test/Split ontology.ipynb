{
 "cells": [
  {
   "cell_type": "code",
   "execution_count": 1,
   "id": "027557ba-24ae-4228-b5c5-703bf04e7c63",
   "metadata": {},
   "outputs": [
    {
     "name": "stderr",
     "output_type": "stream",
     "text": [
      "* Owlready2 * Warning: optimized Cython parser module 'owlready2_optimized' is not available, defaulting to slower Python implementation\n"
     ]
    }
   ],
   "source": [
    "from owlready2 import *\n",
    "#import types\n",
    "from conllu import parse_incr, parse\n",
    "import numpy as np"
   ]
  },
  {
   "cell_type": "markdown",
   "id": "56bf8e54-fb3f-4a6b-9342-656e54667e70",
   "metadata": {},
   "source": [
    "Carregando ontologias"
   ]
  },
  {
   "cell_type": "code",
   "execution_count": 2,
   "id": "f01f12c5-6f23-458e-9812-79985171a519",
   "metadata": {},
   "outputs": [
    {
     "data": {
      "text/plain": [
       "get_ontology(\"http://www.semanticweb.org/bg40/ontologies/2022/5/untitled-ontology-2#\")"
      ]
     },
     "execution_count": 2,
     "metadata": {},
     "output_type": "execute_result"
    }
   ],
   "source": [
    "#OntoGeoLógica populada (OntoGeoLogicaPovoadaInstanciasRelacoes.owl)\n",
    "#onto_pop = get_ontology(\"..\\OntoGeoLogicaInstanciasRelacoes.owl\")\n",
    "#onto_pop.load()\n",
    "onto = get_ontology(\"../OntoGeoLogicaEntidadesNomeadas.owl\")\n",
    "onto.load()"
   ]
  },
  {
   "cell_type": "markdown",
   "id": "501a5dd7-bbf2-4ca2-83df-0c9d030fb9e6",
   "metadata": {},
   "source": [
    "Carregando Listas de entidedes"
   ]
  },
  {
   "cell_type": "code",
   "execution_count": 3,
   "id": "4462225f-16ef-4756-a3c6-fa1bda5e20da",
   "metadata": {},
   "outputs": [],
   "source": [
    "#Completo\n",
    "#text_treino = np.load('../../Corpora/PetroNER-LinkedEntity/PetroNER - sentences.npy')\n",
    "entities_PetroNER = np.load('../../Corpora/PetroNER-LinkedEntity/PetroNER - entities.npy')\n",
    "classes_PetroNER = np.load('../../Corpora/PetroNER-LinkedEntity/PetroNER - classes.npy')\n",
    "URI_PetroNER = np.load('../../Corpora/PetroNER-LinkedEntity/PetroNER - URI.npy', allow_pickle=True)\n",
    "\n",
    "#Treino\n",
    "#text_treino = np.load('../../Corpora/PetroNER-LinkedEntity/treino - sentences.npy')\n",
    "entities_treino = np.load('../../Corpora/PetroNER-LinkedEntity/treino - entities.npy')\n",
    "classes_treino = np.load('../../Corpora/PetroNER-LinkedEntity/treino - classes.npy')\n",
    "URI_treino = np.load('../../Corpora/PetroNER-LinkedEntity/treino - URI.npy', allow_pickle=True)\n",
    "\n",
    "#Valid\n",
    "#text_valid = np.load('../../Corpora/PetroNER-LinkedEntity/valid - sentences.npy')\n",
    "entities_valid = np.load('../../Corpora/PetroNER-LinkedEntity/valid - entities.npy')\n",
    "classes_valid = np.load('../../Corpora/PetroNER-LinkedEntity/valid - classes.npy')\n",
    "URI_valid = np.load('../../Corpora/PetroNER-LinkedEntity/valid - URI.npy', allow_pickle=True)\n",
    "\n",
    "#Teste\n",
    "#text_teste = np.load('../../Corpora/PetroNER-LinkedEntity/teste - sentences.npy')\n",
    "entities_teste = np.load('../../Corpora/PetroNER-LinkedEntity/teste - entities.npy')\n",
    "classes_teste = np.load('../../Corpora/PetroNER-LinkedEntity/teste - classes.npy')\n",
    "URI_teste = np.load('../../Corpora/PetroNER-LinkedEntity/teste - URI.npy', allow_pickle=True)"
   ]
  },
  {
   "cell_type": "markdown",
   "id": "633020aa-b03e-44f3-9076-28b7fb895189",
   "metadata": {},
   "source": [
    "### Verificando se tem URI com duas classes diferentes"
   ]
  },
  {
   "cell_type": "code",
   "execution_count": 4,
   "id": "e2cea465-f3a4-4826-90ce-8848c541f99d",
   "metadata": {},
   "outputs": [
    {
     "name": "stdout",
     "output_type": "stream",
     "text": [
      "#Dom_Joao_Age\n",
      "#TEFR_CD_TIPO_EST_FISICA_ROCHA_059\n",
      "#earth_fluid\n",
      "#fluid_composition\n",
      "#fluid_origin\n",
      "#water\n",
      "#water\n"
     ]
    }
   ],
   "source": [
    "#Coletando tuplas com clases e URIs\n",
    "entity_tupla = []\n",
    "\n",
    "for n in range(len(URI_PetroNER)):\n",
    "    entity_tupla.append((URI_PetroNER[n],classes_PetroNER[n]))\n",
    "\n",
    "#Set de tuplas\n",
    "set_tupla = set(entity_tupla)\n",
    "\n",
    "# Excluido as URIs None\n",
    "ent = []\n",
    "for tup in set_tupla:\n",
    "    #print(tup[0])\n",
    "    if tup[0] != None:\n",
    "        ent.append(tup[0])\n",
    "        \n",
    "#Ordenando as URIs e imprimindo quando tem uma URI repetida\n",
    "classes_duplicadas = []\n",
    "ent.sort()\n",
    "ant = ''\n",
    "for i in ent:\n",
    "    if i == ant:\n",
    "        print(i)\n",
    "        classes_duplicadas.append(i)\n",
    "    ant = i"
   ]
  },
  {
   "cell_type": "markdown",
   "id": "61210ed6-6629-46ff-8859-9e121c5a0021",
   "metadata": {},
   "source": [
    "### Povoamento a ontologia com as entidades"
   ]
  },
  {
   "cell_type": "markdown",
   "id": "d69cdcc9-780f-46df-9a4c-edd6244f1e10",
   "metadata": {},
   "source": [
    "Separando as URI por classes"
   ]
  },
  {
   "cell_type": "code",
   "execution_count": 5,
   "id": "f649eabc-5131-41a2-ac00-a8102abe0c6f",
   "metadata": {},
   "outputs": [],
   "source": [
    "# Função que recebe as listas com todas URIs e Classes, \n",
    "# e retorna apenas um set das URI doselementos da classe indicada em 'string_classe', \n",
    "# com exceção da URI da própria classe (indicado em URI_classe)\n",
    "\n",
    "def lista_por_calsse(URI_dataset, classes_dataset, string_classe, URI_classe):\n",
    "\n",
    "    lista_classe = []\n",
    "        \n",
    "    #Iterando por todos os elementos\n",
    "    for n in range(len(URI_dataset)):\n",
    "        #Verificando qual a classe\n",
    "        if ((classes_dataset[n] == string_classe) and \n",
    "            (URI_dataset[n]!= URI_classe) and \n",
    "            (URI_dataset[n]!= None) and\n",
    "            (URI_dataset[n]not in classes_duplicadas)):\n",
    "            lista_classe.append(URI_dataset[n])\n",
    "\n",
    "\n",
    "    # Reduzindo a lista para apenas elementos únicos\n",
    "    lista_classe = set(lista_classe)\n",
    "    \n",
    "    return lista_classe"
   ]
  },
  {
   "cell_type": "code",
   "execution_count": 6,
   "id": "5185529e-041b-41b8-b5f6-bbbcafc5a75b",
   "metadata": {},
   "outputs": [],
   "source": [
    "BACIA_list = lista_por_calsse(URI_PetroNER, classes_PetroNER, 'BACIA', '#basin')\n",
    "CAMPO_list = lista_por_calsse(URI_PetroNER, classes_PetroNER, 'CAMPO', '#field')\n",
    "ESTRUTURA_FÍSICA_list = lista_por_calsse(URI_PetroNER, classes_PetroNER, 'ESTRUTURA_FÍSICA', '#geological_structure')\n",
    "EVENTO_PETRO_list = lista_por_calsse(URI_PetroNER, classes_PetroNER, 'EVENTO_PETRO', '#geological_process')\n",
    "FLUIDO_list = lista_por_calsse(URI_PetroNER, classes_PetroNER, 'FLUIDO', '#anthropogenic_fluid')\n",
    "FLUIDODATERRA_i_list = lista_por_calsse(URI_PetroNER, classes_PetroNER, 'FLUIDODATERRA_i', '#o&g_earth_fluid')\n",
    "FLUIDODATERRA_o_list = lista_por_calsse(URI_PetroNER, classes_PetroNER, 'FLUIDODATERRA_o', '#earth_fluid')\n",
    "NÃOCONSOLID_list = lista_por_calsse(URI_PetroNER, classes_PetroNER, 'NÃOCONSOLID', '#unconsolidated_earth_material')\n",
    "POÇO_list = lista_por_calsse(URI_PetroNER, classes_PetroNER, 'POÇO', '#well')\n",
    "ROCHA_list = lista_por_calsse(URI_PetroNER, classes_PetroNER, 'ROCHA', '#rock')\n",
    "TEXTURA_list = lista_por_calsse(URI_PetroNER, classes_PetroNER, 'TEXTURA', '#textura')\n",
    "UNIDADE_CRONO_list = lista_por_calsse(URI_PetroNER, classes_PetroNER, 'UNIDADE_CRONO', '#geological_age')\n",
    "UNIDADE_LITO_list = lista_por_calsse(URI_PetroNER, classes_PetroNER, 'UNIDADE_LITO', '#lithostratigraphic_unit')"
   ]
  },
  {
   "cell_type": "markdown",
   "id": "218f1058-70e3-413b-b631-caa5f0698d95",
   "metadata": {},
   "source": [
    "Povoando as subclasses"
   ]
  },
  {
   "cell_type": "code",
   "execution_count": 7,
   "id": "7b7b5713-829e-49d3-b240-67c05d2b56bd",
   "metadata": {},
   "outputs": [],
   "source": [
    "#Função que recebe a classe da ontologia e a lista de sublasses para povoar\n",
    "def povoando_subclasses(onto, classe, lista_classe):\n",
    "\n",
    "    for new_class in lista_classe:\n",
    "        with onto:\n",
    "            types.new_class(new_class[1:], (onto[classe],))\n",
    "    return"
   ]
  },
  {
   "cell_type": "code",
   "execution_count": 8,
   "id": "eb865041-1199-4fed-b1a6-41c1526347f8",
   "metadata": {},
   "outputs": [],
   "source": [
    "povoando_subclasses(onto, 'rock', ROCHA_list)\n",
    "povoando_subclasses(onto, 'unconsolidated_earth_material', NÃOCONSOLID_list)\n",
    "povoando_subclasses(onto, 'o&g_earth_fluid', FLUIDODATERRA_i_list)\n",
    "povoando_subclasses(onto, 'earth_fluid', FLUIDODATERRA_o_list)"
   ]
  },
  {
   "cell_type": "markdown",
   "id": "4a9ef473-ee58-477a-91cd-68acf951e4cf",
   "metadata": {},
   "source": [
    "Povoando as instâcias"
   ]
  },
  {
   "cell_type": "code",
   "execution_count": 9,
   "id": "a5c76b16-e8f4-4a61-b7ae-18f30915d3f8",
   "metadata": {},
   "outputs": [],
   "source": [
    "for basin in BACIA_list:\n",
    "    onto['basin'](basin[1:])\n",
    "\n",
    "for field in CAMPO_list:\n",
    "    onto['field'](field[1:])\n",
    "    \n",
    "for structure in ESTRUTURA_FÍSICA_list:\n",
    "    onto['geological_structure'](structure[1:])\n",
    "    \n",
    "for process in EVENTO_PETRO_list:\n",
    "    onto['geological_process'](process[1:])\n",
    "    \n",
    "for process in EVENTO_PETRO_list:\n",
    "    onto['geological_process'](process[1:])\n",
    "    \n",
    "for well in POÇO_list:\n",
    "    onto['well'](well[1:])\n",
    "\n",
    "for textura in TEXTURA_list:\n",
    "    onto['textura'](textura[1:])\n",
    "\n",
    "for lithostratigraphic_unit in UNIDADE_LITO_list:\n",
    "    #if lithostratigraphic_unit != '#Dom_Joao_Age':\n",
    "    onto['lithostratigraphic_unit'](lithostratigraphic_unit[1:])\n",
    "    "
   ]
  },
  {
   "cell_type": "markdown",
   "id": "3e3e0364-3ad0-4552-ac6d-a32c1c30fdd7",
   "metadata": {},
   "source": [
    "Trantando o caso específico da Unidade Cronoestratigráfica.  \n",
    "  \n",
    "  Para cada URI anotada no corpus, povoamos na ontologia um subclasse de onto.geological_age, terminando com '_quality' e uma instância de onto.geological_time_interval com a URI anotada no corpus."
   ]
  },
  {
   "cell_type": "code",
   "execution_count": 10,
   "id": "ca0e6107-580d-4889-b41d-c52ea113e706",
   "metadata": {},
   "outputs": [],
   "source": [
    "#povoando_subclasses(onto, 'geological_age', UNIDADE_CRONO_list)\n",
    "\n",
    "for crono in UNIDADE_CRONO_list:\n",
    "    with onto:\n",
    "        types.new_class(crono[1:] + '_quality', (onto['geological_age'],))\n",
    "        onto['geological_time_interval'](crono[1:])\n",
    "\n",
    "#for geological_time in UNIDADE_CRONO_list:\n",
    "#    onto['geological_time_interval'](geological_time[1:])"
   ]
  },
  {
   "cell_type": "markdown",
   "id": "5e50f6c0-6b52-4a6d-8885-a2f0a89e926e",
   "metadata": {},
   "source": [
    "### Povoando a ontologia com as relações"
   ]
  },
  {
   "cell_type": "code",
   "execution_count": null,
   "id": "403af64f-f707-4aa5-9447-5001ed82c4c5",
   "metadata": {},
   "outputs": [],
   "source": []
  },
  {
   "cell_type": "code",
   "execution_count": null,
   "id": "eda71090-ae02-475d-b96e-b40d1b03fb3f",
   "metadata": {},
   "outputs": [],
   "source": []
  },
  {
   "cell_type": "code",
   "execution_count": 11,
   "id": "a7a3f0c6-7b7b-40a0-9fef-104b516f87c9",
   "metadata": {},
   "outputs": [
    {
     "data": {
      "text/plain": [
       "792"
      ]
     },
     "execution_count": 11,
     "metadata": {},
     "output_type": "execute_result"
    }
   ],
   "source": [
    "len(list(onto.individuals()))"
   ]
  },
  {
   "cell_type": "code",
   "execution_count": 12,
   "id": "144b4aba-bd30-4a85-9b3d-3b0c55219e4e",
   "metadata": {},
   "outputs": [
    {
     "data": {
      "text/plain": [
       "259"
      ]
     },
     "execution_count": 12,
     "metadata": {},
     "output_type": "execute_result"
    }
   ],
   "source": [
    "len(list(onto.classes()))"
   ]
  },
  {
   "cell_type": "code",
   "execution_count": null,
   "id": "ace8b671-7395-4396-a1c1-4b12b5bced67",
   "metadata": {},
   "outputs": [],
   "source": []
  },
  {
   "cell_type": "code",
   "execution_count": 14,
   "id": "8c68390b-89bc-4277-a4d7-33cc15465192",
   "metadata": {},
   "outputs": [
    {
     "data": {
      "text/plain": [
       "[OntoGeoLogicaEntidadesNomeadas.anthropogenic_fluid,\n",
       " OntoGeoLogicaEntidadesNomeadas.anthropogenic_material,\n",
       " OntoGeoLogicaEntidadesNomeadas.basin,\n",
       " OntoGeoLogicaEntidadesNomeadas.continuant,\n",
       " OntoGeoLogicaEntidadesNomeadas.earth_fluid,\n",
       " OntoGeoLogicaEntidadesNomeadas.earth_material,\n",
       " OntoGeoLogicaEntidadesNomeadas.entity,\n",
       " OntoGeoLogicaEntidadesNomeadas.field,\n",
       " OntoGeoLogicaEntidadesNomeadas.generically_dependent_continuant,\n",
       " OntoGeoLogicaEntidadesNomeadas.geological_age,\n",
       " OntoGeoLogicaEntidadesNomeadas.geological_object,\n",
       " OntoGeoLogicaEntidadesNomeadas.geological_process,\n",
       " OntoGeoLogicaEntidadesNomeadas.geological_structure,\n",
       " OntoGeoLogicaEntidadesNomeadas.geological_time_interval,\n",
       " OntoGeoLogicaEntidadesNomeadas.immaterial_entity,\n",
       " OntoGeoLogicaEntidadesNomeadas.independent_continuant,\n",
       " OntoGeoLogicaEntidadesNomeadas.lithostratigraphic_unit,\n",
       " OntoGeoLogicaEntidadesNomeadas.material_entity,\n",
       " OntoGeoLogicaEntidadesNomeadas.object,\n",
       " OntoGeoLogicaEntidadesNomeadas.object_aggregate,\n",
       " OntoGeoLogicaEntidadesNomeadas.occurrent,\n",
       " OntoGeoLogicaEntidadesNomeadas.one-dimensional_temporal_region,\n",
       " OntoGeoLogicaEntidadesNomeadas.process,\n",
       " OntoGeoLogicaEntidadesNomeadas.quality,\n",
       " OntoGeoLogicaEntidadesNomeadas.rock,\n",
       " OntoGeoLogicaEntidadesNomeadas.site,\n",
       " OntoGeoLogicaEntidadesNomeadas.specifically_dependent_continuant,\n",
       " OntoGeoLogicaEntidadesNomeadas.temporal_region,\n",
       " OntoGeoLogicaEntidadesNomeadas.textura,\n",
       " OntoGeoLogicaEntidadesNomeadas.unconsolidated_earth_material,\n",
       " OntoGeoLogicaEntidadesNomeadas.well,\n",
       " OntoGeoLogicaEntidadesNomeadas.o&g_earth_fluid,\n",
       " OntoGeoLogicaEntidadesNomeadas.carbonatos,\n",
       " OntoGeoLogicaEntidadesNomeadas.igneous_rock,\n",
       " OntoGeoLogicaEntidadesNomeadas.caliche,\n",
       " OntoGeoLogicaEntidadesNomeadas.diamictite,\n",
       " OntoGeoLogicaEntidadesNomeadas.cataclasite,\n",
       " OntoGeoLogicaEntidadesNomeadas.ortoconglomerado,\n",
       " OntoGeoLogicaEntidadesNomeadas.sedimentary_rock,\n",
       " OntoGeoLogicaEntidadesNomeadas.tachyhydrite,\n",
       " OntoGeoLogicaEntidadesNomeadas.pyroclastic_rock,\n",
       " OntoGeoLogicaEntidadesNomeadas.mudstone,\n",
       " OntoGeoLogicaEntidadesNomeadas.metassedimentar,\n",
       " OntoGeoLogicaEntidadesNomeadas.anhydrite,\n",
       " OntoGeoLogicaEntidadesNomeadas.gypsum,\n",
       " OntoGeoLogicaEntidadesNomeadas.grainstone,\n",
       " OntoGeoLogicaEntidadesNomeadas.paraconglomerado,\n",
       " OntoGeoLogicaEntidadesNomeadas.hiloclastite,\n",
       " OntoGeoLogicaEntidadesNomeadas.syenitic_rock,\n",
       " OntoGeoLogicaEntidadesNomeadas.amphibolite,\n",
       " OntoGeoLogicaEntidadesNomeadas.greenschist,\n",
       " OntoGeoLogicaEntidadesNomeadas.silcrete,\n",
       " OntoGeoLogicaEntidadesNomeadas.granitic_rock,\n",
       " OntoGeoLogicaEntidadesNomeadas.sandstone,\n",
       " OntoGeoLogicaEntidadesNomeadas.basaltic_rock,\n",
       " OntoGeoLogicaEntidadesNomeadas.dolomite,\n",
       " OntoGeoLogicaEntidadesNomeadas.marlstone,\n",
       " OntoGeoLogicaEntidadesNomeadas.diabase,\n",
       " OntoGeoLogicaEntidadesNomeadas.calcilutite,\n",
       " OntoGeoLogicaEntidadesNomeadas.argillite,\n",
       " OntoGeoLogicaEntidadesNomeadas.evaporite,\n",
       " OntoGeoLogicaEntidadesNomeadas.plutonic_rock,\n",
       " OntoGeoLogicaEntidadesNomeadas.basanite,\n",
       " OntoGeoLogicaEntidadesNomeadas.wackestone,\n",
       " OntoGeoLogicaEntidadesNomeadas.tuff,\n",
       " OntoGeoLogicaEntidadesNomeadas.rhyolite,\n",
       " OntoGeoLogicaEntidadesNomeadas.quartzite,\n",
       " OntoGeoLogicaEntidadesNomeadas.magma,\n",
       " OntoGeoLogicaEntidadesNomeadas.phyllite,\n",
       " OntoGeoLogicaEntidadesNomeadas.estromatolito,\n",
       " OntoGeoLogicaEntidadesNomeadas.coal,\n",
       " OntoGeoLogicaEntidadesNomeadas.peridotite,\n",
       " OntoGeoLogicaEntidadesNomeadas.calciarenite,\n",
       " OntoGeoLogicaEntidadesNomeadas.mylonite,\n",
       " OntoGeoLogicaEntidadesNomeadas.conglomerate,\n",
       " OntoGeoLogicaEntidadesNomeadas.basalt,\n",
       " OntoGeoLogicaEntidadesNomeadas.gabbro,\n",
       " OntoGeoLogicaEntidadesNomeadas.granite,\n",
       " OntoGeoLogicaEntidadesNomeadas.calcissiltite,\n",
       " OntoGeoLogicaEntidadesNomeadas.fault_gouge,\n",
       " OntoGeoLogicaEntidadesNomeadas.calcrete,\n",
       " OntoGeoLogicaEntidadesNomeadas.granulite,\n",
       " OntoGeoLogicaEntidadesNomeadas.phonolite,\n",
       " OntoGeoLogicaEntidadesNomeadas.shale,\n",
       " OntoGeoLogicaEntidadesNomeadas.migmatite,\n",
       " OntoGeoLogicaEntidadesNomeadas.trachyte,\n",
       " OntoGeoLogicaEntidadesNomeadas.siliciclasticos,\n",
       " OntoGeoLogicaEntidadesNomeadas.syenite,\n",
       " OntoGeoLogicaEntidadesNomeadas.coquina,\n",
       " OntoGeoLogicaEntidadesNomeadas.sylvinite,\n",
       " OntoGeoLogicaEntidadesNomeadas.fault_rock,\n",
       " OntoGeoLogicaEntidadesNomeadas.siltstone,\n",
       " OntoGeoLogicaEntidadesNomeadas.andesite,\n",
       " OntoGeoLogicaEntidadesNomeadas.till,\n",
       " OntoGeoLogicaEntidadesNomeadas.lamito,\n",
       " OntoGeoLogicaEntidadesNomeadas.pyroclastic_breccia,\n",
       " OntoGeoLogicaEntidadesNomeadas.laminito,\n",
       " OntoGeoLogicaEntidadesNomeadas.carnallite,\n",
       " OntoGeoLogicaEntidadesNomeadas.ignimbrite,\n",
       " OntoGeoLogicaEntidadesNomeadas.volcanic_rock,\n",
       " OntoGeoLogicaEntidadesNomeadas.halite,\n",
       " OntoGeoLogicaEntidadesNomeadas.hypabyssal_rock,\n",
       " OntoGeoLogicaEntidadesNomeadas.gneiss,\n",
       " OntoGeoLogicaEntidadesNomeadas.orthogneiss,\n",
       " OntoGeoLogicaEntidadesNomeadas.packstone,\n",
       " OntoGeoLogicaEntidadesNomeadas.limestone,\n",
       " OntoGeoLogicaEntidadesNomeadas.arcose,\n",
       " OntoGeoLogicaEntidadesNomeadas.gipsita,\n",
       " OntoGeoLogicaEntidadesNomeadas.schist,\n",
       " OntoGeoLogicaEntidadesNomeadas.breccia,\n",
       " OntoGeoLogicaEntidadesNomeadas.sand,\n",
       " OntoGeoLogicaEntidadesNomeadas.clastic_sediment,\n",
       " OntoGeoLogicaEntidadesNomeadas.silt,\n",
       " OntoGeoLogicaEntidadesNomeadas.clay,\n",
       " OntoGeoLogicaEntidadesNomeadas.cobbles,\n",
       " OntoGeoLogicaEntidadesNomeadas.scree,\n",
       " OntoGeoLogicaEntidadesNomeadas.ash,\n",
       " OntoGeoLogicaEntidadesNomeadas.igneous_sediment,\n",
       " OntoGeoLogicaEntidadesNomeadas.pyroclast,\n",
       " OntoGeoLogicaEntidadesNomeadas.gravel,\n",
       " OntoGeoLogicaEntidadesNomeadas.oil,\n",
       " OntoGeoLogicaEntidadesNomeadas.heavy_oil,\n",
       " OntoGeoLogicaEntidadesNomeadas.formation_fluid,\n",
       " OntoGeoLogicaEntidadesNomeadas.condensate,\n",
       " OntoGeoLogicaEntidadesNomeadas.hydrocarbon,\n",
       " OntoGeoLogicaEntidadesNomeadas.gas,\n",
       " OntoGeoLogicaEntidadesNomeadas.carbon_dioxide,\n",
       " OntoGeoLogicaEntidadesNomeadas.gaseous_hydrocarbon,\n",
       " OntoGeoLogicaEntidadesNomeadas.Upper_Aptian_Subage_quality,\n",
       " OntoGeoLogicaEntidadesNomeadas.Neoproterozoic_quality,\n",
       " OntoGeoLogicaEntidadesNomeadas.Aptian_quality,\n",
       " OntoGeoLogicaEntidadesNomeadas.Bashkirian_quality,\n",
       " OntoGeoLogicaEntidadesNomeadas.Middle_Cenomanian_Subage_quality,\n",
       " OntoGeoLogicaEntidadesNomeadas.Lutetian_quality,\n",
       " OntoGeoLogicaEntidadesNomeadas.Upper_Pliensbachian_Subage_quality,\n",
       " OntoGeoLogicaEntidadesNomeadas.Eoburacica_Subage_quality,\n",
       " OntoGeoLogicaEntidadesNomeadas.Valanginian_quality,\n",
       " OntoGeoLogicaEntidadesNomeadas.Middle_Campanian_Subage_quality,\n",
       " OntoGeoLogicaEntidadesNomeadas.Upper_Santonian_Subage_quality,\n",
       " OntoGeoLogicaEntidadesNomeadas.Devonian_quality,\n",
       " OntoGeoLogicaEntidadesNomeadas.Paleogene_quality,\n",
       " OntoGeoLogicaEntidadesNomeadas.LowerJurassic_quality,\n",
       " OntoGeoLogicaEntidadesNomeadas.Lower_Turonian_Subage_quality,\n",
       " OntoGeoLogicaEntidadesNomeadas.Neoburacica_Subage_quality,\n",
       " OntoGeoLogicaEntidadesNomeadas.Ypresian_quality,\n",
       " OntoGeoLogicaEntidadesNomeadas.Lower_Pliensbachian_Subage_quality,\n",
       " OntoGeoLogicaEntidadesNomeadas.Carboniferous_quality,\n",
       " OntoGeoLogicaEntidadesNomeadas.Priabonian_quality,\n",
       " OntoGeoLogicaEntidadesNomeadas.Lower_Campanian_Subage_quality,\n",
       " OntoGeoLogicaEntidadesNomeadas.Permiano_quality,\n",
       " OntoGeoLogicaEntidadesNomeadas.Kungurian_quality,\n",
       " OntoGeoLogicaEntidadesNomeadas.Upper_Turonian_Subage_quality,\n",
       " OntoGeoLogicaEntidadesNomeadas.Tortonian_quality,\n",
       " OntoGeoLogicaEntidadesNomeadas.Lower_Hauterivian_Subage_quality,\n",
       " OntoGeoLogicaEntidadesNomeadas.Lower_Cenomanian_Subage_quality,\n",
       " OntoGeoLogicaEntidadesNomeadas.Paleoproterozoic_quality,\n",
       " OntoGeoLogicaEntidadesNomeadas.Oxfordian_quality,\n",
       " OntoGeoLogicaEntidadesNomeadas.Oligocene_quality,\n",
       " OntoGeoLogicaEntidadesNomeadas.Thanetian_quality,\n",
       " OntoGeoLogicaEntidadesNomeadas.UpperJurassic_quality,\n",
       " OntoGeoLogicaEntidadesNomeadas.Mesoproterozoic_quality,\n",
       " OntoGeoLogicaEntidadesNomeadas.Quaternary_quality,\n",
       " OntoGeoLogicaEntidadesNomeadas.Holocene_quality,\n",
       " OntoGeoLogicaEntidadesNomeadas.UpperDevonian_quality,\n",
       " OntoGeoLogicaEntidadesNomeadas.Berriasian_quality,\n",
       " OntoGeoLogicaEntidadesNomeadas.Lower_Toarcian_Subage_quality,\n",
       " OntoGeoLogicaEntidadesNomeadas.Missourian_Age_quality,\n",
       " OntoGeoLogicaEntidadesNomeadas.Rio_da_serra_Age_quality,\n",
       " OntoGeoLogicaEntidadesNomeadas.Meso-alagoas_Subage_quality,\n",
       " OntoGeoLogicaEntidadesNomeadas.Alagoas_Age_quality,\n",
       " OntoGeoLogicaEntidadesNomeadas.Virgilian_Age_quality,\n",
       " OntoGeoLogicaEntidadesNomeadas.Maastrichtian_quality,\n",
       " OntoGeoLogicaEntidadesNomeadas.Westphalian_Age_quality,\n",
       " OntoGeoLogicaEntidadesNomeadas.Lower_Maastrichtian_Subage_quality,\n",
       " OntoGeoLogicaEntidadesNomeadas.Miocene_quality,\n",
       " OntoGeoLogicaEntidadesNomeadas.Eoriodaserra_Age_quality,\n",
       " OntoGeoLogicaEntidadesNomeadas.Silurian_quality,\n",
       " OntoGeoLogicaEntidadesNomeadas.Neoriodaserra_Subage_quality,\n",
       " OntoGeoLogicaEntidadesNomeadas.Mississippian_quality,\n",
       " OntoGeoLogicaEntidadesNomeadas.Mesozoic_quality,\n",
       " OntoGeoLogicaEntidadesNomeadas.Rupelian_quality,\n",
       " OntoGeoLogicaEntidadesNomeadas.Mesoriodaserra_Subage_quality,\n",
       " OntoGeoLogicaEntidadesNomeadas.Kazaniano_quality,\n",
       " OntoGeoLogicaEntidadesNomeadas.Lower_Barremian_Subage_quality,\n",
       " OntoGeoLogicaEntidadesNomeadas.LowerCretaceous_quality,\n",
       " OntoGeoLogicaEntidadesNomeadas.UpperCretaceous_quality,\n",
       " OntoGeoLogicaEntidadesNomeadas.Permian_quality,\n",
       " OntoGeoLogicaEntidadesNomeadas.Danian_quality,\n",
       " OntoGeoLogicaEntidadesNomeadas.Gzhelian_quality,\n",
       " OntoGeoLogicaEntidadesNomeadas.Lower_Valanginian_Subage_quality,\n",
       " OntoGeoLogicaEntidadesNomeadas.Upper_Coniacian_Subage_quality,\n",
       " OntoGeoLogicaEntidadesNomeadas.Cretaceous_quality,\n",
       " OntoGeoLogicaEntidadesNomeadas.Chattian_quality,\n",
       " OntoGeoLogicaEntidadesNomeadas.Neo-alagoas_Subage_quality,\n",
       " OntoGeoLogicaEntidadesNomeadas.MiddleJurassic_quality,\n",
       " OntoGeoLogicaEntidadesNomeadas.Pennsylvanian_quality,\n",
       " OntoGeoLogicaEntidadesNomeadas.Neojiquia_Subage_quality,\n",
       " OntoGeoLogicaEntidadesNomeadas.Jurassic_quality,\n",
       " OntoGeoLogicaEntidadesNomeadas.Lower_Aptian_Subage_quality,\n",
       " OntoGeoLogicaEntidadesNomeadas.Lower_Albian_Subage_quality,\n",
       " OntoGeoLogicaEntidadesNomeadas.Pliocene_quality,\n",
       " OntoGeoLogicaEntidadesNomeadas.Albian_quality,\n",
       " OntoGeoLogicaEntidadesNomeadas.Lower_Berriasian_Subage_quality,\n",
       " OntoGeoLogicaEntidadesNomeadas.Lower_Coniacian_Subage_quality,\n",
       " OntoGeoLogicaEntidadesNomeadas.Upper_Campanian_Subage_quality,\n",
       " OntoGeoLogicaEntidadesNomeadas.Triassic_quality,\n",
       " OntoGeoLogicaEntidadesNomeadas.geochronologic_epoch_quality,\n",
       " OntoGeoLogicaEntidadesNomeadas.Upper_Maastrichtian_Subage_quality,\n",
       " OntoGeoLogicaEntidadesNomeadas.Middle_Santonian_Subage_quality,\n",
       " OntoGeoLogicaEntidadesNomeadas.UpperTriassic_quality,\n",
       " OntoGeoLogicaEntidadesNomeadas.Sinemurian_quality,\n",
       " OntoGeoLogicaEntidadesNomeadas.Eo-alagoas_Subage_quality,\n",
       " OntoGeoLogicaEntidadesNomeadas.Mesoriodaserra_Age_quality,\n",
       " OntoGeoLogicaEntidadesNomeadas.Archean_quality,\n",
       " OntoGeoLogicaEntidadesNomeadas.Paleocene_quality,\n",
       " OntoGeoLogicaEntidadesNomeadas.Jiquia_Age_quality,\n",
       " OntoGeoLogicaEntidadesNomeadas.Burdigalian_quality,\n",
       " OntoGeoLogicaEntidadesNomeadas.Cenomanian_quality,\n",
       " OntoGeoLogicaEntidadesNomeadas.LowerTriassic_quality,\n",
       " OntoGeoLogicaEntidadesNomeadas.Neo-Alagoas_Subage_quality,\n",
       " OntoGeoLogicaEntidadesNomeadas.Upper_Albian_Subage_quality,\n",
       " OntoGeoLogicaEntidadesNomeadas.Campanian_quality,\n",
       " OntoGeoLogicaEntidadesNomeadas.Pliensbachian_quality,\n",
       " OntoGeoLogicaEntidadesNomeadas.Arenig_Epoch_quality,\n",
       " OntoGeoLogicaEntidadesNomeadas.Eojiquia_Subage_quality,\n",
       " OntoGeoLogicaEntidadesNomeadas.Frasnian_quality,\n",
       " OntoGeoLogicaEntidadesNomeadas.Aratu_Age_quality,\n",
       " OntoGeoLogicaEntidadesNomeadas.Cenozoic_quality,\n",
       " OntoGeoLogicaEntidadesNomeadas.Cambrian_quality,\n",
       " OntoGeoLogicaEntidadesNomeadas.Bartonian_quality,\n",
       " OntoGeoLogicaEntidadesNomeadas.LowerDevonian_quality,\n",
       " OntoGeoLogicaEntidadesNomeadas.Toarcian_quality,\n",
       " OntoGeoLogicaEntidadesNomeadas.Santonian_quality,\n",
       " OntoGeoLogicaEntidadesNomeadas.Barremian_quality,\n",
       " OntoGeoLogicaEntidadesNomeadas.Upper_Sinemurian_Subage_quality,\n",
       " OntoGeoLogicaEntidadesNomeadas.Hauterivian_quality,\n",
       " OntoGeoLogicaEntidadesNomeadas.Upper_Barremian_Subage_quality,\n",
       " OntoGeoLogicaEntidadesNomeadas.Middle_Albian_Subage_quality,\n",
       " OntoGeoLogicaEntidadesNomeadas.Buracica_Age_quality,\n",
       " OntoGeoLogicaEntidadesNomeadas.Morrowan_Age_quality,\n",
       " OntoGeoLogicaEntidadesNomeadas.Atokan_Age_quality,\n",
       " OntoGeoLogicaEntidadesNomeadas.Upper_Cenomanian_Subage_quality,\n",
       " OntoGeoLogicaEntidadesNomeadas.Tithonian_quality,\n",
       " OntoGeoLogicaEntidadesNomeadas.Neogene_quality,\n",
       " OntoGeoLogicaEntidadesNomeadas.Coniacian_quality,\n",
       " OntoGeoLogicaEntidadesNomeadas.Ordovician_quality,\n",
       " OntoGeoLogicaEntidadesNomeadas.Upper_Berriasian_Subage_quality,\n",
       " OntoGeoLogicaEntidadesNomeadas.Paleozoic_quality,\n",
       " OntoGeoLogicaEntidadesNomeadas.Desmoinesian_Age_quality,\n",
       " OntoGeoLogicaEntidadesNomeadas.Pleistocene_quality,\n",
       " OntoGeoLogicaEntidadesNomeadas.Turonian_quality,\n",
       " OntoGeoLogicaEntidadesNomeadas.Proterozoic_quality,\n",
       " OntoGeoLogicaEntidadesNomeadas.Sakmarian_quality,\n",
       " OntoGeoLogicaEntidadesNomeadas.geochronologic_age_quality,\n",
       " OntoGeoLogicaEntidadesNomeadas.Phanerozoic_quality,\n",
       " OntoGeoLogicaEntidadesNomeadas.Upper_Valanginian_Subage_quality,\n",
       " OntoGeoLogicaEntidadesNomeadas.??_quality,\n",
       " OntoGeoLogicaEntidadesNomeadas.Eocene_quality,\n",
       " OntoGeoLogicaEntidadesNomeadas.Kasimovian_quality]"
      ]
     },
     "execution_count": 14,
     "metadata": {},
     "output_type": "execute_result"
    }
   ],
   "source": [
    "list(onto.classes())"
   ]
  },
  {
   "cell_type": "code",
   "execution_count": 5,
   "id": "8b354ff5-d882-4fff-a87b-21cfdb88fe14",
   "metadata": {},
   "outputs": [],
   "source": [
    "classes_train = ['#ash','#block_tephra','#clastic_sediment']"
   ]
  },
  {
   "cell_type": "code",
   "execution_count": 6,
   "id": "6387489f-ff7f-4788-8848-3f0005c1f81c",
   "metadata": {},
   "outputs": [],
   "source": [
    "onto_train = onto\n"
   ]
  },
  {
   "cell_type": "code",
   "execution_count": 7,
   "id": "40975d7b-908e-48ce-8c21-770f5f429b04",
   "metadata": {},
   "outputs": [
    {
     "data": {
      "text/plain": [
       "[]"
      ]
     },
     "execution_count": 7,
     "metadata": {},
     "output_type": "execute_result"
    }
   ],
   "source": [
    "list(onto_train.unconsolidated_earth_material.subclasses())"
   ]
  },
  {
   "cell_type": "markdown",
   "id": "88890087-8adc-4d10-b42c-46c78259a86b",
   "metadata": {},
   "source": [
    "### Povoando novas entidades (subclasses )"
   ]
  },
  {
   "cell_type": "code",
   "execution_count": 9,
   "id": "16a5039a-1261-4a6d-a18a-9fdb22a09500",
   "metadata": {},
   "outputs": [],
   "source": [
    "for new_class in classes_train:\n",
    "    with onto_train:\n",
    "        types.new_class(new_class[1:], (onto_train.unconsolidated_earth_material,))\n",
    "\n",
    "#class classes_train[0].name(onto_train.unconsolidated_earth_material):\n",
    "#    pass\n"
   ]
  },
  {
   "cell_type": "code",
   "execution_count": 10,
   "id": "ff1c059b-54ca-415e-881e-720da212d500",
   "metadata": {},
   "outputs": [],
   "source": [
    "#NewClass.ancestors()"
   ]
  },
  {
   "cell_type": "code",
   "execution_count": 11,
   "id": "a8fffd6a-6427-4aef-9af0-7c8e2143eef8",
   "metadata": {},
   "outputs": [
    {
     "data": {
      "text/plain": [
       "[..\\OntoGeoLogicaEntidadesNomeadas.ash,\n",
       " ..\\OntoGeoLogicaEntidadesNomeadas.block_tephra,\n",
       " ..\\OntoGeoLogicaEntidadesNomeadas.clastic_sediment]"
      ]
     },
     "execution_count": 11,
     "metadata": {},
     "output_type": "execute_result"
    }
   ],
   "source": [
    "list(onto_train.unconsolidated_earth_material.subclasses())"
   ]
  },
  {
   "cell_type": "code",
   "execution_count": 12,
   "id": "88545843-30c1-432d-9034-e14f991a010c",
   "metadata": {},
   "outputs": [
    {
     "data": {
      "text/plain": [
       "[..\\OntoGeoLogicaEntidadesNomeadas.anthropogenic_fluid,\n",
       " ..\\OntoGeoLogicaEntidadesNomeadas.anthropogenic_material,\n",
       " ..\\OntoGeoLogicaEntidadesNomeadas.basin,\n",
       " ..\\OntoGeoLogicaEntidadesNomeadas.continuant,\n",
       " ..\\OntoGeoLogicaEntidadesNomeadas.earth_fluid,\n",
       " ..\\OntoGeoLogicaEntidadesNomeadas.earth_material,\n",
       " ..\\OntoGeoLogicaEntidadesNomeadas.entity,\n",
       " ..\\OntoGeoLogicaEntidadesNomeadas.field,\n",
       " ..\\OntoGeoLogicaEntidadesNomeadas.generically_dependent_continuant,\n",
       " ..\\OntoGeoLogicaEntidadesNomeadas.geological_age,\n",
       " ..\\OntoGeoLogicaEntidadesNomeadas.geological_object,\n",
       " ..\\OntoGeoLogicaEntidadesNomeadas.geological_process,\n",
       " ..\\OntoGeoLogicaEntidadesNomeadas.geological_structure,\n",
       " ..\\OntoGeoLogicaEntidadesNomeadas.geological_time_interval,\n",
       " ..\\OntoGeoLogicaEntidadesNomeadas.immaterial_entity,\n",
       " ..\\OntoGeoLogicaEntidadesNomeadas.independent_continuant,\n",
       " ..\\OntoGeoLogicaEntidadesNomeadas.lithostratigraphic_unit,\n",
       " ..\\OntoGeoLogicaEntidadesNomeadas.material_entity,\n",
       " ..\\OntoGeoLogicaEntidadesNomeadas.object,\n",
       " ..\\OntoGeoLogicaEntidadesNomeadas.object_aggregate,\n",
       " ..\\OntoGeoLogicaEntidadesNomeadas.occurrent,\n",
       " ..\\OntoGeoLogicaEntidadesNomeadas.one-dimensional_temporal_region,\n",
       " ..\\OntoGeoLogicaEntidadesNomeadas.process,\n",
       " ..\\OntoGeoLogicaEntidadesNomeadas.quality,\n",
       " ..\\OntoGeoLogicaEntidadesNomeadas.rock,\n",
       " ..\\OntoGeoLogicaEntidadesNomeadas.site,\n",
       " ..\\OntoGeoLogicaEntidadesNomeadas.specifically_dependent_continuant,\n",
       " ..\\OntoGeoLogicaEntidadesNomeadas.temporal_region,\n",
       " ..\\OntoGeoLogicaEntidadesNomeadas.textura,\n",
       " ..\\OntoGeoLogicaEntidadesNomeadas.unconsolidated_earth_material,\n",
       " ..\\OntoGeoLogicaEntidadesNomeadas.well,\n",
       " ..\\OntoGeoLogicaEntidadesNomeadas.o&g_earth_fluid,\n",
       " ..\\OntoGeoLogicaEntidadesNomeadas.ash,\n",
       " ..\\OntoGeoLogicaEntidadesNomeadas.block_tephra,\n",
       " ..\\OntoGeoLogicaEntidadesNomeadas.clastic_sediment]"
      ]
     },
     "execution_count": 12,
     "metadata": {},
     "output_type": "execute_result"
    }
   ],
   "source": [
    "list(onto_train.classes())"
   ]
  },
  {
   "cell_type": "markdown",
   "id": "3423c629-43f8-4a9c-bdc0-3dd6763a3b4b",
   "metadata": {},
   "source": [
    "### Povoando novas entidades (instâncias)"
   ]
  },
  {
   "cell_type": "code",
   "execution_count": 13,
   "id": "5a5f8348-2bd4-46d4-bae6-7b9e513d42e1",
   "metadata": {},
   "outputs": [],
   "source": [
    "inst_field = ['#marlim','#albacora','#mero']\n",
    "inst_basin = ['#campos','#santos']"
   ]
  },
  {
   "cell_type": "code",
   "execution_count": 14,
   "id": "f163fd2a-29f5-4aec-8f7d-4f12b5cb0c01",
   "metadata": {},
   "outputs": [],
   "source": [
    "for field in inst_field:\n",
    "    onto.field(field[1:])\n",
    "    \n",
    "for basin in inst_basin:\n",
    "    onto.basin(basin[1:])"
   ]
  },
  {
   "cell_type": "code",
   "execution_count": 15,
   "id": "cf6107ba-9275-4022-903b-71833eb1f374",
   "metadata": {},
   "outputs": [
    {
     "data": {
      "text/plain": [
       "[..\\OntoGeoLogicaEntidadesNomeadas.marlim,\n",
       " ..\\OntoGeoLogicaEntidadesNomeadas.albacora,\n",
       " ..\\OntoGeoLogicaEntidadesNomeadas.mero,\n",
       " ..\\OntoGeoLogicaEntidadesNomeadas.campos,\n",
       " ..\\OntoGeoLogicaEntidadesNomeadas.santos]"
      ]
     },
     "execution_count": 15,
     "metadata": {},
     "output_type": "execute_result"
    }
   ],
   "source": [
    "list(onto.individuals())"
   ]
  },
  {
   "cell_type": "code",
   "execution_count": 16,
   "id": "f05a9af8-3f81-4427-b3e3-0725d9529ad6",
   "metadata": {},
   "outputs": [
    {
     "data": {
      "text/plain": [
       "[..\\OntoGeoLogicaEntidadesNomeadas.marlim, ..\\OntoGeoLogicaEntidadesNomeadas.albacora, ..\\OntoGeoLogicaEntidadesNomeadas.mero]"
      ]
     },
     "execution_count": 16,
     "metadata": {},
     "output_type": "execute_result"
    }
   ],
   "source": [
    "onto.search(type = onto.field)"
   ]
  },
  {
   "cell_type": "code",
   "execution_count": 17,
   "id": "6f849947-c642-48fc-90ce-8fc202ee2332",
   "metadata": {},
   "outputs": [
    {
     "data": {
      "text/plain": [
       "[..\\OntoGeoLogicaEntidadesNomeadas.campos, ..\\OntoGeoLogicaEntidadesNomeadas.santos]"
      ]
     },
     "execution_count": 17,
     "metadata": {},
     "output_type": "execute_result"
    }
   ],
   "source": [
    "onto.search(type = onto.basin)"
   ]
  },
  {
   "cell_type": "markdown",
   "id": "6303b66a-30e4-44d2-8603-8c6544272e0e",
   "metadata": {},
   "source": [
    "### Testando povoamento de novas relações"
   ]
  },
  {
   "cell_type": "code",
   "execution_count": 18,
   "id": "775e7d34-bdc3-4745-843f-afe29e6b8615",
   "metadata": {},
   "outputs": [
    {
     "data": {
      "text/plain": [
       "[..\\OntoGeoLogicaEntidadesNomeadas.age_of,\n",
       " ..\\OntoGeoLogicaEntidadesNomeadas.carrier_of,\n",
       " ..\\OntoGeoLogicaEntidadesNomeadas.characteristic_of,\n",
       " ..\\OntoGeoLogicaEntidadesNomeadas.concretizes,\n",
       " ..\\OntoGeoLogicaEntidadesNomeadas.constituted_by,\n",
       " ..\\OntoGeoLogicaEntidadesNomeadas.crossed_by,\n",
       " ..\\OntoGeoLogicaEntidadesNomeadas.crosses,\n",
       " ..\\OntoGeoLogicaEntidadesNomeadas.disposition_of,\n",
       " ..\\OntoGeoLogicaEntidadesNomeadas.function_of,\n",
       " ..\\OntoGeoLogicaEntidadesNomeadas.generated_by,\n",
       " ..\\OntoGeoLogicaEntidadesNomeadas.generically_depends_on,\n",
       " ..\\OntoGeoLogicaEntidadesNomeadas.has_age,\n",
       " ..\\OntoGeoLogicaEntidadesNomeadas.has_characteristic,\n",
       " ..\\OntoGeoLogicaEntidadesNomeadas.has_disposition,\n",
       " ..\\OntoGeoLogicaEntidadesNomeadas.has_function,\n",
       " ..\\OntoGeoLogicaEntidadesNomeadas.has_member,\n",
       " ..\\OntoGeoLogicaEntidadesNomeadas.has_part,\n",
       " ..\\OntoGeoLogicaEntidadesNomeadas.has_participant,\n",
       " ..\\OntoGeoLogicaEntidadesNomeadas.has_quality,\n",
       " ..\\OntoGeoLogicaEntidadesNomeadas.has_role,\n",
       " ..\\OntoGeoLogicaEntidadesNomeadas.has_temporal_relation,\n",
       " ..\\OntoGeoLogicaEntidadesNomeadas.interval_after,\n",
       " ..\\OntoGeoLogicaEntidadesNomeadas.interval_before,\n",
       " ..\\OntoGeoLogicaEntidadesNomeadas.interval_contains,\n",
       " ..\\OntoGeoLogicaEntidadesNomeadas.interval_disjoint,\n",
       " ..\\OntoGeoLogicaEntidadesNomeadas.interval_during,\n",
       " ..\\OntoGeoLogicaEntidadesNomeadas.interval_equals,\n",
       " ..\\OntoGeoLogicaEntidadesNomeadas.interval_finished_by,\n",
       " ..\\OntoGeoLogicaEntidadesNomeadas.interval_finishes,\n",
       " ..\\OntoGeoLogicaEntidadesNomeadas.interval_in,\n",
       " ..\\OntoGeoLogicaEntidadesNomeadas.interval_meets,\n",
       " ..\\OntoGeoLogicaEntidadesNomeadas.interval_met_by,\n",
       " ..\\OntoGeoLogicaEntidadesNomeadas.interval_overlapped_by,\n",
       " ..\\OntoGeoLogicaEntidadesNomeadas.interval_overlaps,\n",
       " ..\\OntoGeoLogicaEntidadesNomeadas.interval_started_by,\n",
       " ..\\OntoGeoLogicaEntidadesNomeadas.interval_starts,\n",
       " ..\\OntoGeoLogicaEntidadesNomeadas.is_concretized_as,\n",
       " ..\\OntoGeoLogicaEntidadesNomeadas.located_in,\n",
       " ..\\OntoGeoLogicaEntidadesNomeadas.location_of,\n",
       " ..\\OntoGeoLogicaEntidadesNomeadas.member_of,\n",
       " ..\\OntoGeoLogicaEntidadesNomeadas.part_of,\n",
       " ..\\OntoGeoLogicaEntidadesNomeadas.participates_in,\n",
       " ..\\OntoGeoLogicaEntidadesNomeadas.quality_of,\n",
       " ..\\OntoGeoLogicaEntidadesNomeadas.role_of]"
      ]
     },
     "execution_count": 18,
     "metadata": {},
     "output_type": "execute_result"
    }
   ],
   "source": [
    "list(onto.object_properties())"
   ]
  },
  {
   "cell_type": "code",
   "execution_count": 24,
   "id": "d222e573-71d4-4f85-8d7e-0bc4d3452f06",
   "metadata": {},
   "outputs": [],
   "source": [
    "onto.marlim.located_in.append(onto.campos)\n",
    "onto.albacora.located_in.append(onto.campos)\n",
    "onto.mero.located_in.append(onto.santos)"
   ]
  },
  {
   "cell_type": "code",
   "execution_count": 26,
   "id": "050db7a2-d922-4e17-a9c9-cd1d405e8ab7",
   "metadata": {},
   "outputs": [
    {
     "data": {
      "text/plain": [
       "[..\\OntoGeoLogicaEntidadesNomeadas.mero]"
      ]
     },
     "execution_count": 26,
     "metadata": {},
     "output_type": "execute_result"
    }
   ],
   "source": [
    "onto.santos.location_of"
   ]
  },
  {
   "cell_type": "markdown",
   "id": "b2b62123-d523-4fbe-b3d0-e53564102e8e",
   "metadata": {},
   "source": [
    "Apagando as subclasses de \"rock\" e \"unconsolidated_earth_material\""
   ]
  },
  {
   "cell_type": "code",
   "execution_count": 11,
   "id": "306981ea-1c81-47a9-992c-587d1b31a8ed",
   "metadata": {},
   "outputs": [],
   "source": [
    "rock_list = onto.search(subclass_of = onto.rock)\n",
    "\n",
    "#Apagando todas as subclasses de rock \n",
    "# (a posição 0 na lista é o proprio nó \"rock\", por isso ele foi mantido)\n",
    "for n in range(1,len(rock_list)):\n",
    "    destroy_entity(rock_list[n])\n",
    "               "
   ]
  },
  {
   "cell_type": "code",
   "execution_count": 15,
   "id": "6a1e9aa8-0c43-4f84-b8f1-f137e83d1451",
   "metadata": {},
   "outputs": [],
   "source": [
    "unconsolidated_list = onto.search(subclass_of = onto.unconsolidated_earth_material)\n",
    "\n",
    "#Apagando todas as subclasses de unconsolidated_earth_material\n",
    "# (a posição 0 na lista é o proprio nó \"unconsolidated_earth_material\", por isso ele foi mantido)\n",
    "for n in range(1,len(unconsolidated_list)):\n",
    "    destroy_entity(unconsolidated_list[n])"
   ]
  },
  {
   "cell_type": "code",
   "execution_count": 9,
   "id": "111f107f-e334-4651-9a1e-94eb731ec5bd",
   "metadata": {},
   "outputs": [
    {
     "data": {
      "text/plain": [
       "[..\\OntoGeoLogicaInstanciasRelacoes.independent_continuant,\n",
       " ..\\OntoGeoLogicaInstanciasRelacoes.generically_dependent_continuant,\n",
       " ..\\OntoGeoLogicaInstanciasRelacoes.specifically_dependent_continuant,\n",
       " ..\\OntoGeoLogicaInstanciasRelacoes.well,\n",
       " ..\\OntoGeoLogicaInstanciasRelacoes.geological_object,\n",
       " ..\\OntoGeoLogicaInstanciasRelacoes.occurrent,\n",
       " ..\\OntoGeoLogicaInstanciasRelacoes.continuant,\n",
       " ..\\OntoGeoLogicaInstanciasRelacoes.quality,\n",
       " ..\\OntoGeoLogicaInstanciasRelacoes.one-dimensional_temporal_region,\n",
       " ..\\OntoGeoLogicaInstanciasRelacoes.geological_age,\n",
       " ..\\OntoGeoLogicaInstanciasRelacoes.rock,\n",
       " ..\\OntoGeoLogicaInstanciasRelacoes.anthropogenic_fluid,\n",
       " ..\\OntoGeoLogicaInstanciasRelacoes.anthropogenic_material,\n",
       " ..\\OntoGeoLogicaInstanciasRelacoes.material_entity,\n",
       " ..\\OntoGeoLogicaInstanciasRelacoes.earth_material,\n",
       " ..\\OntoGeoLogicaInstanciasRelacoes.unconsolidated_earth_material,\n",
       " ..\\OntoGeoLogicaInstanciasRelacoes.basin,\n",
       " ..\\OntoGeoLogicaInstanciasRelacoes.site,\n",
       " ..\\OntoGeoLogicaInstanciasRelacoes.field,\n",
       " ..\\OntoGeoLogicaInstanciasRelacoes.o&g_earth_fluid,\n",
       " ..\\OntoGeoLogicaInstanciasRelacoes.entity,\n",
       " ..\\OntoGeoLogicaInstanciasRelacoes.earth_fluid,\n",
       " ..\\OntoGeoLogicaInstanciasRelacoes.geological_time_interval,\n",
       " ..\\OntoGeoLogicaInstanciasRelacoes.geological_process,\n",
       " ..\\OntoGeoLogicaInstanciasRelacoes.object,\n",
       " ..\\OntoGeoLogicaInstanciasRelacoes.geological_structure,\n",
       " ..\\OntoGeoLogicaInstanciasRelacoes.process,\n",
       " ..\\OntoGeoLogicaInstanciasRelacoes.immaterial_entity,\n",
       " ..\\OntoGeoLogicaInstanciasRelacoes.lithostratigraphic_unit,\n",
       " ..\\OntoGeoLogicaInstanciasRelacoes.object_aggregate,\n",
       " ..\\OntoGeoLogicaInstanciasRelacoes.temporal_region,\n",
       " ..\\OntoGeoLogicaInstanciasRelacoes.textura]"
      ]
     },
     "execution_count": 9,
     "metadata": {},
     "output_type": "execute_result"
    }
   ],
   "source": [
    "list(onto.classes())"
   ]
  }
 ],
 "metadata": {
  "kernelspec": {
   "display_name": "Python 3 (ipykernel)",
   "language": "python",
   "name": "python3"
  },
  "language_info": {
   "codemirror_mode": {
    "name": "ipython",
    "version": 3
   },
   "file_extension": ".py",
   "mimetype": "text/x-python",
   "name": "python",
   "nbconvert_exporter": "python",
   "pygments_lexer": "ipython3",
   "version": "3.7.16"
  }
 },
 "nbformat": 4,
 "nbformat_minor": 5
}
