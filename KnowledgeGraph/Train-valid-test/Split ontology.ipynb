{
 "cells": [
  {
   "cell_type": "code",
   "execution_count": 2,
   "id": "027557ba-24ae-4228-b5c5-703bf04e7c63",
   "metadata": {},
   "outputs": [],
   "source": [
    "from owlready2 import *\n",
    "import types"
   ]
  },
  {
   "cell_type": "markdown",
   "id": "56bf8e54-fb3f-4a6b-9342-656e54667e70",
   "metadata": {},
   "source": [
    "Carregando ontologias"
   ]
  },
  {
   "cell_type": "code",
   "execution_count": 3,
   "id": "f01f12c5-6f23-458e-9812-79985171a519",
   "metadata": {},
   "outputs": [
    {
     "data": {
      "text/plain": [
       "get_ontology(\"http://www.semanticweb.org/bg40/ontologies/2022/5/untitled-ontology-2#\")"
      ]
     },
     "execution_count": 3,
     "metadata": {},
     "output_type": "execute_result"
    }
   ],
   "source": [
    "#OntoGeoLógica populada (OntoGeoLogicaPovoadaInstanciasRelacoes.owl)\n",
    "#onto_pop = get_ontology(\"..\\OntoGeoLogicaInstanciasRelacoes.owl\")\n",
    "#onto_pop.load()\n",
    "onto = get_ontology(\"..\\OntoGeoLogicaEntidadesNomeadas.owl\")\n",
    "onto.load()"
   ]
  },
  {
   "cell_type": "code",
   "execution_count": null,
   "id": "e19188ea-9411-4a17-8188-2755947fdb75",
   "metadata": {},
   "outputs": [],
   "source": []
  },
  {
   "cell_type": "markdown",
   "id": "61210ed6-6629-46ff-8859-9e121c5a0021",
   "metadata": {},
   "source": [
    "Testando o povoamento da ontologia"
   ]
  },
  {
   "cell_type": "code",
   "execution_count": 4,
   "id": "8b354ff5-d882-4fff-a87b-21cfdb88fe14",
   "metadata": {},
   "outputs": [],
   "source": [
    "classes_train = ['#ash','#block_tephra','#clastic_sediment']"
   ]
  },
  {
   "cell_type": "code",
   "execution_count": 5,
   "id": "6387489f-ff7f-4788-8848-3f0005c1f81c",
   "metadata": {},
   "outputs": [],
   "source": [
    "onto_train = onto\n"
   ]
  },
  {
   "cell_type": "code",
   "execution_count": 6,
   "id": "40975d7b-908e-48ce-8c21-770f5f429b04",
   "metadata": {},
   "outputs": [
    {
     "data": {
      "text/plain": [
       "[]"
      ]
     },
     "execution_count": 6,
     "metadata": {},
     "output_type": "execute_result"
    }
   ],
   "source": [
    "list(onto_train.unconsolidated_earth_material.subclasses())"
   ]
  },
  {
   "cell_type": "code",
   "execution_count": 7,
   "id": "cad6c80b-11b7-4485-9600-5a28d18a7318",
   "metadata": {},
   "outputs": [
    {
     "data": {
      "text/plain": [
       "[..\\OntoGeoLogicaEntidadesNomeadas.anthropogenic_fluid,\n",
       " ..\\OntoGeoLogicaEntidadesNomeadas.anthropogenic_material,\n",
       " ..\\OntoGeoLogicaEntidadesNomeadas.basin,\n",
       " ..\\OntoGeoLogicaEntidadesNomeadas.continuant,\n",
       " ..\\OntoGeoLogicaEntidadesNomeadas.earth_fluid,\n",
       " ..\\OntoGeoLogicaEntidadesNomeadas.earth_material,\n",
       " ..\\OntoGeoLogicaEntidadesNomeadas.entity,\n",
       " ..\\OntoGeoLogicaEntidadesNomeadas.field,\n",
       " ..\\OntoGeoLogicaEntidadesNomeadas.generically_dependent_continuant,\n",
       " ..\\OntoGeoLogicaEntidadesNomeadas.geological_age,\n",
       " ..\\OntoGeoLogicaEntidadesNomeadas.geological_object,\n",
       " ..\\OntoGeoLogicaEntidadesNomeadas.geological_process,\n",
       " ..\\OntoGeoLogicaEntidadesNomeadas.geological_structure,\n",
       " ..\\OntoGeoLogicaEntidadesNomeadas.geological_time_interval,\n",
       " ..\\OntoGeoLogicaEntidadesNomeadas.immaterial_entity,\n",
       " ..\\OntoGeoLogicaEntidadesNomeadas.independent_continuant,\n",
       " ..\\OntoGeoLogicaEntidadesNomeadas.lithostratigraphic_unit,\n",
       " ..\\OntoGeoLogicaEntidadesNomeadas.material_entity,\n",
       " ..\\OntoGeoLogicaEntidadesNomeadas.object,\n",
       " ..\\OntoGeoLogicaEntidadesNomeadas.object_aggregate,\n",
       " ..\\OntoGeoLogicaEntidadesNomeadas.occurrent,\n",
       " ..\\OntoGeoLogicaEntidadesNomeadas.one-dimensional_temporal_region,\n",
       " ..\\OntoGeoLogicaEntidadesNomeadas.process,\n",
       " ..\\OntoGeoLogicaEntidadesNomeadas.quality,\n",
       " ..\\OntoGeoLogicaEntidadesNomeadas.rock,\n",
       " ..\\OntoGeoLogicaEntidadesNomeadas.site,\n",
       " ..\\OntoGeoLogicaEntidadesNomeadas.specifically_dependent_continuant,\n",
       " ..\\OntoGeoLogicaEntidadesNomeadas.temporal_region,\n",
       " ..\\OntoGeoLogicaEntidadesNomeadas.textura,\n",
       " ..\\OntoGeoLogicaEntidadesNomeadas.unconsolidated_earth_material,\n",
       " ..\\OntoGeoLogicaEntidadesNomeadas.well,\n",
       " ..\\OntoGeoLogicaEntidadesNomeadas.o&g_earth_fluid]"
      ]
     },
     "execution_count": 7,
     "metadata": {},
     "output_type": "execute_result"
    }
   ],
   "source": [
    "list(onto_train.classes())"
   ]
  },
  {
   "cell_type": "code",
   "execution_count": 8,
   "id": "16a5039a-1261-4a6d-a18a-9fdb22a09500",
   "metadata": {},
   "outputs": [],
   "source": [
    "with onto_train:\n",
    "    NewClass = types.new_class(classes_train[0][1:], (onto_train.unconsolidated_earth_material,))\n",
    "\n",
    "#class classes_train[0].name(onto_train.unconsolidated_earth_material):\n",
    "#    pass\n"
   ]
  },
  {
   "cell_type": "code",
   "execution_count": 9,
   "id": "ff1c059b-54ca-415e-881e-720da212d500",
   "metadata": {},
   "outputs": [
    {
     "data": {
      "text/plain": [
       "{..\\OntoGeoLogicaEntidadesNomeadas.ash,\n",
       " ..\\OntoGeoLogicaEntidadesNomeadas.continuant,\n",
       " ..\\OntoGeoLogicaEntidadesNomeadas.earth_material,\n",
       " ..\\OntoGeoLogicaEntidadesNomeadas.entity,\n",
       " ..\\OntoGeoLogicaEntidadesNomeadas.independent_continuant,\n",
       " ..\\OntoGeoLogicaEntidadesNomeadas.material_entity,\n",
       " ..\\OntoGeoLogicaEntidadesNomeadas.unconsolidated_earth_material,\n",
       " owl.Thing}"
      ]
     },
     "execution_count": 9,
     "metadata": {},
     "output_type": "execute_result"
    }
   ],
   "source": [
    "NewClass.ancestors()"
   ]
  },
  {
   "cell_type": "code",
   "execution_count": 10,
   "id": "a8fffd6a-6427-4aef-9af0-7c8e2143eef8",
   "metadata": {},
   "outputs": [
    {
     "data": {
      "text/plain": [
       "[..\\OntoGeoLogicaEntidadesNomeadas.ash]"
      ]
     },
     "execution_count": 10,
     "metadata": {},
     "output_type": "execute_result"
    }
   ],
   "source": [
    "list(onto_train.unconsolidated_earth_material.subclasses())"
   ]
  },
  {
   "cell_type": "code",
   "execution_count": 11,
   "id": "88545843-30c1-432d-9034-e14f991a010c",
   "metadata": {},
   "outputs": [
    {
     "data": {
      "text/plain": [
       "[..\\OntoGeoLogicaEntidadesNomeadas.anthropogenic_fluid,\n",
       " ..\\OntoGeoLogicaEntidadesNomeadas.anthropogenic_material,\n",
       " ..\\OntoGeoLogicaEntidadesNomeadas.basin,\n",
       " ..\\OntoGeoLogicaEntidadesNomeadas.continuant,\n",
       " ..\\OntoGeoLogicaEntidadesNomeadas.earth_fluid,\n",
       " ..\\OntoGeoLogicaEntidadesNomeadas.earth_material,\n",
       " ..\\OntoGeoLogicaEntidadesNomeadas.entity,\n",
       " ..\\OntoGeoLogicaEntidadesNomeadas.field,\n",
       " ..\\OntoGeoLogicaEntidadesNomeadas.generically_dependent_continuant,\n",
       " ..\\OntoGeoLogicaEntidadesNomeadas.geological_age,\n",
       " ..\\OntoGeoLogicaEntidadesNomeadas.geological_object,\n",
       " ..\\OntoGeoLogicaEntidadesNomeadas.geological_process,\n",
       " ..\\OntoGeoLogicaEntidadesNomeadas.geological_structure,\n",
       " ..\\OntoGeoLogicaEntidadesNomeadas.geological_time_interval,\n",
       " ..\\OntoGeoLogicaEntidadesNomeadas.immaterial_entity,\n",
       " ..\\OntoGeoLogicaEntidadesNomeadas.independent_continuant,\n",
       " ..\\OntoGeoLogicaEntidadesNomeadas.lithostratigraphic_unit,\n",
       " ..\\OntoGeoLogicaEntidadesNomeadas.material_entity,\n",
       " ..\\OntoGeoLogicaEntidadesNomeadas.object,\n",
       " ..\\OntoGeoLogicaEntidadesNomeadas.object_aggregate,\n",
       " ..\\OntoGeoLogicaEntidadesNomeadas.occurrent,\n",
       " ..\\OntoGeoLogicaEntidadesNomeadas.one-dimensional_temporal_region,\n",
       " ..\\OntoGeoLogicaEntidadesNomeadas.process,\n",
       " ..\\OntoGeoLogicaEntidadesNomeadas.quality,\n",
       " ..\\OntoGeoLogicaEntidadesNomeadas.rock,\n",
       " ..\\OntoGeoLogicaEntidadesNomeadas.site,\n",
       " ..\\OntoGeoLogicaEntidadesNomeadas.specifically_dependent_continuant,\n",
       " ..\\OntoGeoLogicaEntidadesNomeadas.temporal_region,\n",
       " ..\\OntoGeoLogicaEntidadesNomeadas.textura,\n",
       " ..\\OntoGeoLogicaEntidadesNomeadas.unconsolidated_earth_material,\n",
       " ..\\OntoGeoLogicaEntidadesNomeadas.well,\n",
       " ..\\OntoGeoLogicaEntidadesNomeadas.o&g_earth_fluid,\n",
       " ..\\OntoGeoLogicaEntidadesNomeadas.ash]"
      ]
     },
     "execution_count": 11,
     "metadata": {},
     "output_type": "execute_result"
    }
   ],
   "source": [
    "list(onto_train.classes())"
   ]
  },
  {
   "cell_type": "code",
   "execution_count": null,
   "id": "eca7ad71-d3f9-4c48-9959-22d4b563c7f2",
   "metadata": {},
   "outputs": [],
   "source": []
  },
  {
   "cell_type": "code",
   "execution_count": null,
   "id": "775e7d34-bdc3-4745-843f-afe29e6b8615",
   "metadata": {},
   "outputs": [],
   "source": []
  },
  {
   "cell_type": "code",
   "execution_count": 4,
   "id": "050db7a2-d922-4e17-a9c9-cd1d405e8ab7",
   "metadata": {},
   "outputs": [
    {
     "data": {
      "text/plain": [
       "..\\OntoGeoLogicaInstanciasRelacoes.rock"
      ]
     },
     "execution_count": 4,
     "metadata": {},
     "output_type": "execute_result"
    }
   ],
   "source": [
    "onto.rock"
   ]
  },
  {
   "cell_type": "markdown",
   "id": "b2b62123-d523-4fbe-b3d0-e53564102e8e",
   "metadata": {},
   "source": [
    "Apagando as subclasses de \"rock\" e \"unconsolidated_earth_material\""
   ]
  },
  {
   "cell_type": "code",
   "execution_count": 11,
   "id": "306981ea-1c81-47a9-992c-587d1b31a8ed",
   "metadata": {},
   "outputs": [],
   "source": [
    "rock_list = onto.search(subclass_of = onto.rock)\n",
    "\n",
    "#Apagando todas as subclasses de rock \n",
    "# (a posição 0 na lista é o proprio nó \"rock\", por isso ele foi mantido)\n",
    "for n in range(1,len(rock_list)):\n",
    "    destroy_entity(rock_list[n])\n",
    "               "
   ]
  },
  {
   "cell_type": "code",
   "execution_count": 15,
   "id": "6a1e9aa8-0c43-4f84-b8f1-f137e83d1451",
   "metadata": {},
   "outputs": [],
   "source": [
    "unconsolidated_list = onto.search(subclass_of = onto.unconsolidated_earth_material)\n",
    "\n",
    "#Apagando todas as subclasses de unconsolidated_earth_material\n",
    "# (a posição 0 na lista é o proprio nó \"unconsolidated_earth_material\", por isso ele foi mantido)\n",
    "for n in range(1,len(unconsolidated_list)):\n",
    "    destroy_entity(unconsolidated_list[n])"
   ]
  },
  {
   "cell_type": "code",
   "execution_count": 9,
   "id": "111f107f-e334-4651-9a1e-94eb731ec5bd",
   "metadata": {},
   "outputs": [
    {
     "data": {
      "text/plain": [
       "[..\\OntoGeoLogicaInstanciasRelacoes.independent_continuant,\n",
       " ..\\OntoGeoLogicaInstanciasRelacoes.generically_dependent_continuant,\n",
       " ..\\OntoGeoLogicaInstanciasRelacoes.specifically_dependent_continuant,\n",
       " ..\\OntoGeoLogicaInstanciasRelacoes.well,\n",
       " ..\\OntoGeoLogicaInstanciasRelacoes.geological_object,\n",
       " ..\\OntoGeoLogicaInstanciasRelacoes.occurrent,\n",
       " ..\\OntoGeoLogicaInstanciasRelacoes.continuant,\n",
       " ..\\OntoGeoLogicaInstanciasRelacoes.quality,\n",
       " ..\\OntoGeoLogicaInstanciasRelacoes.one-dimensional_temporal_region,\n",
       " ..\\OntoGeoLogicaInstanciasRelacoes.geological_age,\n",
       " ..\\OntoGeoLogicaInstanciasRelacoes.rock,\n",
       " ..\\OntoGeoLogicaInstanciasRelacoes.anthropogenic_fluid,\n",
       " ..\\OntoGeoLogicaInstanciasRelacoes.anthropogenic_material,\n",
       " ..\\OntoGeoLogicaInstanciasRelacoes.material_entity,\n",
       " ..\\OntoGeoLogicaInstanciasRelacoes.earth_material,\n",
       " ..\\OntoGeoLogicaInstanciasRelacoes.unconsolidated_earth_material,\n",
       " ..\\OntoGeoLogicaInstanciasRelacoes.basin,\n",
       " ..\\OntoGeoLogicaInstanciasRelacoes.site,\n",
       " ..\\OntoGeoLogicaInstanciasRelacoes.field,\n",
       " ..\\OntoGeoLogicaInstanciasRelacoes.o&g_earth_fluid,\n",
       " ..\\OntoGeoLogicaInstanciasRelacoes.entity,\n",
       " ..\\OntoGeoLogicaInstanciasRelacoes.earth_fluid,\n",
       " ..\\OntoGeoLogicaInstanciasRelacoes.geological_time_interval,\n",
       " ..\\OntoGeoLogicaInstanciasRelacoes.geological_process,\n",
       " ..\\OntoGeoLogicaInstanciasRelacoes.object,\n",
       " ..\\OntoGeoLogicaInstanciasRelacoes.geological_structure,\n",
       " ..\\OntoGeoLogicaInstanciasRelacoes.process,\n",
       " ..\\OntoGeoLogicaInstanciasRelacoes.immaterial_entity,\n",
       " ..\\OntoGeoLogicaInstanciasRelacoes.lithostratigraphic_unit,\n",
       " ..\\OntoGeoLogicaInstanciasRelacoes.object_aggregate,\n",
       " ..\\OntoGeoLogicaInstanciasRelacoes.temporal_region,\n",
       " ..\\OntoGeoLogicaInstanciasRelacoes.textura]"
      ]
     },
     "execution_count": 9,
     "metadata": {},
     "output_type": "execute_result"
    }
   ],
   "source": [
    "list(onto.classes())"
   ]
  }
 ],
 "metadata": {
  "kernelspec": {
   "display_name": "Python 3 (ipykernel)",
   "language": "python",
   "name": "python3"
  },
  "language_info": {
   "codemirror_mode": {
    "name": "ipython",
    "version": 3
   },
   "file_extension": ".py",
   "mimetype": "text/x-python",
   "name": "python",
   "nbconvert_exporter": "python",
   "pygments_lexer": "ipython3",
   "version": "3.7.16"
  }
 },
 "nbformat": 4,
 "nbformat_minor": 5
}
