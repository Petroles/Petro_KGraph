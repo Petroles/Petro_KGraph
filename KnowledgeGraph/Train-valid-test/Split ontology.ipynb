{
 "cells": [
  {
   "cell_type": "code",
   "execution_count": 2,
   "id": "027557ba-24ae-4228-b5c5-703bf04e7c63",
   "metadata": {},
   "outputs": [],
   "source": [
    "from owlready2 import *\n",
    "#import types\n",
    "from conllu import parse_incr, parse\n",
    "import numpy as np"
   ]
  },
  {
   "cell_type": "markdown",
   "id": "56bf8e54-fb3f-4a6b-9342-656e54667e70",
   "metadata": {},
   "source": [
    "Carregando ontologias"
   ]
  },
  {
   "cell_type": "code",
   "execution_count": 3,
   "id": "f01f12c5-6f23-458e-9812-79985171a519",
   "metadata": {},
   "outputs": [
    {
     "data": {
      "text/plain": [
       "get_ontology(\"http://www.semanticweb.org/bg40/ontologies/2022/5/untitled-ontology-2#\")"
      ]
     },
     "execution_count": 3,
     "metadata": {},
     "output_type": "execute_result"
    }
   ],
   "source": [
    "#OntoGeoLógica populada (OntoGeoLogicaPovoadaInstanciasRelacoes.owl)\n",
    "#onto_pop = get_ontology(\"..\\OntoGeoLogicaInstanciasRelacoes.owl\")\n",
    "#onto_pop.load()\n",
    "onto = get_ontology(\"../OntoGeoLogicaEntidadesNomeadas.owl\")\n",
    "onto.load()"
   ]
  },
  {
   "cell_type": "markdown",
   "id": "501a5dd7-bbf2-4ca2-83df-0c9d030fb9e6",
   "metadata": {},
   "source": [
    "Carregando Listas de entidedes"
   ]
  },
  {
   "cell_type": "code",
   "execution_count": 11,
   "id": "4462225f-16ef-4756-a3c6-fa1bda5e20da",
   "metadata": {},
   "outputs": [],
   "source": [
    "#Completo\n",
    "#text_treino = np.load('../../Corpora/PetroNER-LinkedEntity/PetroNER - sentences.npy')\n",
    "entities_PetroNER = np.load('../../Corpora/PetroNER-LinkedEntity/PetroNER - entities.npy')\n",
    "classes_PetroNER = np.load('../../Corpora/PetroNER-LinkedEntity/PetroNER - classes.npy')\n",
    "URI_PetroNER = np.load('../../Corpora/PetroNER-LinkedEntity/PetroNER - URI.npy', allow_pickle=True)\n",
    "\n",
    "#Treino\n",
    "#text_treino = np.load('../../Corpora/PetroNER-LinkedEntity/treino - sentences.npy')\n",
    "entities_treino = np.load('../../Corpora/PetroNER-LinkedEntity/treino - entities.npy')\n",
    "classes_treino = np.load('../../Corpora/PetroNER-LinkedEntity/treino - classes.npy')\n",
    "URI_treino = np.load('../../Corpora/PetroNER-LinkedEntity/treino - URI.npy', allow_pickle=True)\n",
    "\n",
    "#Valid\n",
    "#text_valid = np.load('../../Corpora/PetroNER-LinkedEntity/valid - sentences.npy')\n",
    "entities_valid = np.load('../../Corpora/PetroNER-LinkedEntity/valid - entities.npy')\n",
    "classes_valid = np.load('../../Corpora/PetroNER-LinkedEntity/valid - classes.npy')\n",
    "URI_valid = np.load('../../Corpora/PetroNER-LinkedEntity/valid - URI.npy', allow_pickle=True)\n",
    "\n",
    "#Teste\n",
    "#text_teste = np.load('../../Corpora/PetroNER-LinkedEntity/teste - sentences.npy')\n",
    "entities_teste = np.load('../../Corpora/PetroNER-LinkedEntity/teste - entities.npy')\n",
    "classes_teste = np.load('../../Corpora/PetroNER-LinkedEntity/teste - classes.npy')\n",
    "URI_teste = np.load('../../Corpora/PetroNER-LinkedEntity/teste - URI.npy', allow_pickle=True)"
   ]
  },
  {
   "cell_type": "markdown",
   "id": "633020aa-b03e-44f3-9076-28b7fb895189",
   "metadata": {},
   "source": [
    "### Verificando se tem URI com duas classes diferentes"
   ]
  },
  {
   "cell_type": "code",
   "execution_count": 12,
   "id": "e2cea465-f3a4-4826-90ce-8848c541f99d",
   "metadata": {},
   "outputs": [
    {
     "name": "stdout",
     "output_type": "stream",
     "text": [
      "#Dom_Joao_Age\n",
      "#TEFR_CD_TIPO_EST_FISICA_ROCHA_059\n",
      "#earth_fluid\n",
      "#fluid_composition\n",
      "#fluid_origin\n",
      "#water\n",
      "#water\n"
     ]
    }
   ],
   "source": [
    "#Coletando tuplas com clases e URIs\n",
    "entity_tupla = []\n",
    "\n",
    "for n in range(len(URI_PetroNER)):\n",
    "    entity_tupla.append((URI_PetroNER[n],classes_PetroNER[n]))\n",
    "\n",
    "#Set de tuplas\n",
    "set_tupla = set(entity_tupla)\n",
    "\n",
    "# Excluido as URIs None\n",
    "ent = []\n",
    "for tup in set_tupla:\n",
    "    #print(tup[0])\n",
    "    if tup[0] != None:\n",
    "        ent.append(tup[0])\n",
    "        \n",
    "#Ordenando as URIs e imprimindo quando tem uma URI repetida\n",
    "ent.sort()\n",
    "ant = ''\n",
    "for i in ent:\n",
    "    if i == ant:\n",
    "        print(i)\n",
    "    ant = i"
   ]
  },
  {
   "cell_type": "markdown",
   "id": "61210ed6-6629-46ff-8859-9e121c5a0021",
   "metadata": {},
   "source": [
    "### Testando o povoamento da ontologia"
   ]
  },
  {
   "cell_type": "code",
   "execution_count": 5,
   "id": "8b354ff5-d882-4fff-a87b-21cfdb88fe14",
   "metadata": {},
   "outputs": [],
   "source": [
    "classes_train = ['#ash','#block_tephra','#clastic_sediment']"
   ]
  },
  {
   "cell_type": "code",
   "execution_count": 6,
   "id": "6387489f-ff7f-4788-8848-3f0005c1f81c",
   "metadata": {},
   "outputs": [],
   "source": [
    "onto_train = onto\n"
   ]
  },
  {
   "cell_type": "code",
   "execution_count": 7,
   "id": "40975d7b-908e-48ce-8c21-770f5f429b04",
   "metadata": {},
   "outputs": [
    {
     "data": {
      "text/plain": [
       "[]"
      ]
     },
     "execution_count": 7,
     "metadata": {},
     "output_type": "execute_result"
    }
   ],
   "source": [
    "list(onto_train.unconsolidated_earth_material.subclasses())"
   ]
  },
  {
   "cell_type": "code",
   "execution_count": 8,
   "id": "cad6c80b-11b7-4485-9600-5a28d18a7318",
   "metadata": {},
   "outputs": [
    {
     "data": {
      "text/plain": [
       "[..\\OntoGeoLogicaEntidadesNomeadas.anthropogenic_fluid,\n",
       " ..\\OntoGeoLogicaEntidadesNomeadas.anthropogenic_material,\n",
       " ..\\OntoGeoLogicaEntidadesNomeadas.basin,\n",
       " ..\\OntoGeoLogicaEntidadesNomeadas.continuant,\n",
       " ..\\OntoGeoLogicaEntidadesNomeadas.earth_fluid,\n",
       " ..\\OntoGeoLogicaEntidadesNomeadas.earth_material,\n",
       " ..\\OntoGeoLogicaEntidadesNomeadas.entity,\n",
       " ..\\OntoGeoLogicaEntidadesNomeadas.field,\n",
       " ..\\OntoGeoLogicaEntidadesNomeadas.generically_dependent_continuant,\n",
       " ..\\OntoGeoLogicaEntidadesNomeadas.geological_age,\n",
       " ..\\OntoGeoLogicaEntidadesNomeadas.geological_object,\n",
       " ..\\OntoGeoLogicaEntidadesNomeadas.geological_process,\n",
       " ..\\OntoGeoLogicaEntidadesNomeadas.geological_structure,\n",
       " ..\\OntoGeoLogicaEntidadesNomeadas.geological_time_interval,\n",
       " ..\\OntoGeoLogicaEntidadesNomeadas.immaterial_entity,\n",
       " ..\\OntoGeoLogicaEntidadesNomeadas.independent_continuant,\n",
       " ..\\OntoGeoLogicaEntidadesNomeadas.lithostratigraphic_unit,\n",
       " ..\\OntoGeoLogicaEntidadesNomeadas.material_entity,\n",
       " ..\\OntoGeoLogicaEntidadesNomeadas.object,\n",
       " ..\\OntoGeoLogicaEntidadesNomeadas.object_aggregate,\n",
       " ..\\OntoGeoLogicaEntidadesNomeadas.occurrent,\n",
       " ..\\OntoGeoLogicaEntidadesNomeadas.one-dimensional_temporal_region,\n",
       " ..\\OntoGeoLogicaEntidadesNomeadas.process,\n",
       " ..\\OntoGeoLogicaEntidadesNomeadas.quality,\n",
       " ..\\OntoGeoLogicaEntidadesNomeadas.rock,\n",
       " ..\\OntoGeoLogicaEntidadesNomeadas.site,\n",
       " ..\\OntoGeoLogicaEntidadesNomeadas.specifically_dependent_continuant,\n",
       " ..\\OntoGeoLogicaEntidadesNomeadas.temporal_region,\n",
       " ..\\OntoGeoLogicaEntidadesNomeadas.textura,\n",
       " ..\\OntoGeoLogicaEntidadesNomeadas.unconsolidated_earth_material,\n",
       " ..\\OntoGeoLogicaEntidadesNomeadas.well,\n",
       " ..\\OntoGeoLogicaEntidadesNomeadas.o&g_earth_fluid]"
      ]
     },
     "execution_count": 8,
     "metadata": {},
     "output_type": "execute_result"
    }
   ],
   "source": [
    "list(onto_train.classes())"
   ]
  },
  {
   "cell_type": "markdown",
   "id": "88890087-8adc-4d10-b42c-46c78259a86b",
   "metadata": {},
   "source": [
    "### Povoando novas entidades (subclasses )"
   ]
  },
  {
   "cell_type": "code",
   "execution_count": 9,
   "id": "16a5039a-1261-4a6d-a18a-9fdb22a09500",
   "metadata": {},
   "outputs": [],
   "source": [
    "for new_class in classes_train:\n",
    "    with onto_train:\n",
    "        types.new_class(new_class[1:], (onto_train.unconsolidated_earth_material,))\n",
    "\n",
    "#class classes_train[0].name(onto_train.unconsolidated_earth_material):\n",
    "#    pass\n"
   ]
  },
  {
   "cell_type": "code",
   "execution_count": 10,
   "id": "ff1c059b-54ca-415e-881e-720da212d500",
   "metadata": {},
   "outputs": [],
   "source": [
    "#NewClass.ancestors()"
   ]
  },
  {
   "cell_type": "code",
   "execution_count": 11,
   "id": "a8fffd6a-6427-4aef-9af0-7c8e2143eef8",
   "metadata": {},
   "outputs": [
    {
     "data": {
      "text/plain": [
       "[..\\OntoGeoLogicaEntidadesNomeadas.ash,\n",
       " ..\\OntoGeoLogicaEntidadesNomeadas.block_tephra,\n",
       " ..\\OntoGeoLogicaEntidadesNomeadas.clastic_sediment]"
      ]
     },
     "execution_count": 11,
     "metadata": {},
     "output_type": "execute_result"
    }
   ],
   "source": [
    "list(onto_train.unconsolidated_earth_material.subclasses())"
   ]
  },
  {
   "cell_type": "code",
   "execution_count": 12,
   "id": "88545843-30c1-432d-9034-e14f991a010c",
   "metadata": {},
   "outputs": [
    {
     "data": {
      "text/plain": [
       "[..\\OntoGeoLogicaEntidadesNomeadas.anthropogenic_fluid,\n",
       " ..\\OntoGeoLogicaEntidadesNomeadas.anthropogenic_material,\n",
       " ..\\OntoGeoLogicaEntidadesNomeadas.basin,\n",
       " ..\\OntoGeoLogicaEntidadesNomeadas.continuant,\n",
       " ..\\OntoGeoLogicaEntidadesNomeadas.earth_fluid,\n",
       " ..\\OntoGeoLogicaEntidadesNomeadas.earth_material,\n",
       " ..\\OntoGeoLogicaEntidadesNomeadas.entity,\n",
       " ..\\OntoGeoLogicaEntidadesNomeadas.field,\n",
       " ..\\OntoGeoLogicaEntidadesNomeadas.generically_dependent_continuant,\n",
       " ..\\OntoGeoLogicaEntidadesNomeadas.geological_age,\n",
       " ..\\OntoGeoLogicaEntidadesNomeadas.geological_object,\n",
       " ..\\OntoGeoLogicaEntidadesNomeadas.geological_process,\n",
       " ..\\OntoGeoLogicaEntidadesNomeadas.geological_structure,\n",
       " ..\\OntoGeoLogicaEntidadesNomeadas.geological_time_interval,\n",
       " ..\\OntoGeoLogicaEntidadesNomeadas.immaterial_entity,\n",
       " ..\\OntoGeoLogicaEntidadesNomeadas.independent_continuant,\n",
       " ..\\OntoGeoLogicaEntidadesNomeadas.lithostratigraphic_unit,\n",
       " ..\\OntoGeoLogicaEntidadesNomeadas.material_entity,\n",
       " ..\\OntoGeoLogicaEntidadesNomeadas.object,\n",
       " ..\\OntoGeoLogicaEntidadesNomeadas.object_aggregate,\n",
       " ..\\OntoGeoLogicaEntidadesNomeadas.occurrent,\n",
       " ..\\OntoGeoLogicaEntidadesNomeadas.one-dimensional_temporal_region,\n",
       " ..\\OntoGeoLogicaEntidadesNomeadas.process,\n",
       " ..\\OntoGeoLogicaEntidadesNomeadas.quality,\n",
       " ..\\OntoGeoLogicaEntidadesNomeadas.rock,\n",
       " ..\\OntoGeoLogicaEntidadesNomeadas.site,\n",
       " ..\\OntoGeoLogicaEntidadesNomeadas.specifically_dependent_continuant,\n",
       " ..\\OntoGeoLogicaEntidadesNomeadas.temporal_region,\n",
       " ..\\OntoGeoLogicaEntidadesNomeadas.textura,\n",
       " ..\\OntoGeoLogicaEntidadesNomeadas.unconsolidated_earth_material,\n",
       " ..\\OntoGeoLogicaEntidadesNomeadas.well,\n",
       " ..\\OntoGeoLogicaEntidadesNomeadas.o&g_earth_fluid,\n",
       " ..\\OntoGeoLogicaEntidadesNomeadas.ash,\n",
       " ..\\OntoGeoLogicaEntidadesNomeadas.block_tephra,\n",
       " ..\\OntoGeoLogicaEntidadesNomeadas.clastic_sediment]"
      ]
     },
     "execution_count": 12,
     "metadata": {},
     "output_type": "execute_result"
    }
   ],
   "source": [
    "list(onto_train.classes())"
   ]
  },
  {
   "cell_type": "markdown",
   "id": "3423c629-43f8-4a9c-bdc0-3dd6763a3b4b",
   "metadata": {},
   "source": [
    "### Povoando novas entidades (instâncias)"
   ]
  },
  {
   "cell_type": "code",
   "execution_count": 13,
   "id": "5a5f8348-2bd4-46d4-bae6-7b9e513d42e1",
   "metadata": {},
   "outputs": [],
   "source": [
    "inst_field = ['#marlim','#albacora','#mero']\n",
    "inst_basin = ['#campos','#santos']"
   ]
  },
  {
   "cell_type": "code",
   "execution_count": 14,
   "id": "f163fd2a-29f5-4aec-8f7d-4f12b5cb0c01",
   "metadata": {},
   "outputs": [],
   "source": [
    "for field in inst_field:\n",
    "    onto.field(field[1:])\n",
    "    \n",
    "for basin in inst_basin:\n",
    "    onto.basin(basin[1:])"
   ]
  },
  {
   "cell_type": "code",
   "execution_count": 15,
   "id": "cf6107ba-9275-4022-903b-71833eb1f374",
   "metadata": {},
   "outputs": [
    {
     "data": {
      "text/plain": [
       "[..\\OntoGeoLogicaEntidadesNomeadas.marlim,\n",
       " ..\\OntoGeoLogicaEntidadesNomeadas.albacora,\n",
       " ..\\OntoGeoLogicaEntidadesNomeadas.mero,\n",
       " ..\\OntoGeoLogicaEntidadesNomeadas.campos,\n",
       " ..\\OntoGeoLogicaEntidadesNomeadas.santos]"
      ]
     },
     "execution_count": 15,
     "metadata": {},
     "output_type": "execute_result"
    }
   ],
   "source": [
    "list(onto.individuals())"
   ]
  },
  {
   "cell_type": "code",
   "execution_count": 16,
   "id": "f05a9af8-3f81-4427-b3e3-0725d9529ad6",
   "metadata": {},
   "outputs": [
    {
     "data": {
      "text/plain": [
       "[..\\OntoGeoLogicaEntidadesNomeadas.marlim, ..\\OntoGeoLogicaEntidadesNomeadas.albacora, ..\\OntoGeoLogicaEntidadesNomeadas.mero]"
      ]
     },
     "execution_count": 16,
     "metadata": {},
     "output_type": "execute_result"
    }
   ],
   "source": [
    "onto.search(type = onto.field)"
   ]
  },
  {
   "cell_type": "code",
   "execution_count": 17,
   "id": "6f849947-c642-48fc-90ce-8fc202ee2332",
   "metadata": {},
   "outputs": [
    {
     "data": {
      "text/plain": [
       "[..\\OntoGeoLogicaEntidadesNomeadas.campos, ..\\OntoGeoLogicaEntidadesNomeadas.santos]"
      ]
     },
     "execution_count": 17,
     "metadata": {},
     "output_type": "execute_result"
    }
   ],
   "source": [
    "onto.search(type = onto.basin)"
   ]
  },
  {
   "cell_type": "markdown",
   "id": "6303b66a-30e4-44d2-8603-8c6544272e0e",
   "metadata": {},
   "source": [
    "### Testando povoamento de novas relações"
   ]
  },
  {
   "cell_type": "code",
   "execution_count": 18,
   "id": "775e7d34-bdc3-4745-843f-afe29e6b8615",
   "metadata": {},
   "outputs": [
    {
     "data": {
      "text/plain": [
       "[..\\OntoGeoLogicaEntidadesNomeadas.age_of,\n",
       " ..\\OntoGeoLogicaEntidadesNomeadas.carrier_of,\n",
       " ..\\OntoGeoLogicaEntidadesNomeadas.characteristic_of,\n",
       " ..\\OntoGeoLogicaEntidadesNomeadas.concretizes,\n",
       " ..\\OntoGeoLogicaEntidadesNomeadas.constituted_by,\n",
       " ..\\OntoGeoLogicaEntidadesNomeadas.crossed_by,\n",
       " ..\\OntoGeoLogicaEntidadesNomeadas.crosses,\n",
       " ..\\OntoGeoLogicaEntidadesNomeadas.disposition_of,\n",
       " ..\\OntoGeoLogicaEntidadesNomeadas.function_of,\n",
       " ..\\OntoGeoLogicaEntidadesNomeadas.generated_by,\n",
       " ..\\OntoGeoLogicaEntidadesNomeadas.generically_depends_on,\n",
       " ..\\OntoGeoLogicaEntidadesNomeadas.has_age,\n",
       " ..\\OntoGeoLogicaEntidadesNomeadas.has_characteristic,\n",
       " ..\\OntoGeoLogicaEntidadesNomeadas.has_disposition,\n",
       " ..\\OntoGeoLogicaEntidadesNomeadas.has_function,\n",
       " ..\\OntoGeoLogicaEntidadesNomeadas.has_member,\n",
       " ..\\OntoGeoLogicaEntidadesNomeadas.has_part,\n",
       " ..\\OntoGeoLogicaEntidadesNomeadas.has_participant,\n",
       " ..\\OntoGeoLogicaEntidadesNomeadas.has_quality,\n",
       " ..\\OntoGeoLogicaEntidadesNomeadas.has_role,\n",
       " ..\\OntoGeoLogicaEntidadesNomeadas.has_temporal_relation,\n",
       " ..\\OntoGeoLogicaEntidadesNomeadas.interval_after,\n",
       " ..\\OntoGeoLogicaEntidadesNomeadas.interval_before,\n",
       " ..\\OntoGeoLogicaEntidadesNomeadas.interval_contains,\n",
       " ..\\OntoGeoLogicaEntidadesNomeadas.interval_disjoint,\n",
       " ..\\OntoGeoLogicaEntidadesNomeadas.interval_during,\n",
       " ..\\OntoGeoLogicaEntidadesNomeadas.interval_equals,\n",
       " ..\\OntoGeoLogicaEntidadesNomeadas.interval_finished_by,\n",
       " ..\\OntoGeoLogicaEntidadesNomeadas.interval_finishes,\n",
       " ..\\OntoGeoLogicaEntidadesNomeadas.interval_in,\n",
       " ..\\OntoGeoLogicaEntidadesNomeadas.interval_meets,\n",
       " ..\\OntoGeoLogicaEntidadesNomeadas.interval_met_by,\n",
       " ..\\OntoGeoLogicaEntidadesNomeadas.interval_overlapped_by,\n",
       " ..\\OntoGeoLogicaEntidadesNomeadas.interval_overlaps,\n",
       " ..\\OntoGeoLogicaEntidadesNomeadas.interval_started_by,\n",
       " ..\\OntoGeoLogicaEntidadesNomeadas.interval_starts,\n",
       " ..\\OntoGeoLogicaEntidadesNomeadas.is_concretized_as,\n",
       " ..\\OntoGeoLogicaEntidadesNomeadas.located_in,\n",
       " ..\\OntoGeoLogicaEntidadesNomeadas.location_of,\n",
       " ..\\OntoGeoLogicaEntidadesNomeadas.member_of,\n",
       " ..\\OntoGeoLogicaEntidadesNomeadas.part_of,\n",
       " ..\\OntoGeoLogicaEntidadesNomeadas.participates_in,\n",
       " ..\\OntoGeoLogicaEntidadesNomeadas.quality_of,\n",
       " ..\\OntoGeoLogicaEntidadesNomeadas.role_of]"
      ]
     },
     "execution_count": 18,
     "metadata": {},
     "output_type": "execute_result"
    }
   ],
   "source": [
    "list(onto.object_properties())"
   ]
  },
  {
   "cell_type": "code",
   "execution_count": 24,
   "id": "d222e573-71d4-4f85-8d7e-0bc4d3452f06",
   "metadata": {},
   "outputs": [],
   "source": [
    "onto.marlim.located_in.append(onto.campos)\n",
    "onto.albacora.located_in.append(onto.campos)\n",
    "onto.mero.located_in.append(onto.santos)"
   ]
  },
  {
   "cell_type": "code",
   "execution_count": 26,
   "id": "050db7a2-d922-4e17-a9c9-cd1d405e8ab7",
   "metadata": {},
   "outputs": [
    {
     "data": {
      "text/plain": [
       "[..\\OntoGeoLogicaEntidadesNomeadas.mero]"
      ]
     },
     "execution_count": 26,
     "metadata": {},
     "output_type": "execute_result"
    }
   ],
   "source": [
    "onto.santos.location_of"
   ]
  },
  {
   "cell_type": "markdown",
   "id": "b2b62123-d523-4fbe-b3d0-e53564102e8e",
   "metadata": {},
   "source": [
    "Apagando as subclasses de \"rock\" e \"unconsolidated_earth_material\""
   ]
  },
  {
   "cell_type": "code",
   "execution_count": 11,
   "id": "306981ea-1c81-47a9-992c-587d1b31a8ed",
   "metadata": {},
   "outputs": [],
   "source": [
    "rock_list = onto.search(subclass_of = onto.rock)\n",
    "\n",
    "#Apagando todas as subclasses de rock \n",
    "# (a posição 0 na lista é o proprio nó \"rock\", por isso ele foi mantido)\n",
    "for n in range(1,len(rock_list)):\n",
    "    destroy_entity(rock_list[n])\n",
    "               "
   ]
  },
  {
   "cell_type": "code",
   "execution_count": 15,
   "id": "6a1e9aa8-0c43-4f84-b8f1-f137e83d1451",
   "metadata": {},
   "outputs": [],
   "source": [
    "unconsolidated_list = onto.search(subclass_of = onto.unconsolidated_earth_material)\n",
    "\n",
    "#Apagando todas as subclasses de unconsolidated_earth_material\n",
    "# (a posição 0 na lista é o proprio nó \"unconsolidated_earth_material\", por isso ele foi mantido)\n",
    "for n in range(1,len(unconsolidated_list)):\n",
    "    destroy_entity(unconsolidated_list[n])"
   ]
  },
  {
   "cell_type": "code",
   "execution_count": 9,
   "id": "111f107f-e334-4651-9a1e-94eb731ec5bd",
   "metadata": {},
   "outputs": [
    {
     "data": {
      "text/plain": [
       "[..\\OntoGeoLogicaInstanciasRelacoes.independent_continuant,\n",
       " ..\\OntoGeoLogicaInstanciasRelacoes.generically_dependent_continuant,\n",
       " ..\\OntoGeoLogicaInstanciasRelacoes.specifically_dependent_continuant,\n",
       " ..\\OntoGeoLogicaInstanciasRelacoes.well,\n",
       " ..\\OntoGeoLogicaInstanciasRelacoes.geological_object,\n",
       " ..\\OntoGeoLogicaInstanciasRelacoes.occurrent,\n",
       " ..\\OntoGeoLogicaInstanciasRelacoes.continuant,\n",
       " ..\\OntoGeoLogicaInstanciasRelacoes.quality,\n",
       " ..\\OntoGeoLogicaInstanciasRelacoes.one-dimensional_temporal_region,\n",
       " ..\\OntoGeoLogicaInstanciasRelacoes.geological_age,\n",
       " ..\\OntoGeoLogicaInstanciasRelacoes.rock,\n",
       " ..\\OntoGeoLogicaInstanciasRelacoes.anthropogenic_fluid,\n",
       " ..\\OntoGeoLogicaInstanciasRelacoes.anthropogenic_material,\n",
       " ..\\OntoGeoLogicaInstanciasRelacoes.material_entity,\n",
       " ..\\OntoGeoLogicaInstanciasRelacoes.earth_material,\n",
       " ..\\OntoGeoLogicaInstanciasRelacoes.unconsolidated_earth_material,\n",
       " ..\\OntoGeoLogicaInstanciasRelacoes.basin,\n",
       " ..\\OntoGeoLogicaInstanciasRelacoes.site,\n",
       " ..\\OntoGeoLogicaInstanciasRelacoes.field,\n",
       " ..\\OntoGeoLogicaInstanciasRelacoes.o&g_earth_fluid,\n",
       " ..\\OntoGeoLogicaInstanciasRelacoes.entity,\n",
       " ..\\OntoGeoLogicaInstanciasRelacoes.earth_fluid,\n",
       " ..\\OntoGeoLogicaInstanciasRelacoes.geological_time_interval,\n",
       " ..\\OntoGeoLogicaInstanciasRelacoes.geological_process,\n",
       " ..\\OntoGeoLogicaInstanciasRelacoes.object,\n",
       " ..\\OntoGeoLogicaInstanciasRelacoes.geological_structure,\n",
       " ..\\OntoGeoLogicaInstanciasRelacoes.process,\n",
       " ..\\OntoGeoLogicaInstanciasRelacoes.immaterial_entity,\n",
       " ..\\OntoGeoLogicaInstanciasRelacoes.lithostratigraphic_unit,\n",
       " ..\\OntoGeoLogicaInstanciasRelacoes.object_aggregate,\n",
       " ..\\OntoGeoLogicaInstanciasRelacoes.temporal_region,\n",
       " ..\\OntoGeoLogicaInstanciasRelacoes.textura]"
      ]
     },
     "execution_count": 9,
     "metadata": {},
     "output_type": "execute_result"
    }
   ],
   "source": [
    "list(onto.classes())"
   ]
  }
 ],
 "metadata": {
  "kernelspec": {
   "display_name": "Python 3 (ipykernel)",
   "language": "python",
   "name": "python3"
  },
  "language_info": {
   "codemirror_mode": {
    "name": "ipython",
    "version": 3
   },
   "file_extension": ".py",
   "mimetype": "text/x-python",
   "name": "python",
   "nbconvert_exporter": "python",
   "pygments_lexer": "ipython3",
   "version": "3.7.16"
  }
 },
 "nbformat": 4,
 "nbformat_minor": 5
}
