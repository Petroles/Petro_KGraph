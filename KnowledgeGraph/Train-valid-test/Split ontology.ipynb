{
 "cells": [
  {
   "cell_type": "code",
   "execution_count": 1,
   "id": "027557ba-24ae-4228-b5c5-703bf04e7c63",
   "metadata": {},
   "outputs": [
    {
     "name": "stderr",
     "output_type": "stream",
     "text": [
      "* Owlready2 * Warning: optimized Cython parser module 'owlready2_optimized' is not available, defaulting to slower Python implementation\n"
     ]
    }
   ],
   "source": [
    "from owlready2 import *\n",
    "#import types\n",
    "from conllu import parse_incr, parse\n",
    "import numpy as np\n",
    "import pandas as pd"
   ]
  },
  {
   "cell_type": "markdown",
   "id": "56bf8e54-fb3f-4a6b-9342-656e54667e70",
   "metadata": {},
   "source": [
    "Carregando ontologias"
   ]
  },
  {
   "cell_type": "code",
   "execution_count": 2,
   "id": "f01f12c5-6f23-458e-9812-79985171a519",
   "metadata": {},
   "outputs": [
    {
     "data": {
      "text/plain": [
       "get_ontology(\"http://www.semanticweb.org/bg40/ontologies/2022/5/untitled-ontology-2#\")"
      ]
     },
     "execution_count": 2,
     "metadata": {},
     "output_type": "execute_result"
    }
   ],
   "source": [
    "#OntoGeoLógica populada (OntoGeoLogicaPovoadaInstanciasRelacoes.owl)\n",
    "#onto_pop = get_ontology(\"..\\OntoGeoLogicaInstanciasRelacoes.owl\")\n",
    "#onto_pop.load()\n",
    "onto = get_ontology(\"../OntoGeoLogicaEntidadesNomeadas.owl\")\n",
    "onto.load()"
   ]
  },
  {
   "cell_type": "markdown",
   "id": "501a5dd7-bbf2-4ca2-83df-0c9d030fb9e6",
   "metadata": {},
   "source": [
    "Carregando Listas de entidedes"
   ]
  },
  {
   "cell_type": "code",
   "execution_count": 3,
   "id": "4462225f-16ef-4756-a3c6-fa1bda5e20da",
   "metadata": {},
   "outputs": [],
   "source": [
    "#Completo\n",
    "#text_treino = np.load('../../Corpora/PetroNER-LinkedEntity/PetroNER - sentences.npy')\n",
    "entities_PetroNER = np.load('../../Corpora/PetroNER-LinkedEntity/PetroNER - entities.npy')\n",
    "classes_PetroNER = np.load('../../Corpora/PetroNER-LinkedEntity/PetroNER - classes.npy')\n",
    "URI_PetroNER = np.load('../../Corpora/PetroNER-LinkedEntity/PetroNER - URI.npy', allow_pickle=True)\n",
    "\n",
    "#Treino\n",
    "#text_treino = np.load('../../Corpora/PetroNER-LinkedEntity/treino - sentences.npy')\n",
    "entities_treino = np.load('../../Corpora/PetroNER-LinkedEntity/treino - entities.npy')\n",
    "classes_treino = np.load('../../Corpora/PetroNER-LinkedEntity/treino - classes.npy')\n",
    "URI_treino = np.load('../../Corpora/PetroNER-LinkedEntity/treino - URI.npy', allow_pickle=True)\n",
    "\n",
    "#Valid\n",
    "#text_valid = np.load('../../Corpora/PetroNER-LinkedEntity/valid - sentences.npy')\n",
    "entities_valid = np.load('../../Corpora/PetroNER-LinkedEntity/valid - entities.npy')\n",
    "classes_valid = np.load('../../Corpora/PetroNER-LinkedEntity/valid - classes.npy')\n",
    "URI_valid = np.load('../../Corpora/PetroNER-LinkedEntity/valid - URI.npy', allow_pickle=True)\n",
    "\n",
    "#Teste\n",
    "#text_teste = np.load('../../Corpora/PetroNER-LinkedEntity/teste - sentences.npy')\n",
    "entities_teste = np.load('../../Corpora/PetroNER-LinkedEntity/teste - entities.npy')\n",
    "classes_teste = np.load('../../Corpora/PetroNER-LinkedEntity/teste - classes.npy')\n",
    "URI_teste = np.load('../../Corpora/PetroNER-LinkedEntity/teste - URI.npy', allow_pickle=True)"
   ]
  },
  {
   "cell_type": "markdown",
   "id": "6116d6d1-74d6-4d9d-9594-6bbf0e615625",
   "metadata": {},
   "source": [
    "Carregando arquivo com relações"
   ]
  },
  {
   "cell_type": "code",
   "execution_count": 4,
   "id": "5d63c703-4b6f-47ed-b380-76f1aba949f1",
   "metadata": {},
   "outputs": [],
   "source": [
    "# df_filtred = pickle.load(open('../../Corpora/PetroRE/df_relation.pkl', 'rb'))\n",
    "df_relations = pd.read_csv('../../Corpora/PetroRE/df_relation.csv')"
   ]
  },
  {
   "cell_type": "markdown",
   "id": "633020aa-b03e-44f3-9076-28b7fb895189",
   "metadata": {},
   "source": [
    "### Verificando se tem URI com duas classes diferentes"
   ]
  },
  {
   "cell_type": "code",
   "execution_count": 5,
   "id": "e2cea465-f3a4-4826-90ce-8848c541f99d",
   "metadata": {},
   "outputs": [
    {
     "name": "stdout",
     "output_type": "stream",
     "text": [
      "#Dom_Joao_Age\n",
      "#TEFR_CD_TIPO_EST_FISICA_ROCHA_059\n",
      "#earth_fluid\n",
      "#fluid_composition\n",
      "#fluid_origin\n",
      "#water\n",
      "#water\n"
     ]
    }
   ],
   "source": [
    "#Coletando tuplas com clases e URIs\n",
    "entity_tupla = []\n",
    "\n",
    "for n in range(len(URI_PetroNER)):\n",
    "    entity_tupla.append((URI_PetroNER[n],classes_PetroNER[n]))\n",
    "\n",
    "#Set de tuplas\n",
    "set_tupla = set(entity_tupla)\n",
    "\n",
    "# Excluido as URIs None\n",
    "ent = []\n",
    "for tup in set_tupla:\n",
    "    #print(tup[0])\n",
    "    if tup[0] != None:\n",
    "        ent.append(tup[0])\n",
    "        \n",
    "#Ordenando as URIs e imprimindo quando tem uma URI repetida\n",
    "classes_duplicadas = []\n",
    "ent.sort()\n",
    "ant = ''\n",
    "for i in ent:\n",
    "    if i == ant:\n",
    "        print(i)\n",
    "        classes_duplicadas.append(i)\n",
    "    ant = i"
   ]
  },
  {
   "cell_type": "markdown",
   "id": "61210ed6-6629-46ff-8859-9e121c5a0021",
   "metadata": {},
   "source": [
    "### Povoamento a ontologia com as entidades"
   ]
  },
  {
   "cell_type": "markdown",
   "id": "d69cdcc9-780f-46df-9a4c-edd6244f1e10",
   "metadata": {},
   "source": [
    "Separando as URI por classes"
   ]
  },
  {
   "cell_type": "code",
   "execution_count": 6,
   "id": "f649eabc-5131-41a2-ac00-a8102abe0c6f",
   "metadata": {},
   "outputs": [],
   "source": [
    "# Função que recebe as listas com todas URIs e Classes, \n",
    "# e retorna apenas um set das URI doselementos da classe indicada em 'string_classe', \n",
    "# com exceção da URI da própria classe (indicado em URI_classe)\n",
    "\n",
    "def lista_por_calsse(URI_dataset, classes_dataset, string_classe, URI_classe):\n",
    "\n",
    "    lista_classe = []\n",
    "        \n",
    "    #Iterando por todos os elementos\n",
    "    for n in range(len(URI_dataset)):\n",
    "        #Verificando qual a classe\n",
    "        if ((classes_dataset[n] == string_classe) and \n",
    "            (URI_dataset[n]!= URI_classe) and \n",
    "            (URI_dataset[n]!= None) and\n",
    "            (URI_dataset[n]not in classes_duplicadas)):\n",
    "            lista_classe.append(URI_dataset[n])\n",
    "\n",
    "\n",
    "    # Reduzindo a lista para apenas elementos únicos\n",
    "    lista_classe = set(lista_classe)\n",
    "    \n",
    "    return lista_classe"
   ]
  },
  {
   "cell_type": "code",
   "execution_count": 7,
   "id": "5185529e-041b-41b8-b5f6-bbbcafc5a75b",
   "metadata": {},
   "outputs": [],
   "source": [
    "BACIA_list = lista_por_calsse(URI_PetroNER, classes_PetroNER, 'BACIA', '#basin')\n",
    "CAMPO_list = lista_por_calsse(URI_PetroNER, classes_PetroNER, 'CAMPO', '#field')\n",
    "ESTRUTURA_FÍSICA_list = lista_por_calsse(URI_PetroNER, classes_PetroNER, 'ESTRUTURA_FÍSICA', '#geological_structure')\n",
    "EVENTO_PETRO_list = lista_por_calsse(URI_PetroNER, classes_PetroNER, 'EVENTO_PETRO', '#geological_process')\n",
    "FLUIDO_list = lista_por_calsse(URI_PetroNER, classes_PetroNER, 'FLUIDO', '#anthropogenic_fluid')\n",
    "FLUIDODATERRA_i_list = lista_por_calsse(URI_PetroNER, classes_PetroNER, 'FLUIDODATERRA_i', '#o&g_earth_fluid')\n",
    "FLUIDODATERRA_o_list = lista_por_calsse(URI_PetroNER, classes_PetroNER, 'FLUIDODATERRA_o', '#earth_fluid')\n",
    "NÃOCONSOLID_list = lista_por_calsse(URI_PetroNER, classes_PetroNER, 'NÃOCONSOLID', '#unconsolidated_earth_material')\n",
    "POÇO_list = lista_por_calsse(URI_PetroNER, classes_PetroNER, 'POÇO', '#well')\n",
    "ROCHA_list = lista_por_calsse(URI_PetroNER, classes_PetroNER, 'ROCHA', '#rock')\n",
    "TEXTURA_list = lista_por_calsse(URI_PetroNER, classes_PetroNER, 'TEXTURA', '#textura')\n",
    "UNIDADE_CRONO_list = lista_por_calsse(URI_PetroNER, classes_PetroNER, 'UNIDADE_CRONO', '#geological_age')\n",
    "UNIDADE_LITO_list = lista_por_calsse(URI_PetroNER, classes_PetroNER, 'UNIDADE_LITO', '#lithostratigraphic_unit')"
   ]
  },
  {
   "cell_type": "markdown",
   "id": "218f1058-70e3-413b-b631-caa5f0698d95",
   "metadata": {},
   "source": [
    "Povoando as subclasses"
   ]
  },
  {
   "cell_type": "code",
   "execution_count": 8,
   "id": "7b7b5713-829e-49d3-b240-67c05d2b56bd",
   "metadata": {},
   "outputs": [],
   "source": [
    "#Função que recebe a classe da ontologia e a lista de sublasses para povoar\n",
    "def povoando_subclasses(onto, classe, lista_classe):\n",
    "\n",
    "    for new_class in lista_classe:\n",
    "        with onto:\n",
    "            types.new_class(new_class[1:], (onto[classe],))\n",
    "    return"
   ]
  },
  {
   "cell_type": "code",
   "execution_count": 9,
   "id": "eb865041-1199-4fed-b1a6-41c1526347f8",
   "metadata": {},
   "outputs": [],
   "source": [
    "povoando_subclasses(onto, 'rock', ROCHA_list)\n",
    "povoando_subclasses(onto, 'unconsolidated_earth_material', NÃOCONSOLID_list)\n",
    "povoando_subclasses(onto, 'o&g_earth_fluid', FLUIDODATERRA_i_list)\n",
    "povoando_subclasses(onto, 'earth_fluid', FLUIDODATERRA_o_list)"
   ]
  },
  {
   "cell_type": "markdown",
   "id": "4a9ef473-ee58-477a-91cd-68acf951e4cf",
   "metadata": {},
   "source": [
    "Povoando as instâcias"
   ]
  },
  {
   "cell_type": "code",
   "execution_count": 10,
   "id": "a5c76b16-e8f4-4a61-b7ae-18f30915d3f8",
   "metadata": {},
   "outputs": [],
   "source": [
    "for basin in BACIA_list:\n",
    "    onto['basin'](basin[1:])\n",
    "\n",
    "for field in CAMPO_list:\n",
    "    onto['field'](field[1:])\n",
    "    \n",
    "for structure in ESTRUTURA_FÍSICA_list:\n",
    "    onto['geological_structure'](structure[1:])\n",
    "    \n",
    "for process in EVENTO_PETRO_list:\n",
    "    onto['geological_process'](process[1:])\n",
    "    \n",
    "for well in POÇO_list:\n",
    "    onto['well'](well[1:])\n",
    "\n",
    "for textura in TEXTURA_list:\n",
    "    onto['textura'](textura[1:])\n",
    "\n",
    "for lithostratigraphic_unit in UNIDADE_LITO_list:\n",
    "    #if lithostratigraphic_unit != '#Dom_Joao_Age':\n",
    "    onto['lithostratigraphic_unit'](lithostratigraphic_unit[1:])\n",
    "    "
   ]
  },
  {
   "cell_type": "markdown",
   "id": "3e3e0364-3ad0-4552-ac6d-a32c1c30fdd7",
   "metadata": {},
   "source": [
    "Trantando o caso específico da Unidade Cronoestratigráfica.  \n",
    "  \n",
    "  Para cada URI anotada no corpus, povoamos na ontologia um subclasse de onto.geological_age, terminando com '_quality' e uma instância de onto.geological_time_interval com a URI anotada no corpus."
   ]
  },
  {
   "cell_type": "code",
   "execution_count": 11,
   "id": "ca0e6107-580d-4889-b41d-c52ea113e706",
   "metadata": {},
   "outputs": [],
   "source": [
    "for crono in UNIDADE_CRONO_list:\n",
    "    with onto:\n",
    "        #povoando as classes geological age e geological time interval\n",
    "        types.new_class(crono[1:] + '_quality', (onto['geological_age'],))\n",
    "        onto['geological_time_interval'](crono[1:])"
   ]
  },
  {
   "cell_type": "markdown",
   "id": "5e50f6c0-6b52-4a6d-8885-a2f0a89e926e",
   "metadata": {},
   "source": [
    "### Povoando a ontologia com as relações"
   ]
  },
  {
   "cell_type": "code",
   "execution_count": 12,
   "id": "403af64f-f707-4aa5-9447-5001ed82c4c5",
   "metadata": {},
   "outputs": [
    {
     "data": {
      "text/html": [
       "<div>\n",
       "<style scoped>\n",
       "    .dataframe tbody tr th:only-of-type {\n",
       "        vertical-align: middle;\n",
       "    }\n",
       "\n",
       "    .dataframe tbody tr th {\n",
       "        vertical-align: top;\n",
       "    }\n",
       "\n",
       "    .dataframe thead th {\n",
       "        text-align: right;\n",
       "    }\n",
       "</style>\n",
       "<table border=\"1\" class=\"dataframe\">\n",
       "  <thead>\n",
       "    <tr style=\"text-align: right;\">\n",
       "      <th></th>\n",
       "      <th>Relation</th>\n",
       "      <th>Ent1</th>\n",
       "      <th>Ent2</th>\n",
       "      <th>URI_1</th>\n",
       "      <th>URI_2</th>\n",
       "      <th>#Sentence</th>\n",
       "    </tr>\n",
       "  </thead>\n",
       "  <tbody>\n",
       "    <tr>\n",
       "      <th>0</th>\n",
       "      <td>located_in</td>\n",
       "      <td>UNIDADE_LITO</td>\n",
       "      <td>BACIA</td>\n",
       "      <td>#membro_010</td>\n",
       "      <td>#BASE_CD_BACIA_270</td>\n",
       "      <td>6</td>\n",
       "    </tr>\n",
       "    <tr>\n",
       "      <th>1</th>\n",
       "      <td>located_in</td>\n",
       "      <td>UNIDADE_LITO</td>\n",
       "      <td>BACIA</td>\n",
       "      <td>#formacao_319</td>\n",
       "      <td>#BASE_CD_BACIA_100</td>\n",
       "      <td>97</td>\n",
       "    </tr>\n",
       "    <tr>\n",
       "      <th>2</th>\n",
       "      <td>located_in</td>\n",
       "      <td>UNIDADE_LITO</td>\n",
       "      <td>BACIA</td>\n",
       "      <td>#formacao_319</td>\n",
       "      <td>#BASE_CD_BACIA_100</td>\n",
       "      <td>97</td>\n",
       "    </tr>\n",
       "    <tr>\n",
       "      <th>3</th>\n",
       "      <td>located_in</td>\n",
       "      <td>UNIDADE_LITO</td>\n",
       "      <td>BACIA</td>\n",
       "      <td>#formacao_319</td>\n",
       "      <td>#BASE_CD_BACIA_100</td>\n",
       "      <td>97</td>\n",
       "    </tr>\n",
       "    <tr>\n",
       "      <th>4</th>\n",
       "      <td>located_in</td>\n",
       "      <td>UNIDADE_LITO</td>\n",
       "      <td>BACIA</td>\n",
       "      <td>#formacao_319</td>\n",
       "      <td>#BASE_CD_BACIA_100</td>\n",
       "      <td>97</td>\n",
       "    </tr>\n",
       "    <tr>\n",
       "      <th>...</th>\n",
       "      <td>...</td>\n",
       "      <td>...</td>\n",
       "      <td>...</td>\n",
       "      <td>...</td>\n",
       "      <td>...</td>\n",
       "      <td>...</td>\n",
       "    </tr>\n",
       "    <tr>\n",
       "      <th>2287</th>\n",
       "      <td>temporal_relation</td>\n",
       "      <td>UNIDADE_CRONO</td>\n",
       "      <td>UNIDADE_CRONO</td>\n",
       "      <td>#Barremian</td>\n",
       "      <td>#Aptian</td>\n",
       "      <td>23968</td>\n",
       "    </tr>\n",
       "    <tr>\n",
       "      <th>2288</th>\n",
       "      <td>temporal_relation</td>\n",
       "      <td>UNIDADE_CRONO</td>\n",
       "      <td>UNIDADE_CRONO</td>\n",
       "      <td>#Aptian</td>\n",
       "      <td>#Barremian</td>\n",
       "      <td>23968</td>\n",
       "    </tr>\n",
       "    <tr>\n",
       "      <th>2289</th>\n",
       "      <td>located_in</td>\n",
       "      <td>UNIDADE_LITO</td>\n",
       "      <td>BACIA</td>\n",
       "      <td>#formacao_222</td>\n",
       "      <td>#BASE_CD_BACIA_281</td>\n",
       "      <td>23988</td>\n",
       "    </tr>\n",
       "    <tr>\n",
       "      <th>2290</th>\n",
       "      <td>temporal_relation</td>\n",
       "      <td>UNIDADE_CRONO</td>\n",
       "      <td>UNIDADE_CRONO</td>\n",
       "      <td>#Valanginian</td>\n",
       "      <td>#LowerCretaceous</td>\n",
       "      <td>23994</td>\n",
       "    </tr>\n",
       "    <tr>\n",
       "      <th>2291</th>\n",
       "      <td>temporal_relation</td>\n",
       "      <td>UNIDADE_CRONO</td>\n",
       "      <td>UNIDADE_CRONO</td>\n",
       "      <td>#LowerCretaceous</td>\n",
       "      <td>#Valanginian</td>\n",
       "      <td>23994</td>\n",
       "    </tr>\n",
       "  </tbody>\n",
       "</table>\n",
       "<p>2292 rows × 6 columns</p>\n",
       "</div>"
      ],
      "text/plain": [
       "               Relation           Ent1           Ent2             URI_1  \\\n",
       "0            located_in   UNIDADE_LITO          BACIA       #membro_010   \n",
       "1            located_in   UNIDADE_LITO          BACIA     #formacao_319   \n",
       "2            located_in   UNIDADE_LITO          BACIA     #formacao_319   \n",
       "3            located_in   UNIDADE_LITO          BACIA     #formacao_319   \n",
       "4            located_in   UNIDADE_LITO          BACIA     #formacao_319   \n",
       "...                 ...            ...            ...               ...   \n",
       "2287  temporal_relation  UNIDADE_CRONO  UNIDADE_CRONO        #Barremian   \n",
       "2288  temporal_relation  UNIDADE_CRONO  UNIDADE_CRONO           #Aptian   \n",
       "2289         located_in   UNIDADE_LITO          BACIA     #formacao_222   \n",
       "2290  temporal_relation  UNIDADE_CRONO  UNIDADE_CRONO      #Valanginian   \n",
       "2291  temporal_relation  UNIDADE_CRONO  UNIDADE_CRONO  #LowerCretaceous   \n",
       "\n",
       "                   URI_2  #Sentence  \n",
       "0     #BASE_CD_BACIA_270          6  \n",
       "1     #BASE_CD_BACIA_100         97  \n",
       "2     #BASE_CD_BACIA_100         97  \n",
       "3     #BASE_CD_BACIA_100         97  \n",
       "4     #BASE_CD_BACIA_100         97  \n",
       "...                  ...        ...  \n",
       "2287             #Aptian      23968  \n",
       "2288          #Barremian      23968  \n",
       "2289  #BASE_CD_BACIA_281      23988  \n",
       "2290    #LowerCretaceous      23994  \n",
       "2291        #Valanginian      23994  \n",
       "\n",
       "[2292 rows x 6 columns]"
      ]
     },
     "execution_count": 12,
     "metadata": {},
     "output_type": "execute_result"
    }
   ],
   "source": [
    "df_relations"
   ]
  },
  {
   "cell_type": "code",
   "execution_count": 13,
   "id": "e21874bd-fd51-4d10-b843-358e05114b33",
   "metadata": {},
   "outputs": [
    {
     "name": "stdout",
     "output_type": "stream",
     "text": [
      "Número de triplas: 2292\n",
      "Número de triplas únicas: 899\n"
     ]
    }
   ],
   "source": [
    "# Colentando as triplas (URI_1, Relation, URI_2)\n",
    "triplas = list(df_relations.apply(lambda x: (x['URI_1'], x['Relation'], x['URI_2']), axis=1))\n",
    "print('Número de triplas:', len(triplas))\n",
    "triplas = set(triplas)\n",
    "print('Número de triplas únicas:', len(triplas))"
   ]
  },
  {
   "cell_type": "code",
   "execution_count": 14,
   "id": "a2f14741-cb22-46fa-a0cc-f232388c6820",
   "metadata": {},
   "outputs": [
    {
     "data": {
      "text/plain": [
       "{'constituted_by',\n",
       " 'crosses',\n",
       " 'has_age',\n",
       " 'interval_finishes',\n",
       " 'located_in',\n",
       " 'temporal_relation'}"
      ]
     },
     "execution_count": 14,
     "metadata": {},
     "output_type": "execute_result"
    }
   ],
   "source": [
    "set(list(df_relations['Relation']))"
   ]
  },
  {
   "cell_type": "code",
   "execution_count": 15,
   "id": "bd9f7d5f-2289-4f10-b64f-5f20a8376727",
   "metadata": {},
   "outputs": [],
   "source": [
    "for tripla in triplas:\n",
    "    \n",
    "    if ((tripla[0] not in classes_duplicadas) and \n",
    "        (tripla[2] not in classes_duplicadas)):\n",
    "    \n",
    "        if tripla[1] == 'constituted_by':\n",
    "            onto[tripla[0][1:]].constituted_by.append(onto[tripla[2][1:]])\n",
    "\n",
    "        if tripla[1] == 'crosses':\n",
    "            onto[tripla[0][1:]].crosses.append(onto[tripla[2][1:]])\n",
    "\n",
    "        if tripla[1] == 'has_age':\n",
    "            # Criando a instância \"idade geológica da unidade lito\"\n",
    "            onto[tripla[2][1:] + '_quality'](tripla[2][1:] + '_quality_' + tripla[0][1:])\n",
    "            \n",
    "            # Criando a relação entra a unidade lito e instância \"idade geológica da unidade lito\"\n",
    "            onto[tripla[0][1:]].has_age.append(onto[tripla[2][1:] + '_quality_' + tripla[0][1:]])\n",
    "            \n",
    "            # Adicionando a relação partipates_in entre a qualidade Geological age e o Geological Time interval\n",
    "  \n",
    "            onto[tripla[2][1:] + '_quality_' + tripla[0][1:]].participates_in.append(onto[tripla[2][1:]])\n",
    "            \n",
    "        if tripla[1] == 'located_in':\n",
    "            onto[tripla[0][1:]].located_in.append(onto[tripla[2][1:]])\n",
    "                \n",
    "        if tripla[1] == 'temporal_relation':\n",
    "            onto[tripla[0][1:]].has_temporal_relation.append(onto[tripla[2][1:]])\n",
    "            "
   ]
  },
  {
   "cell_type": "markdown",
   "id": "93f2f468-6f11-4360-b397-751133af5a0a",
   "metadata": {
    "tags": []
   },
   "source": [
    "### Estatísticas"
   ]
  },
  {
   "cell_type": "code",
   "execution_count": null,
   "id": "84b16cb0-6ca1-4d3d-87e9-9f276f51f2e1",
   "metadata": {},
   "outputs": [],
   "source": [
    "BACIA_list = lista_por_calsse(URI_PetroNER, classes_PetroNER, 'BACIA', '#basin')\n",
    "CAMPO_list = lista_por_calsse(URI_PetroNER, classes_PetroNER, 'CAMPO', '#field')\n",
    "ESTRUTURA_FÍSICA_list = lista_por_calsse(URI_PetroNER, classes_PetroNER, 'ESTRUTURA_FÍSICA', '#geological_structure')\n",
    "EVENTO_PETRO_list = lista_por_calsse(URI_PetroNER, classes_PetroNER, 'EVENTO_PETRO', '#geological_process')\n",
    "FLUIDO_list = lista_por_calsse(URI_PetroNER, classes_PetroNER, 'FLUIDO', '#anthropogenic_fluid')\n",
    "FLUIDODATERRA_i_list = lista_por_calsse(URI_PetroNER, classes_PetroNER, 'FLUIDODATERRA_i', '#o&g_earth_fluid')\n",
    "FLUIDODATERRA_o_list = lista_por_calsse(URI_PetroNER, classes_PetroNER, 'FLUIDODATERRA_o', '#earth_fluid')\n",
    "NÃOCONSOLID_list = lista_por_calsse(URI_PetroNER, classes_PetroNER, 'NÃOCONSOLID', '#unconsolidated_earth_material')\n",
    "POÇO_list = lista_por_calsse(URI_PetroNER, classes_PetroNER, 'POÇO', '#well')\n",
    "ROCHA_list = lista_por_calsse(URI_PetroNER, classes_PetroNER, 'ROCHA', '#rock')\n",
    "TEXTURA_list = lista_por_calsse(URI_PetroNER, classes_PetroNER, 'TEXTURA', '#textura')\n",
    "UNIDADE_CRONO_list = lista_por_calsse(URI_PetroNER, classes_PetroNER, 'UNIDADE_CRONO', '#geological_age')\n",
    "UNIDADE_LITO_list = lista_por_calsse(URI_PetroNER, classes_PetroNER, 'UNIDADE_LITO', '#lithostratigraphic_unit')"
   ]
  },
  {
   "cell_type": "code",
   "execution_count": 17,
   "id": "a7a3f0c6-7b7b-40a0-9fef-104b516f87c9",
   "metadata": {},
   "outputs": [
    {
     "name": "stdout",
     "output_type": "stream",
     "text": [
      "Total individuals:  904\n",
      "Bacias:  65\n",
      "Campo:  110\n",
      "Estrutura Física:  62\n",
      "Poço:  193\n",
      "Textura:  19\n",
      "Unidade Lito:  212\n",
      "Intervalo de tempo Geológico:  131\n",
      "Idade Geologica:  112\n"
     ]
    }
   ],
   "source": [
    "print('Total individuals: ', len(list(onto.individuals())))\n",
    "print('Bacias: ', len(onto.search(type = onto.basin)))\n",
    "print('Campo: ', len(onto.search(type = onto.field)))\n",
    "print('Estrutura Física: ', len(onto.search(type = onto.geological_structure)))\n",
    "print('Poço: ', len(onto.search(type = onto.well)))\n",
    "print('Textura: ', len(onto.search(type = onto.textura)))\n",
    "print('Unidade Lito: ', len(onto.search(type = onto.lithostratigraphic_unit)))\n",
    "print('Intervalo de tempo Geológico: ', len(onto.search(type = onto.geological_time_interval)))\n",
    "print('Idade Geologica: ', len(onto.search(type = onto.geological_age)))"
   ]
  },
  {
   "cell_type": "code",
   "execution_count": 22,
   "id": "144b4aba-bd30-4a85-9b3d-3b0c55219e4e",
   "metadata": {
    "tags": []
   },
   "outputs": [
    {
     "name": "stdout",
     "output_type": "stream",
     "text": [
      "Total classes:  259\n",
      "Fluido antropogênico:  1\n",
      "Fluido da terra O&G:  7\n",
      "Fluido da terra:  10\n",
      "Material não consolidado:  11\n",
      "Rocha:  79\n"
     ]
    }
   ],
   "source": [
    "print('Total classes: ', len(list(onto.classes())))\n",
    "print('Fluido antropogênico: ', len(onto.search(subclass_of = onto['anthropogenic_fluid'])))\n",
    "print('Fluido da terra O&G: ', len(onto.search(subclass_of = onto['o&g_earth_fluid'])))\n",
    "print('Fluido da terra: ', len(onto.search(subclass_of = onto['earth_fluid'])))\n",
    "print('Material não consolidado: ', len(onto.search(subclass_of = onto['unconsolidated_earth_material'])))\n",
    "print('Rocha: ', len(onto.search(subclass_of = onto['rock'])))"
   ]
  },
  {
   "cell_type": "code",
   "execution_count": 61,
   "id": "ace8b671-7395-4396-a1c1-4b12b5bced67",
   "metadata": {},
   "outputs": [
    {
     "name": "stdout",
     "output_type": "stream",
     "text": [
      "constituted_by :  204\n",
      "crosses :  25\n",
      "has_age :  112\n",
      "located_in :  239\n",
      "temporal_relation :  310\n"
     ]
    }
   ],
   "source": [
    "print('constituted_by : ', len(list(onto.constituted_by.get_relations())))\n",
    "print('crosses : ', len(list(onto.crosses.get_relations())))\n",
    "print('has_age : ', len(list(onto.has_age.get_relations())))\n",
    "print('located_in : ', len(list(onto.located_in.get_relations())))\n",
    "print('temporal_relation : ', len(list(onto.has_temporal_relation.get_relations())))"
   ]
  }
 ],
 "metadata": {
  "kernelspec": {
   "display_name": "Python 3 (ipykernel)",
   "language": "python",
   "name": "python3"
  },
  "language_info": {
   "codemirror_mode": {
    "name": "ipython",
    "version": 3
   },
   "file_extension": ".py",
   "mimetype": "text/x-python",
   "name": "python",
   "nbconvert_exporter": "python",
   "pygments_lexer": "ipython3",
   "version": "3.7.16"
  }
 },
 "nbformat": 4,
 "nbformat_minor": 5
}
