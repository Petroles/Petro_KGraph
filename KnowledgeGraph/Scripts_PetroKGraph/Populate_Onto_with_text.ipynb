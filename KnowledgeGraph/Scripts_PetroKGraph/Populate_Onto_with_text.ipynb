{
 "cells": [
  {
   "cell_type": "code",
   "execution_count": 51,
   "id": "f74da608-eea5-4d9d-b63c-dc9463b75b41",
   "metadata": {},
   "outputs": [],
   "source": [
    "from owlready2 import *\n",
    "from conllu import parse_incr, parse\n",
    "import random\n",
    "import matplotlib.pyplot as plt"
   ]
  },
  {
   "cell_type": "code",
   "execution_count": 52,
   "id": "3b7f4a73-dc55-4c9c-83e8-a8cdc4a7fc0d",
   "metadata": {},
   "outputs": [
    {
     "data": {
      "text/plain": [
       "get_ontology(\"http://www.semanticweb.org/bg40/ontologies/2022/5/untitled-ontology-2#\")"
      ]
     },
     "execution_count": 52,
     "metadata": {},
     "output_type": "execute_result"
    }
   ],
   "source": [
    "# Loading the ontologia\n",
    "onto = get_ontology(\"../OntoGeoLogicaPovoadaInstanciasRelacoes.owl\")\n",
    "onto.load()"
   ]
  },
  {
   "cell_type": "code",
   "execution_count": 53,
   "id": "3ff7cf2a-6088-4f57-8d23-8be68008e8b6",
   "metadata": {},
   "outputs": [
    {
     "name": "stdout",
     "output_type": "stream",
     "text": [
      "Número de classes:  699\n",
      "Número de indivíduos:  65073\n"
     ]
    }
   ],
   "source": [
    "classes = list(onto.classes())\n",
    "print('Número de classes: ', len(list(onto.classes())))\n",
    "\n",
    "individuals = list(onto.individuals())\n",
    "print('Número de indivíduos: ', len(list(onto.individuals())))"
   ]
  },
  {
   "cell_type": "markdown",
   "id": "3f732b26-2536-4992-886a-aaca38089ac9",
   "metadata": {},
   "source": [
    "### Importing CONLLU file"
   ]
  },
  {
   "cell_type": "code",
   "execution_count": 54,
   "id": "ca73b998-2b20-4276-a7d2-9568d2420b50",
   "metadata": {},
   "outputs": [],
   "source": [
    "# CONLLU parser\n",
    "conllu_file = \"../../Corpora/PetroNER/petroner-2022-12-19.conllu\"\n",
    "petroner = open(conllu_file, \"r\", encoding=\"utf-8\")\n",
    "sentences = parse_incr(petroner)"
   ]
  },
  {
   "cell_type": "markdown",
   "id": "dbe33256-cadb-4c98-b476-6cd9319f514b",
   "metadata": {},
   "source": [
    "### Processing CONLLU file"
   ]
  },
  {
   "cell_type": "code",
   "execution_count": 55,
   "id": "98d48810-83e1-4f21-a6a8-0427d1a100d9",
   "metadata": {},
   "outputs": [],
   "source": [
    "# Dictionary with entities and text where these entities appears\n",
    "text_examples = {}\n",
    "\n",
    "for toklist in sentences:\n",
    "    \n",
    "    text = ''\n",
    "    ner = []\n",
    "    MW_on = False    # Variável para indicar se está iterando por tolkens multiword\n",
    "    \n",
    "    #reading all tokkens and appending them in one string\n",
    "    for tok in toklist:\n",
    "        \n",
    "        # ignorando id não inteiro (tuplas), ou seja token multiword\n",
    "        if type(tok['id']) == int:\n",
    "        \n",
    "            # Verifica se está iterando por uma multiword ou não\n",
    "            if not MW_on:\n",
    "                \n",
    "                # Verificando se o TOK é uma pontuação\n",
    "                if tok['upos'] == 'PUNCT':\n",
    "                    text = text + tok['form']\n",
    "                else:\n",
    "                    text = text + ' ' + tok['form']\n",
    "\n",
    "                #Looking for entities in the text\n",
    "                try:\n",
    "                    ner = ner + tok['misc']['grafo'].split(',')\n",
    "                except:\n",
    "                    pass\n",
    "\n",
    "            else:\n",
    "                # Se o token for o último termo da multiword, desativamos a variável MW_on\n",
    "                if tok['id'] == MW_end:\n",
    "                    MW_on = False\n",
    "\n",
    "                    # Acrecenta a multiword à string do texto\n",
    "                    # Verificando se o TOK é uma pontuação\n",
    "                    if tok['upos'] == 'PUNCT':\n",
    "                        text = text + MW_tok\n",
    "                    else:\n",
    "                        text = text + ' ' + MW_tok\n",
    "            \n",
    "        # Se a ID do token for referente a uma multiword, ativamos a variável MW_on, \n",
    "        # armazenamos o termo MW_tok e o valor da 'id' final\n",
    "        else:\n",
    "            MW_on = True\n",
    "            MW_tok = tok['form']\n",
    "            MW_end = tok['id'][-1]\n",
    "\n",
    "    #Cleanning some characteres and removing space from begining and end of the sentence\n",
    "    text = text = re.sub(r'[Ͱ-Ͽ∀-⋿]', '', text)\n",
    "    text = text.strip()\n",
    "    \n",
    "    # Append text in the dictionary\n",
    "    if len(ner) > 0:\n",
    "        for n in set(ner):\n",
    "            if n not in text_examples:\n",
    "                text_examples[n] = [text]\n",
    "            else:\n",
    "                text_examples[n].append(text)\n"
   ]
  },
  {
   "cell_type": "code",
   "execution_count": 56,
   "id": "4242dd80-b829-434c-a2fe-d4efb66ac382",
   "metadata": {},
   "outputs": [],
   "source": [
    "# Liminting the number of examples for each entity\n",
    "\n",
    "sample_size = 20\n",
    "\n",
    "for ent in text_examples:\n",
    "    size = len(text_examples[ent])\n",
    "    if sample_size > size:\n",
    "        text_examples[ent] = random.sample(text_examples[ent],size)\n",
    "    else:\n",
    "        text_examples[ent] = random.sample(text_examples[ent],sample_size)\n"
   ]
  },
  {
   "cell_type": "code",
   "execution_count": 57,
   "id": "7c08d799-372b-468f-badb-531f01626695",
   "metadata": {},
   "outputs": [
    {
     "data": {
      "text/plain": [
       "(array([131.,  79.,  42.,  29.,  31.,  17.,  11.,  11.,  12.,  11.,   7.,\n",
       "          6.,   6.,   4.,   9.,   1.,  10.,   5.,   2.,  76.]),\n",
       " array([ 1.  ,  1.95,  2.9 ,  3.85,  4.8 ,  5.75,  6.7 ,  7.65,  8.6 ,\n",
       "         9.55, 10.5 , 11.45, 12.4 , 13.35, 14.3 , 15.25, 16.2 , 17.15,\n",
       "        18.1 , 19.05, 20.  ]),\n",
       " <BarContainer object of 20 artists>)"
      ]
     },
     "execution_count": 57,
     "metadata": {},
     "output_type": "execute_result"
    },
    {
     "data": {
      "image/png": "[encoded data removed]",
      "text/plain": [
       "<Figure size 432x288 with 1 Axes>"
      ]
     },
     "metadata": {
      "needs_background": "light"
     },
     "output_type": "display_data"
    }
   ],
   "source": [
    "# Histograma com a distribuição dos textos de exemplo\n",
    "n_text= []\n",
    "for n in text_examples:\n",
    "    #print(len(text_examples[n]))\n",
    "    n_text.append(len(text_examples[n]))\n",
    "    #break\n",
    "plt.hist(n_text, bins=20)"
   ]
  },
  {
   "cell_type": "markdown",
   "id": "acfd8a7d-3ced-49a8-ae51-93f149c8594d",
   "metadata": {},
   "source": [
    "### Populate ontology with comments"
   ]
  },
  {
   "cell_type": "code",
   "execution_count": 58,
   "id": "1d4abe35-7312-4f10-9f9f-f778afcf09b8",
   "metadata": {},
   "outputs": [
    {
     "name": "stdout",
     "output_type": "stream",
     "text": [
      "#gipsita None\n",
      "#grupo_05 None\n",
      "#carbonatos None\n",
      "#dry_hole None\n",
      "CAMP_CD_CAMPO_0444 None\n"
     ]
    }
   ],
   "source": [
    "# Add examples of text in the ontology\n",
    "\n",
    "for uri in text_examples:\n",
    "    # URI without \"#\"\n",
    "    ind = uri[1:]\n",
    "    #print(text_examples[i])\n",
    "    \n",
    "    try:\n",
    "        onto[ind].comment = text_examples[uri]\n",
    "    except:\n",
    "        print(uri, onto[ind])"
   ]
  },
  {
   "cell_type": "code",
   "execution_count": 59,
   "id": "dbb0c4f9-0cfa-418b-bd23-3910e034fc48",
   "metadata": {},
   "outputs": [],
   "source": [
    " onto.save(file = \"OntoGeoLogicaPovoadaInstanciasRelacoesComment.owl\", )"
   ]
  },
  {
   "cell_type": "code",
   "execution_count": null,
   "id": "05804351-3fdc-4be9-b151-a1e3c62e05f0",
   "metadata": {},
   "outputs": [],
   "source": []
  }
 ],
 "metadata": {
  "kernelspec": {
   "display_name": "Python 3.6",
   "language": "python",
   "name": "python3"
  },
  "language_info": {
   "codemirror_mode": {
    "name": "ipython",
    "version": 3
   },
   "file_extension": ".py",
   "mimetype": "text/x-python",
   "name": "python",
   "nbconvert_exporter": "python",
   "pygments_lexer": "ipython3",
   "version": "3.6.8"
  }
 },
 "nbformat": 4,
 "nbformat_minor": 5
}
